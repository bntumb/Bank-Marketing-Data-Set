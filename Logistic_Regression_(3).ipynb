{
  "cells": [
    {
      "cell_type": "markdown",
      "metadata": {
        "id": "view-in-github",
        "colab_type": "text"
      },
      "source": [
        "<a href=\"https://colab.research.google.com/github/bntumb/Bank-Marketing-Data-Set/blob/main/Logistic_Regression_(3).ipynb\" target=\"_parent\"><img src=\"https://colab.research.google.com/assets/colab-badge.svg\" alt=\"Open In Colab\"/></a>"
      ]
    },
    {
      "cell_type": "markdown",
      "source": [
        "<b>\n",
        "Understanding Euler's number and natural logarithm"
      ],
      "metadata": {
        "tags": [],
        "cell_id": "00077-75be9eef-804c-4e4d-876d-4bc74fceed17",
        "deepnote_cell_type": "markdown",
        "id": "ENnu031TMC6B"
      }
    },
    {
      "cell_type": "code",
      "metadata": {
        "tags": [],
        "cell_id": "00077-c676be79-755a-48bd-8027-6c44b30e0d81",
        "deepnote_to_be_reexecuted": false,
        "source_hash": "60d7fd56",
        "execution_millis": 128,
        "output_cleared": true,
        "execution_start": 1614003758781,
        "deepnote_cell_type": "code",
        "colab": {
          "base_uri": "https://localhost:8080/"
        },
        "id": "ig9v-C3xMC6E",
        "outputId": "659248fa-cccc-485b-b11f-815bc16da3fc"
      },
      "source": [
        "#what is e? it is the base rate of growth shared by all processes that continue to grow\n",
        "import math \n",
        "import numpy as np\n",
        "\n",
        "math.e"
      ],
      "execution_count": 44,
      "outputs": [
        {
          "output_type": "execute_result",
          "data": {
            "text/plain": [
              "2.718281828459045"
            ]
          },
          "metadata": {},
          "execution_count": 44
        }
      ]
    },
    {
      "cell_type": "markdown",
      "source": [
        "\n",
        "For example, if I have 5 GBP, and it grows 100% in 1 year (compounding continuously), I end up with 5*e^1 GBP:"
      ],
      "metadata": {
        "tags": [],
        "cell_id": "00079-8f81a98b-173e-4586-a546-480c3eb88831",
        "deepnote_cell_type": "markdown",
        "id": "sD38Ib3EMC6G"
      }
    },
    {
      "cell_type": "code",
      "metadata": {
        "tags": [],
        "cell_id": "00080-dd4dce2e-025d-4be1-8c05-f35c96e46ccf",
        "deepnote_to_be_reexecuted": false,
        "source_hash": "6b231bed",
        "execution_millis": 124,
        "output_cleared": true,
        "execution_start": 1614003758785,
        "deepnote_cell_type": "code",
        "colab": {
          "base_uri": "https://localhost:8080/"
        },
        "id": "umqpQu0HMC6G",
        "outputId": "56818a8b-6e8a-4a6d-b796-d9be0b01849d"
      },
      "source": [
        "#100% growth for the 1st year\n",
        "5*np.exp(1)"
      ],
      "execution_count": 45,
      "outputs": [
        {
          "output_type": "execute_result",
          "data": {
            "text/plain": [
              "13.591409142295225"
            ]
          },
          "metadata": {},
          "execution_count": 45
        }
      ]
    },
    {
      "cell_type": "code",
      "metadata": {
        "tags": [],
        "cell_id": "00081-fe51b9a3-9a54-4fa8-a665-48376fb24c6a",
        "deepnote_to_be_reexecuted": true,
        "source_hash": "dead2a88",
        "execution_millis": 9,
        "output_cleared": true,
        "deepnote_cell_type": "code",
        "id": "MrEwb5ijMC6H",
        "outputId": "6480b031-50fd-4931-d173-bacbb130b095",
        "colab": {
          "base_uri": "https://localhost:8080/"
        }
      },
      "source": [
        "#100% growth for the 2nd year\n",
        "5*np.exp(2)"
      ],
      "execution_count": 46,
      "outputs": [
        {
          "output_type": "execute_result",
          "data": {
            "text/plain": [
              "36.945280494653254"
            ]
          },
          "metadata": {},
          "execution_count": 46
        }
      ]
    },
    {
      "cell_type": "code",
      "metadata": {
        "tags": [],
        "cell_id": "00082-d2ff1dbe-9d25-481d-9e36-52a83681786f",
        "deepnote_to_be_reexecuted": true,
        "source_hash": "54292c0a",
        "execution_millis": 228,
        "output_cleared": true,
        "deepnote_cell_type": "code",
        "id": "pocyfqhpMC6H",
        "outputId": "614ee64a-409b-4f97-ff4e-007ebdd078b2",
        "colab": {
          "base_uri": "https://localhost:8080/",
          "height": 285
        }
      },
      "source": [
        "#visualise the data\n",
        "# Plot this as a curve\n",
        "plt.plot([np.exp(x) for x in range(5)])"
      ],
      "execution_count": 47,
      "outputs": [
        {
          "output_type": "execute_result",
          "data": {
            "text/plain": [
              "[<matplotlib.lines.Line2D at 0x7f5c2dce6d90>]"
            ]
          },
          "metadata": {},
          "execution_count": 47
        },
        {
          "output_type": "display_data",
          "data": {
            "text/plain": [
              "<Figure size 432x288 with 1 Axes>"
            ],
            "image/png": "[encoded data removed]"
          },
          "metadata": {
            "needs_background": "light"
          }
        }
      ]
    },
    {
      "cell_type": "markdown",
      "source": [
        "The natural logarithm gives you the time needed to reach a certain level of growth. E.g. if I want to growth by a factor of e then it will take 1 unit of time assuming 100% growth rate"
      ],
      "metadata": {
        "tags": [],
        "cell_id": "00083-341fabc3-9d03-4fc5-be3d-27f503aaa10d",
        "deepnote_cell_type": "markdown",
        "id": "otxVdHAeMC6H"
      }
    },
    {
      "cell_type": "code",
      "metadata": {
        "tags": [],
        "cell_id": "00084-bb12af33-6e01-4280-996d-e0baf09cead6",
        "deepnote_to_be_reexecuted": true,
        "source_hash": "2603a247",
        "execution_millis": 8,
        "output_cleared": true,
        "deepnote_cell_type": "code",
        "id": "5tWT6r12MC6I"
      },
      "source": [
        "#grow 1 unit to 2.718\n",
        "np.log(2.718)"
      ],
      "execution_count": null,
      "outputs": []
    },
    {
      "cell_type": "code",
      "metadata": {
        "tags": [],
        "cell_id": "00085-9ffa7eac-aa36-4a84-935c-22aedbea826d",
        "deepnote_to_be_reexecuted": true,
        "source_hash": "e3c3557a",
        "execution_millis": 7,
        "output_cleared": true,
        "deepnote_cell_type": "code",
        "id": "QSKkPX_HMC6I"
      },
      "source": [
        "#grow by 2 units\n",
        "np.log(7.389)"
      ],
      "execution_count": null,
      "outputs": []
    },
    {
      "cell_type": "markdown",
      "source": [
        "Exponential and natural log are inverse of each other"
      ],
      "metadata": {
        "tags": [],
        "cell_id": "00086-215dbaaa-dc73-4e13-b2d9-41cfe6dc9937",
        "deepnote_cell_type": "markdown",
        "id": "dk5uZe8TMC6J"
      }
    },
    {
      "cell_type": "markdown",
      "source": [
        "<b> \n",
        "Probability, Odds and Log Odds"
      ],
      "metadata": {
        "tags": [],
        "cell_id": "00000-97d6f1ab-9873-4572-8b8b-862f8bf20973",
        "deepnote_cell_type": "markdown",
        "id": "ALPxv_jpMC6K"
      }
    },
    {
      "cell_type": "markdown",
      "source": [
        "Before we can understand how logistic regression predicts its outputs, we need to understand how probability, odds ratios and log odds are related. This is because logistic regression is an algorithm that predicts log odds and our ability to understand that helps us understand logistic regression. We can think of numeric odds as ratios e.g. 5/1 odds means 5 to 1 for every 6 plays or 2/3 means 2 to 3 for every 5 plays.\n",
        "\n",
        "Examples:\n",
        "\n",
        "Dice roll of 1: probability = 1/6, odds = 1/5 = 0.2\n",
        "\n",
        "probability = odds / (1+ odds)"
      ],
      "metadata": {
        "tags": [],
        "cell_id": "00001-6e725837-c5e2-4445-ad5a-641c7da8a58a",
        "deepnote_cell_type": "markdown",
        "id": "-CbkRagXMC6K"
      }
    },
    {
      "cell_type": "markdown",
      "source": [
        "Let's look at the difference between probabilities and odds in the below code"
      ],
      "metadata": {
        "tags": [],
        "cell_id": "00002-4acfa774-5586-4367-b6fb-b9b39dfa9bfd",
        "deepnote_cell_type": "markdown",
        "id": "4_ST3-8BMC6K"
      }
    },
    {
      "cell_type": "markdown",
      "source": [
        "Calculate the probability, odds and log odds in an ordinary deck of cards:\n",
        "(Hint : You may want to use the log function from NumPy)\n",
        "- 2 of spade\n",
        "- Hearts\n",
        "- Card with Queen on it"
      ],
      "metadata": {
        "tags": [],
        "cell_id": "00003-881c6642-c85b-4c21-8fa0-fda4f105785f",
        "deepnote_cell_type": "markdown",
        "id": "-GycvISYMC6K"
      }
    },
    {
      "cell_type": "code",
      "metadata": {
        "tags": [],
        "cell_id": "00014-d78619ea-d6b7-4c22-bc81-a0ab9d186781",
        "deepnote_to_be_reexecuted": true,
        "source_hash": "8ab120ce",
        "execution_millis": 5,
        "output_cleared": true,
        "deepnote_cell_type": "code",
        "id": "koIi6jXlMC6L",
        "outputId": "971b8ec6-3bef-43dd-8a8f-c981d37b19d1",
        "colab": {
          "base_uri": "https://localhost:8080/"
        }
      },
      "source": [
        "#A 2 of spades - there are 52 cards in a deck, how many 2 of spades are there? \n",
        "#probability\n",
        "1/52"
      ],
      "execution_count": 48,
      "outputs": [
        {
          "output_type": "execute_result",
          "data": {
            "text/plain": [
              "0.019230769230769232"
            ]
          },
          "metadata": {},
          "execution_count": 48
        }
      ]
    },
    {
      "cell_type": "code",
      "metadata": {
        "tags": [],
        "cell_id": "00015-c44816bc-ca54-4177-b4b0-ebc6c18c1c2e",
        "deepnote_to_be_reexecuted": true,
        "source_hash": "57599d86",
        "execution_millis": 6,
        "output_cleared": true,
        "deepnote_cell_type": "code",
        "id": "hNR5cWBpMC6L",
        "outputId": "37b20973-14df-47e3-bce3-eda9b4eec64f",
        "colab": {
          "base_uri": "https://localhost:8080/"
        }
      },
      "source": [
        "#odds\n",
        "1/51"
      ],
      "execution_count": 49,
      "outputs": [
        {
          "output_type": "execute_result",
          "data": {
            "text/plain": [
              "0.0196078431372549"
            ]
          },
          "metadata": {},
          "execution_count": 49
        }
      ]
    },
    {
      "cell_type": "code",
      "metadata": {
        "tags": [],
        "cell_id": "00016-436864d3-dc8e-4fb1-bfce-c925a35eaba4",
        "deepnote_to_be_reexecuted": true,
        "source_hash": "eb1472b6",
        "execution_millis": 5,
        "output_cleared": true,
        "deepnote_cell_type": "code",
        "id": "R3ymo1QEMC6M",
        "outputId": "435e599d-fb93-43d8-ce27-0fea063bad0f",
        "colab": {
          "base_uri": "https://localhost:8080/"
        }
      },
      "source": [
        "#log odds\n",
        "np.log(0.02)"
      ],
      "execution_count": 50,
      "outputs": [
        {
          "output_type": "execute_result",
          "data": {
            "text/plain": [
              "-3.912023005428146"
            ]
          },
          "metadata": {},
          "execution_count": 50
        }
      ]
    },
    {
      "cell_type": "code",
      "metadata": {
        "tags": [],
        "cell_id": "00015-94b3ecd1-bf6e-4ff4-9629-2346c0237040",
        "deepnote_to_be_reexecuted": true,
        "source_hash": "2229fb4a",
        "execution_millis": 14,
        "output_cleared": true,
        "deepnote_cell_type": "code",
        "id": "SUktU1YSMC6M",
        "outputId": "a13a6fc2-7602-4862-a93e-1636b4a89468",
        "colab": {
          "base_uri": "https://localhost:8080/"
        }
      },
      "source": [
        "# all cards are divided into 4 suits, in each suit there are 13 cards which means there are 13 heart cards\n",
        "13/52"
      ],
      "execution_count": 51,
      "outputs": [
        {
          "output_type": "execute_result",
          "data": {
            "text/plain": [
              "0.25"
            ]
          },
          "metadata": {},
          "execution_count": 51
        }
      ]
    },
    {
      "cell_type": "code",
      "metadata": {
        "tags": [],
        "cell_id": "00018-d6edc83b-0d05-42c0-b7c0-18e1b636712d",
        "deepnote_to_be_reexecuted": true,
        "source_hash": "ce62c1f1",
        "execution_millis": 5,
        "output_cleared": true,
        "deepnote_cell_type": "code",
        "id": "DfhrnEbSMC6M",
        "outputId": "0ceafa32-38c8-4143-8b0e-760f2a64a599",
        "colab": {
          "base_uri": "https://localhost:8080/"
        }
      },
      "source": [
        "#odds\n",
        "13/39"
      ],
      "execution_count": 52,
      "outputs": [
        {
          "output_type": "execute_result",
          "data": {
            "text/plain": [
              "0.3333333333333333"
            ]
          },
          "metadata": {},
          "execution_count": 52
        }
      ]
    },
    {
      "cell_type": "code",
      "metadata": {
        "tags": [],
        "cell_id": "00019-aa95af74-20da-4e19-afe7-f624ed7b3473",
        "deepnote_to_be_reexecuted": true,
        "source_hash": "bdcc96dc",
        "execution_millis": 7,
        "output_cleared": true,
        "deepnote_cell_type": "code",
        "id": "xNzJeAGqMC6M",
        "outputId": "f7644cb7-4e1e-4d1f-a6fc-c8c68bb53956",
        "colab": {
          "base_uri": "https://localhost:8080/"
        }
      },
      "source": [
        "#log odds\n",
        "np.log(0.33)"
      ],
      "execution_count": 53,
      "outputs": [
        {
          "output_type": "execute_result",
          "data": {
            "text/plain": [
              "-1.1086626245216111"
            ]
          },
          "metadata": {},
          "execution_count": 53
        }
      ]
    },
    {
      "cell_type": "code",
      "metadata": {
        "tags": [],
        "cell_id": "00016-ad007694-adab-4aa3-b312-41509b2a1bdb",
        "deepnote_to_be_reexecuted": true,
        "source_hash": "b80a3fef",
        "execution_millis": 8,
        "output_cleared": true,
        "deepnote_cell_type": "code",
        "id": "xCOCw6V1MC6N",
        "outputId": "42b68b65-26a6-46c8-b189-9a90e6092d03",
        "colab": {
          "base_uri": "https://localhost:8080/"
        }
      },
      "source": [
        "# if there are 4 suits and each suit has a queen then there are 4 queens\n",
        "4/52"
      ],
      "execution_count": 54,
      "outputs": [
        {
          "output_type": "execute_result",
          "data": {
            "text/plain": [
              "0.07692307692307693"
            ]
          },
          "metadata": {},
          "execution_count": 54
        }
      ]
    },
    {
      "cell_type": "code",
      "metadata": {
        "tags": [],
        "cell_id": "00021-4c13d4b2-055d-48ef-aaa1-5856c2311b7a",
        "deepnote_to_be_reexecuted": true,
        "source_hash": "3fe4a237",
        "execution_millis": 5,
        "output_cleared": true,
        "deepnote_cell_type": "code",
        "id": "3_vERci8MC6N"
      },
      "source": [
        "4/48"
      ],
      "execution_count": null,
      "outputs": []
    },
    {
      "cell_type": "code",
      "metadata": {
        "tags": [],
        "cell_id": "00022-e3a6e5c5-6489-4f40-b94b-f963c357932f",
        "deepnote_to_be_reexecuted": true,
        "source_hash": "1d6971c0",
        "execution_millis": 10,
        "output_cleared": true,
        "deepnote_cell_type": "code",
        "id": "4h-7SJ8gMC6N"
      },
      "source": [
        "np.log(0.083)"
      ],
      "execution_count": null,
      "outputs": []
    },
    {
      "cell_type": "markdown",
      "source": [
        "Linear models are based on ordinary least squares algorithms - plotting a function as close to modelling most of the observed data points in the problem domain \n",
        "\n",
        "Logistic regression: log odds of a categorical response being true is modeled as a linear combination of the features aka a logit function.\n",
        "\n",
        "In simple terms:\n",
        "- Logistic regression outputs the probabilities of a specific class.\n",
        "- Those probabilities can be converted into class predictions.\n",
        "\n",
        "The logistic function has some nice properties:\n",
        "- Takes on an \"s\" shape\n",
        "- Output is bounded by 0 and 1"
      ],
      "metadata": {
        "tags": [],
        "cell_id": "00000-166cbb97-f466-4b23-a75d-d0ee074e4611",
        "deepnote_cell_type": "markdown",
        "id": "bY_fLIn9MC6N"
      }
    },
    {
      "cell_type": "markdown",
      "source": [
        "Use Pandas to load in the direct marketing data from the UCI machine learning website.\n",
        "The columns are different attributes which helps determine whether the client will subscribe to a term deposit (1 = yes, 0 = no)"
      ],
      "metadata": {
        "tags": [],
        "cell_id": "00001-b5ac1558-3585-4f50-8096-ed4e2037b8e6",
        "deepnote_cell_type": "markdown",
        "id": "gvAl1Wn1MC6N"
      }
    },
    {
      "cell_type": "code",
      "metadata": {
        "tags": [],
        "cell_id": "00001-4b32540b-cfc9-4c7e-92cf-b898bad65cb7",
        "deepnote_to_be_reexecuted": false,
        "source_hash": "496eeb08",
        "execution_millis": 0,
        "output_cleared": true,
        "execution_start": 1614031540087,
        "deepnote_cell_type": "code",
        "id": "x0j2Hma9MC6O"
      },
      "source": [
        "import pandas as pd\n",
        "from sklearn import preprocessing\n",
        "import matplotlib.pyplot as plt \n",
        "plt.rc(\"font\", size=14)\n",
        "from sklearn.linear_model import LogisticRegression\n",
        "from sklearn.model_selection import train_test_split\n",
        "import seaborn as sns\n",
        "sns.set(style=\"white\")\n",
        "sns.set(style=\"whitegrid\", color_codes=True)"
      ],
      "execution_count": 1,
      "outputs": []
    },
    {
      "cell_type": "code",
      "metadata": {
        "tags": [],
        "cell_id": "00003-cb61af86-b8d0-496d-8ac4-cc290e232c1e",
        "deepnote_to_be_reexecuted": false,
        "source_hash": "39f2cc16",
        "execution_millis": 73,
        "output_cleared": true,
        "execution_start": 1614031542508,
        "deepnote_cell_type": "code",
        "id": "gq_uCGImMC6O"
      },
      "source": [
        "data = pd.read_csv('https://raw.githubusercontent.com/bntumb/Bank-Marketing-Data-Set/main/bank.csv', sep=';')"
      ],
      "execution_count": 6,
      "outputs": []
    },
    {
      "cell_type": "code",
      "metadata": {
        "tags": [],
        "cell_id": "00004-ddc818d2-b49b-47dd-8b9d-70fef9f7bded",
        "deepnote_to_be_reexecuted": true,
        "source_hash": "41313cfa",
        "execution_millis": 19,
        "output_cleared": true,
        "deepnote_cell_type": "code",
        "id": "N1uVEMs6MC6O",
        "outputId": "90139697-1983-43fb-f9a0-2baf990f8f11",
        "colab": {
          "base_uri": "https://localhost:8080/",
          "height": 206
        }
      },
      "source": [
        "data.head()\n"
      ],
      "execution_count": 7,
      "outputs": [
        {
          "output_type": "execute_result",
          "data": {
            "text/plain": [
              "   age          job  marital  education default  balance housing loan  \\\n",
              "0   30   unemployed  married    primary      no     1787      no   no   \n",
              "1   33     services  married  secondary      no     4789     yes  yes   \n",
              "2   35   management   single   tertiary      no     1350     yes   no   \n",
              "3   30   management  married   tertiary      no     1476     yes  yes   \n",
              "4   59  blue-collar  married  secondary      no        0     yes   no   \n",
              "\n",
              "    contact  day month  duration  campaign  pdays  previous poutcome   y  \n",
              "0  cellular   19   oct        79         1     -1         0  unknown  no  \n",
              "1  cellular   11   may       220         1    339         4  failure  no  \n",
              "2  cellular   16   apr       185         1    330         1  failure  no  \n",
              "3   unknown    3   jun       199         4     -1         0  unknown  no  \n",
              "4   unknown    5   may       226         1     -1         0  unknown  no  "
            ],
            "text/html": [
              "\n",
              "  <div id=\"df-9b0fd71b-64a0-4216-8c50-1b45ad393cd6\">\n",
              "    <div class=\"colab-df-container\">\n",
              "      <div>\n",
              "<style scoped>\n",
              "    .dataframe tbody tr th:only-of-type {\n",
              "        vertical-align: middle;\n",
              "    }\n",
              "\n",
              "    .dataframe tbody tr th {\n",
              "        vertical-align: top;\n",
              "    }\n",
              "\n",
              "    .dataframe thead th {\n",
              "        text-align: right;\n",
              "    }\n",
              "</style>\n",
              "<table border=\"1\" class=\"dataframe\">\n",
              "  <thead>\n",
              "    <tr style=\"text-align: right;\">\n",
              "      <th></th>\n",
              "      <th>age</th>\n",
              "      <th>job</th>\n",
              "      <th>marital</th>\n",
              "      <th>education</th>\n",
              "      <th>default</th>\n",
              "      <th>balance</th>\n",
              "      <th>housing</th>\n",
              "      <th>loan</th>\n",
              "      <th>contact</th>\n",
              "      <th>day</th>\n",
              "      <th>month</th>\n",
              "      <th>duration</th>\n",
              "      <th>campaign</th>\n",
              "      <th>pdays</th>\n",
              "      <th>previous</th>\n",
              "      <th>poutcome</th>\n",
              "      <th>y</th>\n",
              "    </tr>\n",
              "  </thead>\n",
              "  <tbody>\n",
              "    <tr>\n",
              "      <th>0</th>\n",
              "      <td>30</td>\n",
              "      <td>unemployed</td>\n",
              "      <td>married</td>\n",
              "      <td>primary</td>\n",
              "      <td>no</td>\n",
              "      <td>1787</td>\n",
              "      <td>no</td>\n",
              "      <td>no</td>\n",
              "      <td>cellular</td>\n",
              "      <td>19</td>\n",
              "      <td>oct</td>\n",
              "      <td>79</td>\n",
              "      <td>1</td>\n",
              "      <td>-1</td>\n",
              "      <td>0</td>\n",
              "      <td>unknown</td>\n",
              "      <td>no</td>\n",
              "    </tr>\n",
              "    <tr>\n",
              "      <th>1</th>\n",
              "      <td>33</td>\n",
              "      <td>services</td>\n",
              "      <td>married</td>\n",
              "      <td>secondary</td>\n",
              "      <td>no</td>\n",
              "      <td>4789</td>\n",
              "      <td>yes</td>\n",
              "      <td>yes</td>\n",
              "      <td>cellular</td>\n",
              "      <td>11</td>\n",
              "      <td>may</td>\n",
              "      <td>220</td>\n",
              "      <td>1</td>\n",
              "      <td>339</td>\n",
              "      <td>4</td>\n",
              "      <td>failure</td>\n",
              "      <td>no</td>\n",
              "    </tr>\n",
              "    <tr>\n",
              "      <th>2</th>\n",
              "      <td>35</td>\n",
              "      <td>management</td>\n",
              "      <td>single</td>\n",
              "      <td>tertiary</td>\n",
              "      <td>no</td>\n",
              "      <td>1350</td>\n",
              "      <td>yes</td>\n",
              "      <td>no</td>\n",
              "      <td>cellular</td>\n",
              "      <td>16</td>\n",
              "      <td>apr</td>\n",
              "      <td>185</td>\n",
              "      <td>1</td>\n",
              "      <td>330</td>\n",
              "      <td>1</td>\n",
              "      <td>failure</td>\n",
              "      <td>no</td>\n",
              "    </tr>\n",
              "    <tr>\n",
              "      <th>3</th>\n",
              "      <td>30</td>\n",
              "      <td>management</td>\n",
              "      <td>married</td>\n",
              "      <td>tertiary</td>\n",
              "      <td>no</td>\n",
              "      <td>1476</td>\n",
              "      <td>yes</td>\n",
              "      <td>yes</td>\n",
              "      <td>unknown</td>\n",
              "      <td>3</td>\n",
              "      <td>jun</td>\n",
              "      <td>199</td>\n",
              "      <td>4</td>\n",
              "      <td>-1</td>\n",
              "      <td>0</td>\n",
              "      <td>unknown</td>\n",
              "      <td>no</td>\n",
              "    </tr>\n",
              "    <tr>\n",
              "      <th>4</th>\n",
              "      <td>59</td>\n",
              "      <td>blue-collar</td>\n",
              "      <td>married</td>\n",
              "      <td>secondary</td>\n",
              "      <td>no</td>\n",
              "      <td>0</td>\n",
              "      <td>yes</td>\n",
              "      <td>no</td>\n",
              "      <td>unknown</td>\n",
              "      <td>5</td>\n",
              "      <td>may</td>\n",
              "      <td>226</td>\n",
              "      <td>1</td>\n",
              "      <td>-1</td>\n",
              "      <td>0</td>\n",
              "      <td>unknown</td>\n",
              "      <td>no</td>\n",
              "    </tr>\n",
              "  </tbody>\n",
              "</table>\n",
              "</div>\n",
              "      <button class=\"colab-df-convert\" onclick=\"convertToInteractive('df-9b0fd71b-64a0-4216-8c50-1b45ad393cd6')\"\n",
              "              title=\"Convert this dataframe to an interactive table.\"\n",
              "              style=\"display:none;\">\n",
              "        \n",
              "  <svg xmlns=\"http://www.w3.org/2000/svg\" height=\"24px\"viewBox=\"0 0 24 24\"\n",
              "       width=\"24px\">\n",
              "    <path d=\"M0 0h24v24H0V0z\" fill=\"none\"/>\n",
              "    <path d=\"M18.56 5.44l.94 2.06.94-2.06 2.06-.94-2.06-.94-.94-2.06-.94 2.06-2.06.94zm-11 1L8.5 8.5l.94-2.06 2.06-.94-2.06-.94L8.5 2.5l-.94 2.06-2.06.94zm10 10l.94 2.06.94-2.06 2.06-.94-2.06-.94-.94-2.06-.94 2.06-2.06.94z\"/><path d=\"M17.41 7.96l-1.37-1.37c-.4-.4-.92-.59-1.43-.59-.52 0-1.04.2-1.43.59L10.3 9.45l-7.72 7.72c-.78.78-.78 2.05 0 2.83L4 21.41c.39.39.9.59 1.41.59.51 0 1.02-.2 1.41-.59l7.78-7.78 2.81-2.81c.8-.78.8-2.07 0-2.86zM5.41 20L4 18.59l7.72-7.72 1.47 1.35L5.41 20z\"/>\n",
              "  </svg>\n",
              "      </button>\n",
              "      \n",
              "  <style>\n",
              "    .colab-df-container {\n",
              "      display:flex;\n",
              "      flex-wrap:wrap;\n",
              "      gap: 12px;\n",
              "    }\n",
              "\n",
              "    .colab-df-convert {\n",
              "      background-color: #E8F0FE;\n",
              "      border: none;\n",
              "      border-radius: 50%;\n",
              "      cursor: pointer;\n",
              "      display: none;\n",
              "      fill: #1967D2;\n",
              "      height: 32px;\n",
              "      padding: 0 0 0 0;\n",
              "      width: 32px;\n",
              "    }\n",
              "\n",
              "    .colab-df-convert:hover {\n",
              "      background-color: #E2EBFA;\n",
              "      box-shadow: 0px 1px 2px rgba(60, 64, 67, 0.3), 0px 1px 3px 1px rgba(60, 64, 67, 0.15);\n",
              "      fill: #174EA6;\n",
              "    }\n",
              "\n",
              "    [theme=dark] .colab-df-convert {\n",
              "      background-color: #3B4455;\n",
              "      fill: #D2E3FC;\n",
              "    }\n",
              "\n",
              "    [theme=dark] .colab-df-convert:hover {\n",
              "      background-color: #434B5C;\n",
              "      box-shadow: 0px 1px 3px 1px rgba(0, 0, 0, 0.15);\n",
              "      filter: drop-shadow(0px 1px 2px rgba(0, 0, 0, 0.3));\n",
              "      fill: #FFFFFF;\n",
              "    }\n",
              "  </style>\n",
              "\n",
              "      <script>\n",
              "        const buttonEl =\n",
              "          document.querySelector('#df-9b0fd71b-64a0-4216-8c50-1b45ad393cd6 button.colab-df-convert');\n",
              "        buttonEl.style.display =\n",
              "          google.colab.kernel.accessAllowed ? 'block' : 'none';\n",
              "\n",
              "        async function convertToInteractive(key) {\n",
              "          const element = document.querySelector('#df-9b0fd71b-64a0-4216-8c50-1b45ad393cd6');\n",
              "          const dataTable =\n",
              "            await google.colab.kernel.invokeFunction('convertToInteractive',\n",
              "                                                     [key], {});\n",
              "          if (!dataTable) return;\n",
              "\n",
              "          const docLinkHtml = 'Like what you see? Visit the ' +\n",
              "            '<a target=\"_blank\" href=https://colab.research.google.com/notebooks/data_table.ipynb>data table notebook</a>'\n",
              "            + ' to learn more about interactive tables.';\n",
              "          element.innerHTML = '';\n",
              "          dataTable['output_type'] = 'display_data';\n",
              "          await google.colab.output.renderOutput(dataTable, element);\n",
              "          const docLink = document.createElement('div');\n",
              "          docLink.innerHTML = docLinkHtml;\n",
              "          element.appendChild(docLink);\n",
              "        }\n",
              "      </script>\n",
              "    </div>\n",
              "  </div>\n",
              "  "
            ]
          },
          "metadata": {},
          "execution_count": 7
        }
      ]
    },
    {
      "cell_type": "code",
      "metadata": {
        "tags": [],
        "cell_id": "00007-00041eaf-9bc6-4cd1-9d7d-4b7f476f2e6c",
        "deepnote_to_be_reexecuted": false,
        "source_hash": "25f19ce5",
        "execution_millis": 11,
        "output_cleared": true,
        "execution_start": 1614004149931,
        "deepnote_cell_type": "code",
        "id": "mJainMhtMC6O",
        "outputId": "307266c4-d66d-4812-aada-293a03392591",
        "colab": {
          "base_uri": "https://localhost:8080/"
        }
      },
      "source": [
        "#start exploring the data\n",
        "data['y'].value_counts()"
      ],
      "execution_count": 8,
      "outputs": [
        {
          "output_type": "execute_result",
          "data": {
            "text/plain": [
              "no     4000\n",
              "yes     521\n",
              "Name: y, dtype: int64"
            ]
          },
          "metadata": {},
          "execution_count": 8
        }
      ]
    },
    {
      "cell_type": "code",
      "metadata": {
        "tags": [],
        "cell_id": "00008-2e225a87-cd9f-46ef-be58-10e64cbed27d",
        "deepnote_to_be_reexecuted": false,
        "source_hash": "2fa8a160",
        "execution_millis": 182,
        "output_cleared": true,
        "execution_start": 1614003796883,
        "deepnote_cell_type": "code",
        "id": "Pm7lex_KMC6O",
        "outputId": "0b62b227-464f-408c-9576-d7ff49c8886b",
        "colab": {
          "base_uri": "https://localhost:8080/",
          "height": 302
        }
      },
      "source": [
        "sns.countplot(x = 'y', data = data, palette = 'hls')\n",
        "plt.show()\n",
        "plt.savefig('count_plot')"
      ],
      "execution_count": 9,
      "outputs": [
        {
          "output_type": "display_data",
          "data": {
            "text/plain": [
              "<Figure size 432x288 with 1 Axes>"
            ],
            "image/png": "[encoded data removed]"
          },
          "metadata": {
            "needs_background": "light"
          }
        },
        {
          "output_type": "display_data",
          "data": {
            "text/plain": [
              "<Figure size 432x288 with 0 Axes>"
            ]
          },
          "metadata": {}
        }
      ]
    },
    {
      "cell_type": "code",
      "metadata": {
        "tags": [],
        "cell_id": "00007-7f47e9ec-4391-46ec-bbdc-e58be77fa58b",
        "deepnote_to_be_reexecuted": false,
        "source_hash": "7cae0dbb",
        "execution_millis": 8,
        "output_cleared": true,
        "execution_start": 1614031546057,
        "deepnote_cell_type": "code",
        "id": "D5zgIaVoMC6O"
      },
      "source": [
        "data['y'] = data['y'].map({'yes': 1, 'no': 0})"
      ],
      "execution_count": 10,
      "outputs": []
    },
    {
      "cell_type": "code",
      "metadata": {
        "tags": [],
        "cell_id": "00008-22106edd-d862-4db1-b36a-8f23df2e92bb",
        "deepnote_to_be_reexecuted": false,
        "source_hash": "acfd7af2",
        "execution_millis": 53,
        "output_cleared": true,
        "execution_start": 1614003807654,
        "deepnote_cell_type": "code",
        "id": "xNmQ52IYMC6P",
        "outputId": "68c2bb3d-88c3-436c-9508-3955cff28303",
        "colab": {
          "base_uri": "https://localhost:8080/",
          "height": 206
        }
      },
      "source": [
        "#start exploring the data\n",
        "data.head()"
      ],
      "execution_count": 11,
      "outputs": [
        {
          "output_type": "execute_result",
          "data": {
            "text/plain": [
              "   age          job  marital  education default  balance housing loan  \\\n",
              "0   30   unemployed  married    primary      no     1787      no   no   \n",
              "1   33     services  married  secondary      no     4789     yes  yes   \n",
              "2   35   management   single   tertiary      no     1350     yes   no   \n",
              "3   30   management  married   tertiary      no     1476     yes  yes   \n",
              "4   59  blue-collar  married  secondary      no        0     yes   no   \n",
              "\n",
              "    contact  day month  duration  campaign  pdays  previous poutcome  y  \n",
              "0  cellular   19   oct        79         1     -1         0  unknown  0  \n",
              "1  cellular   11   may       220         1    339         4  failure  0  \n",
              "2  cellular   16   apr       185         1    330         1  failure  0  \n",
              "3   unknown    3   jun       199         4     -1         0  unknown  0  \n",
              "4   unknown    5   may       226         1     -1         0  unknown  0  "
            ],
            "text/html": [
              "\n",
              "  <div id=\"df-49e82869-bfa6-4fc7-86a2-b39a2c54996e\">\n",
              "    <div class=\"colab-df-container\">\n",
              "      <div>\n",
              "<style scoped>\n",
              "    .dataframe tbody tr th:only-of-type {\n",
              "        vertical-align: middle;\n",
              "    }\n",
              "\n",
              "    .dataframe tbody tr th {\n",
              "        vertical-align: top;\n",
              "    }\n",
              "\n",
              "    .dataframe thead th {\n",
              "        text-align: right;\n",
              "    }\n",
              "</style>\n",
              "<table border=\"1\" class=\"dataframe\">\n",
              "  <thead>\n",
              "    <tr style=\"text-align: right;\">\n",
              "      <th></th>\n",
              "      <th>age</th>\n",
              "      <th>job</th>\n",
              "      <th>marital</th>\n",
              "      <th>education</th>\n",
              "      <th>default</th>\n",
              "      <th>balance</th>\n",
              "      <th>housing</th>\n",
              "      <th>loan</th>\n",
              "      <th>contact</th>\n",
              "      <th>day</th>\n",
              "      <th>month</th>\n",
              "      <th>duration</th>\n",
              "      <th>campaign</th>\n",
              "      <th>pdays</th>\n",
              "      <th>previous</th>\n",
              "      <th>poutcome</th>\n",
              "      <th>y</th>\n",
              "    </tr>\n",
              "  </thead>\n",
              "  <tbody>\n",
              "    <tr>\n",
              "      <th>0</th>\n",
              "      <td>30</td>\n",
              "      <td>unemployed</td>\n",
              "      <td>married</td>\n",
              "      <td>primary</td>\n",
              "      <td>no</td>\n",
              "      <td>1787</td>\n",
              "      <td>no</td>\n",
              "      <td>no</td>\n",
              "      <td>cellular</td>\n",
              "      <td>19</td>\n",
              "      <td>oct</td>\n",
              "      <td>79</td>\n",
              "      <td>1</td>\n",
              "      <td>-1</td>\n",
              "      <td>0</td>\n",
              "      <td>unknown</td>\n",
              "      <td>0</td>\n",
              "    </tr>\n",
              "    <tr>\n",
              "      <th>1</th>\n",
              "      <td>33</td>\n",
              "      <td>services</td>\n",
              "      <td>married</td>\n",
              "      <td>secondary</td>\n",
              "      <td>no</td>\n",
              "      <td>4789</td>\n",
              "      <td>yes</td>\n",
              "      <td>yes</td>\n",
              "      <td>cellular</td>\n",
              "      <td>11</td>\n",
              "      <td>may</td>\n",
              "      <td>220</td>\n",
              "      <td>1</td>\n",
              "      <td>339</td>\n",
              "      <td>4</td>\n",
              "      <td>failure</td>\n",
              "      <td>0</td>\n",
              "    </tr>\n",
              "    <tr>\n",
              "      <th>2</th>\n",
              "      <td>35</td>\n",
              "      <td>management</td>\n",
              "      <td>single</td>\n",
              "      <td>tertiary</td>\n",
              "      <td>no</td>\n",
              "      <td>1350</td>\n",
              "      <td>yes</td>\n",
              "      <td>no</td>\n",
              "      <td>cellular</td>\n",
              "      <td>16</td>\n",
              "      <td>apr</td>\n",
              "      <td>185</td>\n",
              "      <td>1</td>\n",
              "      <td>330</td>\n",
              "      <td>1</td>\n",
              "      <td>failure</td>\n",
              "      <td>0</td>\n",
              "    </tr>\n",
              "    <tr>\n",
              "      <th>3</th>\n",
              "      <td>30</td>\n",
              "      <td>management</td>\n",
              "      <td>married</td>\n",
              "      <td>tertiary</td>\n",
              "      <td>no</td>\n",
              "      <td>1476</td>\n",
              "      <td>yes</td>\n",
              "      <td>yes</td>\n",
              "      <td>unknown</td>\n",
              "      <td>3</td>\n",
              "      <td>jun</td>\n",
              "      <td>199</td>\n",
              "      <td>4</td>\n",
              "      <td>-1</td>\n",
              "      <td>0</td>\n",
              "      <td>unknown</td>\n",
              "      <td>0</td>\n",
              "    </tr>\n",
              "    <tr>\n",
              "      <th>4</th>\n",
              "      <td>59</td>\n",
              "      <td>blue-collar</td>\n",
              "      <td>married</td>\n",
              "      <td>secondary</td>\n",
              "      <td>no</td>\n",
              "      <td>0</td>\n",
              "      <td>yes</td>\n",
              "      <td>no</td>\n",
              "      <td>unknown</td>\n",
              "      <td>5</td>\n",
              "      <td>may</td>\n",
              "      <td>226</td>\n",
              "      <td>1</td>\n",
              "      <td>-1</td>\n",
              "      <td>0</td>\n",
              "      <td>unknown</td>\n",
              "      <td>0</td>\n",
              "    </tr>\n",
              "  </tbody>\n",
              "</table>\n",
              "</div>\n",
              "      <button class=\"colab-df-convert\" onclick=\"convertToInteractive('df-49e82869-bfa6-4fc7-86a2-b39a2c54996e')\"\n",
              "              title=\"Convert this dataframe to an interactive table.\"\n",
              "              style=\"display:none;\">\n",
              "        \n",
              "  <svg xmlns=\"http://www.w3.org/2000/svg\" height=\"24px\"viewBox=\"0 0 24 24\"\n",
              "       width=\"24px\">\n",
              "    <path d=\"M0 0h24v24H0V0z\" fill=\"none\"/>\n",
              "    <path d=\"M18.56 5.44l.94 2.06.94-2.06 2.06-.94-2.06-.94-.94-2.06-.94 2.06-2.06.94zm-11 1L8.5 8.5l.94-2.06 2.06-.94-2.06-.94L8.5 2.5l-.94 2.06-2.06.94zm10 10l.94 2.06.94-2.06 2.06-.94-2.06-.94-.94-2.06-.94 2.06-2.06.94z\"/><path d=\"M17.41 7.96l-1.37-1.37c-.4-.4-.92-.59-1.43-.59-.52 0-1.04.2-1.43.59L10.3 9.45l-7.72 7.72c-.78.78-.78 2.05 0 2.83L4 21.41c.39.39.9.59 1.41.59.51 0 1.02-.2 1.41-.59l7.78-7.78 2.81-2.81c.8-.78.8-2.07 0-2.86zM5.41 20L4 18.59l7.72-7.72 1.47 1.35L5.41 20z\"/>\n",
              "  </svg>\n",
              "      </button>\n",
              "      \n",
              "  <style>\n",
              "    .colab-df-container {\n",
              "      display:flex;\n",
              "      flex-wrap:wrap;\n",
              "      gap: 12px;\n",
              "    }\n",
              "\n",
              "    .colab-df-convert {\n",
              "      background-color: #E8F0FE;\n",
              "      border: none;\n",
              "      border-radius: 50%;\n",
              "      cursor: pointer;\n",
              "      display: none;\n",
              "      fill: #1967D2;\n",
              "      height: 32px;\n",
              "      padding: 0 0 0 0;\n",
              "      width: 32px;\n",
              "    }\n",
              "\n",
              "    .colab-df-convert:hover {\n",
              "      background-color: #E2EBFA;\n",
              "      box-shadow: 0px 1px 2px rgba(60, 64, 67, 0.3), 0px 1px 3px 1px rgba(60, 64, 67, 0.15);\n",
              "      fill: #174EA6;\n",
              "    }\n",
              "\n",
              "    [theme=dark] .colab-df-convert {\n",
              "      background-color: #3B4455;\n",
              "      fill: #D2E3FC;\n",
              "    }\n",
              "\n",
              "    [theme=dark] .colab-df-convert:hover {\n",
              "      background-color: #434B5C;\n",
              "      box-shadow: 0px 1px 3px 1px rgba(0, 0, 0, 0.15);\n",
              "      filter: drop-shadow(0px 1px 2px rgba(0, 0, 0, 0.3));\n",
              "      fill: #FFFFFF;\n",
              "    }\n",
              "  </style>\n",
              "\n",
              "      <script>\n",
              "        const buttonEl =\n",
              "          document.querySelector('#df-49e82869-bfa6-4fc7-86a2-b39a2c54996e button.colab-df-convert');\n",
              "        buttonEl.style.display =\n",
              "          google.colab.kernel.accessAllowed ? 'block' : 'none';\n",
              "\n",
              "        async function convertToInteractive(key) {\n",
              "          const element = document.querySelector('#df-49e82869-bfa6-4fc7-86a2-b39a2c54996e');\n",
              "          const dataTable =\n",
              "            await google.colab.kernel.invokeFunction('convertToInteractive',\n",
              "                                                     [key], {});\n",
              "          if (!dataTable) return;\n",
              "\n",
              "          const docLinkHtml = 'Like what you see? Visit the ' +\n",
              "            '<a target=\"_blank\" href=https://colab.research.google.com/notebooks/data_table.ipynb>data table notebook</a>'\n",
              "            + ' to learn more about interactive tables.';\n",
              "          element.innerHTML = '';\n",
              "          dataTable['output_type'] = 'display_data';\n",
              "          await google.colab.output.renderOutput(dataTable, element);\n",
              "          const docLink = document.createElement('div');\n",
              "          docLink.innerHTML = docLinkHtml;\n",
              "          element.appendChild(docLink);\n",
              "        }\n",
              "      </script>\n",
              "    </div>\n",
              "  </div>\n",
              "  "
            ]
          },
          "metadata": {},
          "execution_count": 11
        }
      ]
    },
    {
      "cell_type": "code",
      "metadata": {
        "tags": [],
        "cell_id": "00007-85678dff-b4b6-468f-b35b-6ff4b4077a94",
        "deepnote_to_be_reexecuted": false,
        "source_hash": "ae5e5fc8",
        "execution_millis": 18,
        "output_cleared": false,
        "execution_start": 1614031548429,
        "deepnote_cell_type": "code",
        "id": "C68OYsfSMC6P",
        "outputId": "ddb966a6-10e1-44f2-82e9-93630d037f1d",
        "colab": {
          "base_uri": "https://localhost:8080/"
        }
      },
      "source": [
        "count_no_sub = len(data[data['y']==0])\n",
        "count_sub = len(data[data['y']==1])\n",
        "pct_of_no_sub = count_no_sub/(count_no_sub+count_sub)\n",
        "print(\"percentage of no subscription is\", pct_of_no_sub*100)\n",
        "pct_of_sub = count_sub/(count_no_sub+count_sub)\n",
        "print(\"percentage of subscription\", pct_of_sub*100)"
      ],
      "execution_count": 12,
      "outputs": [
        {
          "output_type": "stream",
          "name": "stdout",
          "text": [
            "percentage of no subscription is 88.47600088476001\n",
            "percentage of subscription 11.523999115239992\n"
          ]
        }
      ]
    },
    {
      "cell_type": "markdown",
      "source": [
        "Our classes are imbalanced, and the ratio of no-subscription to subscription instances is 89:11. Before we go ahead to balance the classes, let’s do some more exploration."
      ],
      "metadata": {
        "tags": [],
        "cell_id": "00010-0c54a8ef-7099-4400-882c-e3328c2a778b",
        "deepnote_cell_type": "markdown",
        "id": "3ZBYcpp9MC6P"
      }
    },
    {
      "cell_type": "code",
      "metadata": {
        "tags": [],
        "cell_id": "00010-64fd1769-df21-47a4-bd71-90adb8aeca40",
        "deepnote_to_be_reexecuted": false,
        "source_hash": "a61306af",
        "execution_millis": 62,
        "output_cleared": true,
        "execution_start": 1614004160132,
        "deepnote_cell_type": "code",
        "id": "6ax-9KOLMC6Q",
        "outputId": "baa918c2-14cd-455f-a170-b27cc9061e61",
        "colab": {
          "base_uri": "https://localhost:8080/",
          "height": 143
        }
      },
      "source": [
        "data.groupby('y').mean()"
      ],
      "execution_count": 13,
      "outputs": [
        {
          "output_type": "execute_result",
          "data": {
            "text/plain": [
              "         age      balance        day    duration  campaign      pdays  \\\n",
              "y                                                                       \n",
              "0  40.998000  1403.211750  15.948750  226.347500  2.862250  36.006000   \n",
              "1  42.491363  1571.955854  15.658349  552.742802  2.266795  68.639155   \n",
              "\n",
              "   previous  \n",
              "y            \n",
              "0  0.471250  \n",
              "1  1.090211  "
            ],
            "text/html": [
              "\n",
              "  <div id=\"df-d00f689f-419e-405f-a68e-11eb92dd44e0\">\n",
              "    <div class=\"colab-df-container\">\n",
              "      <div>\n",
              "<style scoped>\n",
              "    .dataframe tbody tr th:only-of-type {\n",
              "        vertical-align: middle;\n",
              "    }\n",
              "\n",
              "    .dataframe tbody tr th {\n",
              "        vertical-align: top;\n",
              "    }\n",
              "\n",
              "    .dataframe thead th {\n",
              "        text-align: right;\n",
              "    }\n",
              "</style>\n",
              "<table border=\"1\" class=\"dataframe\">\n",
              "  <thead>\n",
              "    <tr style=\"text-align: right;\">\n",
              "      <th></th>\n",
              "      <th>age</th>\n",
              "      <th>balance</th>\n",
              "      <th>day</th>\n",
              "      <th>duration</th>\n",
              "      <th>campaign</th>\n",
              "      <th>pdays</th>\n",
              "      <th>previous</th>\n",
              "    </tr>\n",
              "    <tr>\n",
              "      <th>y</th>\n",
              "      <th></th>\n",
              "      <th></th>\n",
              "      <th></th>\n",
              "      <th></th>\n",
              "      <th></th>\n",
              "      <th></th>\n",
              "      <th></th>\n",
              "    </tr>\n",
              "  </thead>\n",
              "  <tbody>\n",
              "    <tr>\n",
              "      <th>0</th>\n",
              "      <td>40.998000</td>\n",
              "      <td>1403.211750</td>\n",
              "      <td>15.948750</td>\n",
              "      <td>226.347500</td>\n",
              "      <td>2.862250</td>\n",
              "      <td>36.006000</td>\n",
              "      <td>0.471250</td>\n",
              "    </tr>\n",
              "    <tr>\n",
              "      <th>1</th>\n",
              "      <td>42.491363</td>\n",
              "      <td>1571.955854</td>\n",
              "      <td>15.658349</td>\n",
              "      <td>552.742802</td>\n",
              "      <td>2.266795</td>\n",
              "      <td>68.639155</td>\n",
              "      <td>1.090211</td>\n",
              "    </tr>\n",
              "  </tbody>\n",
              "</table>\n",
              "</div>\n",
              "      <button class=\"colab-df-convert\" onclick=\"convertToInteractive('df-d00f689f-419e-405f-a68e-11eb92dd44e0')\"\n",
              "              title=\"Convert this dataframe to an interactive table.\"\n",
              "              style=\"display:none;\">\n",
              "        \n",
              "  <svg xmlns=\"http://www.w3.org/2000/svg\" height=\"24px\"viewBox=\"0 0 24 24\"\n",
              "       width=\"24px\">\n",
              "    <path d=\"M0 0h24v24H0V0z\" fill=\"none\"/>\n",
              "    <path d=\"M18.56 5.44l.94 2.06.94-2.06 2.06-.94-2.06-.94-.94-2.06-.94 2.06-2.06.94zm-11 1L8.5 8.5l.94-2.06 2.06-.94-2.06-.94L8.5 2.5l-.94 2.06-2.06.94zm10 10l.94 2.06.94-2.06 2.06-.94-2.06-.94-.94-2.06-.94 2.06-2.06.94z\"/><path d=\"M17.41 7.96l-1.37-1.37c-.4-.4-.92-.59-1.43-.59-.52 0-1.04.2-1.43.59L10.3 9.45l-7.72 7.72c-.78.78-.78 2.05 0 2.83L4 21.41c.39.39.9.59 1.41.59.51 0 1.02-.2 1.41-.59l7.78-7.78 2.81-2.81c.8-.78.8-2.07 0-2.86zM5.41 20L4 18.59l7.72-7.72 1.47 1.35L5.41 20z\"/>\n",
              "  </svg>\n",
              "      </button>\n",
              "      \n",
              "  <style>\n",
              "    .colab-df-container {\n",
              "      display:flex;\n",
              "      flex-wrap:wrap;\n",
              "      gap: 12px;\n",
              "    }\n",
              "\n",
              "    .colab-df-convert {\n",
              "      background-color: #E8F0FE;\n",
              "      border: none;\n",
              "      border-radius: 50%;\n",
              "      cursor: pointer;\n",
              "      display: none;\n",
              "      fill: #1967D2;\n",
              "      height: 32px;\n",
              "      padding: 0 0 0 0;\n",
              "      width: 32px;\n",
              "    }\n",
              "\n",
              "    .colab-df-convert:hover {\n",
              "      background-color: #E2EBFA;\n",
              "      box-shadow: 0px 1px 2px rgba(60, 64, 67, 0.3), 0px 1px 3px 1px rgba(60, 64, 67, 0.15);\n",
              "      fill: #174EA6;\n",
              "    }\n",
              "\n",
              "    [theme=dark] .colab-df-convert {\n",
              "      background-color: #3B4455;\n",
              "      fill: #D2E3FC;\n",
              "    }\n",
              "\n",
              "    [theme=dark] .colab-df-convert:hover {\n",
              "      background-color: #434B5C;\n",
              "      box-shadow: 0px 1px 3px 1px rgba(0, 0, 0, 0.15);\n",
              "      filter: drop-shadow(0px 1px 2px rgba(0, 0, 0, 0.3));\n",
              "      fill: #FFFFFF;\n",
              "    }\n",
              "  </style>\n",
              "\n",
              "      <script>\n",
              "        const buttonEl =\n",
              "          document.querySelector('#df-d00f689f-419e-405f-a68e-11eb92dd44e0 button.colab-df-convert');\n",
              "        buttonEl.style.display =\n",
              "          google.colab.kernel.accessAllowed ? 'block' : 'none';\n",
              "\n",
              "        async function convertToInteractive(key) {\n",
              "          const element = document.querySelector('#df-d00f689f-419e-405f-a68e-11eb92dd44e0');\n",
              "          const dataTable =\n",
              "            await google.colab.kernel.invokeFunction('convertToInteractive',\n",
              "                                                     [key], {});\n",
              "          if (!dataTable) return;\n",
              "\n",
              "          const docLinkHtml = 'Like what you see? Visit the ' +\n",
              "            '<a target=\"_blank\" href=https://colab.research.google.com/notebooks/data_table.ipynb>data table notebook</a>'\n",
              "            + ' to learn more about interactive tables.';\n",
              "          element.innerHTML = '';\n",
              "          dataTable['output_type'] = 'display_data';\n",
              "          await google.colab.output.renderOutput(dataTable, element);\n",
              "          const docLink = document.createElement('div');\n",
              "          docLink.innerHTML = docLinkHtml;\n",
              "          element.appendChild(docLink);\n",
              "        }\n",
              "      </script>\n",
              "    </div>\n",
              "  </div>\n",
              "  "
            ]
          },
          "metadata": {},
          "execution_count": 13
        }
      ]
    },
    {
      "cell_type": "markdown",
      "source": [
        "what are your observations?\n",
        "\n",
        "- look at age\n",
        "- look at when the customers were contacted\n",
        "\n",
        "https://archive.ics.uci.edu/ml/datasets/Bank+Marketing"
      ],
      "metadata": {
        "tags": [],
        "cell_id": "00012-b4bdb6dd-3ea5-4e24-835d-19d80520c4fb",
        "deepnote_cell_type": "markdown",
        "id": "1MCorKvsMC6Q"
      }
    },
    {
      "cell_type": "code",
      "metadata": {
        "tags": [],
        "cell_id": "00011-16ff2573-681c-4c03-93b4-2bdf1eb3178b",
        "deepnote_to_be_reexecuted": false,
        "source_hash": "610e004a",
        "execution_millis": 36,
        "output_cleared": true,
        "execution_start": 1614003817115,
        "deepnote_cell_type": "code",
        "id": "WFQtQ-1UMC6Q",
        "outputId": "6280f80d-d75e-468e-c5e0-fad86abf7f6b",
        "colab": {
          "base_uri": "https://localhost:8080/",
          "height": 457
        }
      },
      "source": [
        "data.groupby('job').mean()"
      ],
      "execution_count": 14,
      "outputs": [
        {
          "output_type": "execute_result",
          "data": {
            "text/plain": [
              "                     age      balance        day    duration  campaign  \\\n",
              "job                                                                      \n",
              "admin.         39.682008  1226.736402  16.324268  234.669456  2.631799   \n",
              "blue-collar    40.156448  1085.161734  15.482030  278.161734  2.846723   \n",
              "entrepreneur   42.011905  1645.125000  15.255952  285.476190  2.589286   \n",
              "housemaid      47.339286  2083.803571  15.294643  292.633929  2.500000   \n",
              "management     40.540764  1766.928793  16.254902  260.536636  2.973168   \n",
              "retired        61.869565  2319.191304  15.556522  285.656522  2.465217   \n",
              "self-employed  41.453552  1392.409836  16.180328  264.125683  3.278689   \n",
              "services       38.570743  1103.956835  15.515588  262.486811  2.822542   \n",
              "student        26.821429  1543.821429  16.392857  248.690476  2.392857   \n",
              "technician     39.470052  1330.996094  16.183594  252.178385  2.731771   \n",
              "unemployed     40.906250  1089.421875  16.093750  301.265625  2.679688   \n",
              "unknown        48.105263  1501.710526  15.842105  216.921053  2.552632   \n",
              "\n",
              "                   pdays  previous         y  \n",
              "job                                           \n",
              "admin.         49.993724  0.644351  0.121339  \n",
              "blue-collar    41.590909  0.493658  0.072939  \n",
              "entrepreneur   32.273810  0.428571  0.089286  \n",
              "housemaid      26.401786  0.357143  0.125000  \n",
              "management     40.968008  0.549020  0.135191  \n",
              "retired        35.073913  0.591304  0.234783  \n",
              "self-employed  28.256831  0.590164  0.109290  \n",
              "services       36.371703  0.443645  0.091127  \n",
              "student        45.714286  0.964286  0.226190  \n",
              "technician     39.265625  0.576823  0.108073  \n",
              "unemployed     36.625000  0.484375  0.101562  \n",
              "unknown        36.236842  0.500000  0.184211  "
            ],
            "text/html": [
              "\n",
              "  <div id=\"df-c20dd43a-a638-4393-8906-3db34e671b29\">\n",
              "    <div class=\"colab-df-container\">\n",
              "      <div>\n",
              "<style scoped>\n",
              "    .dataframe tbody tr th:only-of-type {\n",
              "        vertical-align: middle;\n",
              "    }\n",
              "\n",
              "    .dataframe tbody tr th {\n",
              "        vertical-align: top;\n",
              "    }\n",
              "\n",
              "    .dataframe thead th {\n",
              "        text-align: right;\n",
              "    }\n",
              "</style>\n",
              "<table border=\"1\" class=\"dataframe\">\n",
              "  <thead>\n",
              "    <tr style=\"text-align: right;\">\n",
              "      <th></th>\n",
              "      <th>age</th>\n",
              "      <th>balance</th>\n",
              "      <th>day</th>\n",
              "      <th>duration</th>\n",
              "      <th>campaign</th>\n",
              "      <th>pdays</th>\n",
              "      <th>previous</th>\n",
              "      <th>y</th>\n",
              "    </tr>\n",
              "    <tr>\n",
              "      <th>job</th>\n",
              "      <th></th>\n",
              "      <th></th>\n",
              "      <th></th>\n",
              "      <th></th>\n",
              "      <th></th>\n",
              "      <th></th>\n",
              "      <th></th>\n",
              "      <th></th>\n",
              "    </tr>\n",
              "  </thead>\n",
              "  <tbody>\n",
              "    <tr>\n",
              "      <th>admin.</th>\n",
              "      <td>39.682008</td>\n",
              "      <td>1226.736402</td>\n",
              "      <td>16.324268</td>\n",
              "      <td>234.669456</td>\n",
              "      <td>2.631799</td>\n",
              "      <td>49.993724</td>\n",
              "      <td>0.644351</td>\n",
              "      <td>0.121339</td>\n",
              "    </tr>\n",
              "    <tr>\n",
              "      <th>blue-collar</th>\n",
              "      <td>40.156448</td>\n",
              "      <td>1085.161734</td>\n",
              "      <td>15.482030</td>\n",
              "      <td>278.161734</td>\n",
              "      <td>2.846723</td>\n",
              "      <td>41.590909</td>\n",
              "      <td>0.493658</td>\n",
              "      <td>0.072939</td>\n",
              "    </tr>\n",
              "    <tr>\n",
              "      <th>entrepreneur</th>\n",
              "      <td>42.011905</td>\n",
              "      <td>1645.125000</td>\n",
              "      <td>15.255952</td>\n",
              "      <td>285.476190</td>\n",
              "      <td>2.589286</td>\n",
              "      <td>32.273810</td>\n",
              "      <td>0.428571</td>\n",
              "      <td>0.089286</td>\n",
              "    </tr>\n",
              "    <tr>\n",
              "      <th>housemaid</th>\n",
              "      <td>47.339286</td>\n",
              "      <td>2083.803571</td>\n",
              "      <td>15.294643</td>\n",
              "      <td>292.633929</td>\n",
              "      <td>2.500000</td>\n",
              "      <td>26.401786</td>\n",
              "      <td>0.357143</td>\n",
              "      <td>0.125000</td>\n",
              "    </tr>\n",
              "    <tr>\n",
              "      <th>management</th>\n",
              "      <td>40.540764</td>\n",
              "      <td>1766.928793</td>\n",
              "      <td>16.254902</td>\n",
              "      <td>260.536636</td>\n",
              "      <td>2.973168</td>\n",
              "      <td>40.968008</td>\n",
              "      <td>0.549020</td>\n",
              "      <td>0.135191</td>\n",
              "    </tr>\n",
              "    <tr>\n",
              "      <th>retired</th>\n",
              "      <td>61.869565</td>\n",
              "      <td>2319.191304</td>\n",
              "      <td>15.556522</td>\n",
              "      <td>285.656522</td>\n",
              "      <td>2.465217</td>\n",
              "      <td>35.073913</td>\n",
              "      <td>0.591304</td>\n",
              "      <td>0.234783</td>\n",
              "    </tr>\n",
              "    <tr>\n",
              "      <th>self-employed</th>\n",
              "      <td>41.453552</td>\n",
              "      <td>1392.409836</td>\n",
              "      <td>16.180328</td>\n",
              "      <td>264.125683</td>\n",
              "      <td>3.278689</td>\n",
              "      <td>28.256831</td>\n",
              "      <td>0.590164</td>\n",
              "      <td>0.109290</td>\n",
              "    </tr>\n",
              "    <tr>\n",
              "      <th>services</th>\n",
              "      <td>38.570743</td>\n",
              "      <td>1103.956835</td>\n",
              "      <td>15.515588</td>\n",
              "      <td>262.486811</td>\n",
              "      <td>2.822542</td>\n",
              "      <td>36.371703</td>\n",
              "      <td>0.443645</td>\n",
              "      <td>0.091127</td>\n",
              "    </tr>\n",
              "    <tr>\n",
              "      <th>student</th>\n",
              "      <td>26.821429</td>\n",
              "      <td>1543.821429</td>\n",
              "      <td>16.392857</td>\n",
              "      <td>248.690476</td>\n",
              "      <td>2.392857</td>\n",
              "      <td>45.714286</td>\n",
              "      <td>0.964286</td>\n",
              "      <td>0.226190</td>\n",
              "    </tr>\n",
              "    <tr>\n",
              "      <th>technician</th>\n",
              "      <td>39.470052</td>\n",
              "      <td>1330.996094</td>\n",
              "      <td>16.183594</td>\n",
              "      <td>252.178385</td>\n",
              "      <td>2.731771</td>\n",
              "      <td>39.265625</td>\n",
              "      <td>0.576823</td>\n",
              "      <td>0.108073</td>\n",
              "    </tr>\n",
              "    <tr>\n",
              "      <th>unemployed</th>\n",
              "      <td>40.906250</td>\n",
              "      <td>1089.421875</td>\n",
              "      <td>16.093750</td>\n",
              "      <td>301.265625</td>\n",
              "      <td>2.679688</td>\n",
              "      <td>36.625000</td>\n",
              "      <td>0.484375</td>\n",
              "      <td>0.101562</td>\n",
              "    </tr>\n",
              "    <tr>\n",
              "      <th>unknown</th>\n",
              "      <td>48.105263</td>\n",
              "      <td>1501.710526</td>\n",
              "      <td>15.842105</td>\n",
              "      <td>216.921053</td>\n",
              "      <td>2.552632</td>\n",
              "      <td>36.236842</td>\n",
              "      <td>0.500000</td>\n",
              "      <td>0.184211</td>\n",
              "    </tr>\n",
              "  </tbody>\n",
              "</table>\n",
              "</div>\n",
              "      <button class=\"colab-df-convert\" onclick=\"convertToInteractive('df-c20dd43a-a638-4393-8906-3db34e671b29')\"\n",
              "              title=\"Convert this dataframe to an interactive table.\"\n",
              "              style=\"display:none;\">\n",
              "        \n",
              "  <svg xmlns=\"http://www.w3.org/2000/svg\" height=\"24px\"viewBox=\"0 0 24 24\"\n",
              "       width=\"24px\">\n",
              "    <path d=\"M0 0h24v24H0V0z\" fill=\"none\"/>\n",
              "    <path d=\"M18.56 5.44l.94 2.06.94-2.06 2.06-.94-2.06-.94-.94-2.06-.94 2.06-2.06.94zm-11 1L8.5 8.5l.94-2.06 2.06-.94-2.06-.94L8.5 2.5l-.94 2.06-2.06.94zm10 10l.94 2.06.94-2.06 2.06-.94-2.06-.94-.94-2.06-.94 2.06-2.06.94z\"/><path d=\"M17.41 7.96l-1.37-1.37c-.4-.4-.92-.59-1.43-.59-.52 0-1.04.2-1.43.59L10.3 9.45l-7.72 7.72c-.78.78-.78 2.05 0 2.83L4 21.41c.39.39.9.59 1.41.59.51 0 1.02-.2 1.41-.59l7.78-7.78 2.81-2.81c.8-.78.8-2.07 0-2.86zM5.41 20L4 18.59l7.72-7.72 1.47 1.35L5.41 20z\"/>\n",
              "  </svg>\n",
              "      </button>\n",
              "      \n",
              "  <style>\n",
              "    .colab-df-container {\n",
              "      display:flex;\n",
              "      flex-wrap:wrap;\n",
              "      gap: 12px;\n",
              "    }\n",
              "\n",
              "    .colab-df-convert {\n",
              "      background-color: #E8F0FE;\n",
              "      border: none;\n",
              "      border-radius: 50%;\n",
              "      cursor: pointer;\n",
              "      display: none;\n",
              "      fill: #1967D2;\n",
              "      height: 32px;\n",
              "      padding: 0 0 0 0;\n",
              "      width: 32px;\n",
              "    }\n",
              "\n",
              "    .colab-df-convert:hover {\n",
              "      background-color: #E2EBFA;\n",
              "      box-shadow: 0px 1px 2px rgba(60, 64, 67, 0.3), 0px 1px 3px 1px rgba(60, 64, 67, 0.15);\n",
              "      fill: #174EA6;\n",
              "    }\n",
              "\n",
              "    [theme=dark] .colab-df-convert {\n",
              "      background-color: #3B4455;\n",
              "      fill: #D2E3FC;\n",
              "    }\n",
              "\n",
              "    [theme=dark] .colab-df-convert:hover {\n",
              "      background-color: #434B5C;\n",
              "      box-shadow: 0px 1px 3px 1px rgba(0, 0, 0, 0.15);\n",
              "      filter: drop-shadow(0px 1px 2px rgba(0, 0, 0, 0.3));\n",
              "      fill: #FFFFFF;\n",
              "    }\n",
              "  </style>\n",
              "\n",
              "      <script>\n",
              "        const buttonEl =\n",
              "          document.querySelector('#df-c20dd43a-a638-4393-8906-3db34e671b29 button.colab-df-convert');\n",
              "        buttonEl.style.display =\n",
              "          google.colab.kernel.accessAllowed ? 'block' : 'none';\n",
              "\n",
              "        async function convertToInteractive(key) {\n",
              "          const element = document.querySelector('#df-c20dd43a-a638-4393-8906-3db34e671b29');\n",
              "          const dataTable =\n",
              "            await google.colab.kernel.invokeFunction('convertToInteractive',\n",
              "                                                     [key], {});\n",
              "          if (!dataTable) return;\n",
              "\n",
              "          const docLinkHtml = 'Like what you see? Visit the ' +\n",
              "            '<a target=\"_blank\" href=https://colab.research.google.com/notebooks/data_table.ipynb>data table notebook</a>'\n",
              "            + ' to learn more about interactive tables.';\n",
              "          element.innerHTML = '';\n",
              "          dataTable['output_type'] = 'display_data';\n",
              "          await google.colab.output.renderOutput(dataTable, element);\n",
              "          const docLink = document.createElement('div');\n",
              "          docLink.innerHTML = docLinkHtml;\n",
              "          element.appendChild(docLink);\n",
              "        }\n",
              "      </script>\n",
              "    </div>\n",
              "  </div>\n",
              "  "
            ]
          },
          "metadata": {},
          "execution_count": 14
        }
      ]
    },
    {
      "cell_type": "code",
      "metadata": {
        "tags": [],
        "cell_id": "00012-5fd8408b-9afb-4b45-a4af-dd1cf39a4805",
        "deepnote_to_be_reexecuted": true,
        "source_hash": "781d5a0b",
        "execution_millis": 33,
        "output_cleared": true,
        "deepnote_cell_type": "code",
        "id": "EItHTz5lMC6Q",
        "outputId": "99710741-7466-4bb8-f9ac-07c237b3c5f9",
        "colab": {
          "base_uri": "https://localhost:8080/",
          "height": 175
        }
      },
      "source": [
        "data.groupby('marital').mean()"
      ],
      "execution_count": 15,
      "outputs": [
        {
          "output_type": "execute_result",
          "data": {
            "text/plain": [
              "                age      balance        day    duration  campaign      pdays  \\\n",
              "marital                                                                        \n",
              "divorced  45.475379  1122.390152  15.753788  279.232955  2.604167  38.827652   \n",
              "married   43.454415  1463.195567  15.905971  256.528781  2.847336  38.466929   \n",
              "single    33.927258  1460.414716  16.008361  274.601171  2.751672  43.220736   \n",
              "\n",
              "          previous         y  \n",
              "marital                       \n",
              "divorced  0.439394  0.145833  \n",
              "married   0.519128  0.099035  \n",
              "single    0.642977  0.139632  "
            ],
            "text/html": [
              "\n",
              "  <div id=\"df-4bf768aa-c537-4997-a2d2-a3ed12ca72e5\">\n",
              "    <div class=\"colab-df-container\">\n",
              "      <div>\n",
              "<style scoped>\n",
              "    .dataframe tbody tr th:only-of-type {\n",
              "        vertical-align: middle;\n",
              "    }\n",
              "\n",
              "    .dataframe tbody tr th {\n",
              "        vertical-align: top;\n",
              "    }\n",
              "\n",
              "    .dataframe thead th {\n",
              "        text-align: right;\n",
              "    }\n",
              "</style>\n",
              "<table border=\"1\" class=\"dataframe\">\n",
              "  <thead>\n",
              "    <tr style=\"text-align: right;\">\n",
              "      <th></th>\n",
              "      <th>age</th>\n",
              "      <th>balance</th>\n",
              "      <th>day</th>\n",
              "      <th>duration</th>\n",
              "      <th>campaign</th>\n",
              "      <th>pdays</th>\n",
              "      <th>previous</th>\n",
              "      <th>y</th>\n",
              "    </tr>\n",
              "    <tr>\n",
              "      <th>marital</th>\n",
              "      <th></th>\n",
              "      <th></th>\n",
              "      <th></th>\n",
              "      <th></th>\n",
              "      <th></th>\n",
              "      <th></th>\n",
              "      <th></th>\n",
              "      <th></th>\n",
              "    </tr>\n",
              "  </thead>\n",
              "  <tbody>\n",
              "    <tr>\n",
              "      <th>divorced</th>\n",
              "      <td>45.475379</td>\n",
              "      <td>1122.390152</td>\n",
              "      <td>15.753788</td>\n",
              "      <td>279.232955</td>\n",
              "      <td>2.604167</td>\n",
              "      <td>38.827652</td>\n",
              "      <td>0.439394</td>\n",
              "      <td>0.145833</td>\n",
              "    </tr>\n",
              "    <tr>\n",
              "      <th>married</th>\n",
              "      <td>43.454415</td>\n",
              "      <td>1463.195567</td>\n",
              "      <td>15.905971</td>\n",
              "      <td>256.528781</td>\n",
              "      <td>2.847336</td>\n",
              "      <td>38.466929</td>\n",
              "      <td>0.519128</td>\n",
              "      <td>0.099035</td>\n",
              "    </tr>\n",
              "    <tr>\n",
              "      <th>single</th>\n",
              "      <td>33.927258</td>\n",
              "      <td>1460.414716</td>\n",
              "      <td>16.008361</td>\n",
              "      <td>274.601171</td>\n",
              "      <td>2.751672</td>\n",
              "      <td>43.220736</td>\n",
              "      <td>0.642977</td>\n",
              "      <td>0.139632</td>\n",
              "    </tr>\n",
              "  </tbody>\n",
              "</table>\n",
              "</div>\n",
              "      <button class=\"colab-df-convert\" onclick=\"convertToInteractive('df-4bf768aa-c537-4997-a2d2-a3ed12ca72e5')\"\n",
              "              title=\"Convert this dataframe to an interactive table.\"\n",
              "              style=\"display:none;\">\n",
              "        \n",
              "  <svg xmlns=\"http://www.w3.org/2000/svg\" height=\"24px\"viewBox=\"0 0 24 24\"\n",
              "       width=\"24px\">\n",
              "    <path d=\"M0 0h24v24H0V0z\" fill=\"none\"/>\n",
              "    <path d=\"M18.56 5.44l.94 2.06.94-2.06 2.06-.94-2.06-.94-.94-2.06-.94 2.06-2.06.94zm-11 1L8.5 8.5l.94-2.06 2.06-.94-2.06-.94L8.5 2.5l-.94 2.06-2.06.94zm10 10l.94 2.06.94-2.06 2.06-.94-2.06-.94-.94-2.06-.94 2.06-2.06.94z\"/><path d=\"M17.41 7.96l-1.37-1.37c-.4-.4-.92-.59-1.43-.59-.52 0-1.04.2-1.43.59L10.3 9.45l-7.72 7.72c-.78.78-.78 2.05 0 2.83L4 21.41c.39.39.9.59 1.41.59.51 0 1.02-.2 1.41-.59l7.78-7.78 2.81-2.81c.8-.78.8-2.07 0-2.86zM5.41 20L4 18.59l7.72-7.72 1.47 1.35L5.41 20z\"/>\n",
              "  </svg>\n",
              "      </button>\n",
              "      \n",
              "  <style>\n",
              "    .colab-df-container {\n",
              "      display:flex;\n",
              "      flex-wrap:wrap;\n",
              "      gap: 12px;\n",
              "    }\n",
              "\n",
              "    .colab-df-convert {\n",
              "      background-color: #E8F0FE;\n",
              "      border: none;\n",
              "      border-radius: 50%;\n",
              "      cursor: pointer;\n",
              "      display: none;\n",
              "      fill: #1967D2;\n",
              "      height: 32px;\n",
              "      padding: 0 0 0 0;\n",
              "      width: 32px;\n",
              "    }\n",
              "\n",
              "    .colab-df-convert:hover {\n",
              "      background-color: #E2EBFA;\n",
              "      box-shadow: 0px 1px 2px rgba(60, 64, 67, 0.3), 0px 1px 3px 1px rgba(60, 64, 67, 0.15);\n",
              "      fill: #174EA6;\n",
              "    }\n",
              "\n",
              "    [theme=dark] .colab-df-convert {\n",
              "      background-color: #3B4455;\n",
              "      fill: #D2E3FC;\n",
              "    }\n",
              "\n",
              "    [theme=dark] .colab-df-convert:hover {\n",
              "      background-color: #434B5C;\n",
              "      box-shadow: 0px 1px 3px 1px rgba(0, 0, 0, 0.15);\n",
              "      filter: drop-shadow(0px 1px 2px rgba(0, 0, 0, 0.3));\n",
              "      fill: #FFFFFF;\n",
              "    }\n",
              "  </style>\n",
              "\n",
              "      <script>\n",
              "        const buttonEl =\n",
              "          document.querySelector('#df-4bf768aa-c537-4997-a2d2-a3ed12ca72e5 button.colab-df-convert');\n",
              "        buttonEl.style.display =\n",
              "          google.colab.kernel.accessAllowed ? 'block' : 'none';\n",
              "\n",
              "        async function convertToInteractive(key) {\n",
              "          const element = document.querySelector('#df-4bf768aa-c537-4997-a2d2-a3ed12ca72e5');\n",
              "          const dataTable =\n",
              "            await google.colab.kernel.invokeFunction('convertToInteractive',\n",
              "                                                     [key], {});\n",
              "          if (!dataTable) return;\n",
              "\n",
              "          const docLinkHtml = 'Like what you see? Visit the ' +\n",
              "            '<a target=\"_blank\" href=https://colab.research.google.com/notebooks/data_table.ipynb>data table notebook</a>'\n",
              "            + ' to learn more about interactive tables.';\n",
              "          element.innerHTML = '';\n",
              "          dataTable['output_type'] = 'display_data';\n",
              "          await google.colab.output.renderOutput(dataTable, element);\n",
              "          const docLink = document.createElement('div');\n",
              "          docLink.innerHTML = docLinkHtml;\n",
              "          element.appendChild(docLink);\n",
              "        }\n",
              "      </script>\n",
              "    </div>\n",
              "  </div>\n",
              "  "
            ]
          },
          "metadata": {},
          "execution_count": 15
        }
      ]
    },
    {
      "cell_type": "code",
      "metadata": {
        "tags": [],
        "cell_id": "00013-1766b7ac-72c4-463a-a17c-a20674deaea7",
        "deepnote_to_be_reexecuted": true,
        "source_hash": "5eed3fc3",
        "execution_millis": 40,
        "output_cleared": true,
        "deepnote_cell_type": "code",
        "id": "5eNqzqhWMC6Q",
        "outputId": "9d72f48e-d4a7-41d6-d2cc-6547dfbb2d73",
        "colab": {
          "base_uri": "https://localhost:8080/",
          "height": 206
        }
      },
      "source": [
        "data.groupby('education').mean()"
      ],
      "execution_count": 16,
      "outputs": [
        {
          "output_type": "execute_result",
          "data": {
            "text/plain": [
              "                 age      balance        day    duration  campaign      pdays  \\\n",
              "education                                                                       \n",
              "primary    46.833333  1411.544248  15.505900  261.709440  2.865782  35.069322   \n",
              "secondary  40.062446  1196.814397  15.977884  269.863833  2.734172  40.934085   \n",
              "tertiary   39.645926  1775.423704  16.009630  256.881481  2.901481  39.824444   \n",
              "unknown    45.299465  1701.245989  15.946524  250.449198  2.486631  41.983957   \n",
              "\n",
              "           previous         y  \n",
              "education                      \n",
              "primary    0.460177  0.094395  \n",
              "secondary  0.528621  0.106245  \n",
              "tertiary   0.612593  0.142963  \n",
              "unknown    0.508021  0.101604  "
            ],
            "text/html": [
              "\n",
              "  <div id=\"df-1016eca6-c700-424b-9af4-87bed68ec0a4\">\n",
              "    <div class=\"colab-df-container\">\n",
              "      <div>\n",
              "<style scoped>\n",
              "    .dataframe tbody tr th:only-of-type {\n",
              "        vertical-align: middle;\n",
              "    }\n",
              "\n",
              "    .dataframe tbody tr th {\n",
              "        vertical-align: top;\n",
              "    }\n",
              "\n",
              "    .dataframe thead th {\n",
              "        text-align: right;\n",
              "    }\n",
              "</style>\n",
              "<table border=\"1\" class=\"dataframe\">\n",
              "  <thead>\n",
              "    <tr style=\"text-align: right;\">\n",
              "      <th></th>\n",
              "      <th>age</th>\n",
              "      <th>balance</th>\n",
              "      <th>day</th>\n",
              "      <th>duration</th>\n",
              "      <th>campaign</th>\n",
              "      <th>pdays</th>\n",
              "      <th>previous</th>\n",
              "      <th>y</th>\n",
              "    </tr>\n",
              "    <tr>\n",
              "      <th>education</th>\n",
              "      <th></th>\n",
              "      <th></th>\n",
              "      <th></th>\n",
              "      <th></th>\n",
              "      <th></th>\n",
              "      <th></th>\n",
              "      <th></th>\n",
              "      <th></th>\n",
              "    </tr>\n",
              "  </thead>\n",
              "  <tbody>\n",
              "    <tr>\n",
              "      <th>primary</th>\n",
              "      <td>46.833333</td>\n",
              "      <td>1411.544248</td>\n",
              "      <td>15.505900</td>\n",
              "      <td>261.709440</td>\n",
              "      <td>2.865782</td>\n",
              "      <td>35.069322</td>\n",
              "      <td>0.460177</td>\n",
              "      <td>0.094395</td>\n",
              "    </tr>\n",
              "    <tr>\n",
              "      <th>secondary</th>\n",
              "      <td>40.062446</td>\n",
              "      <td>1196.814397</td>\n",
              "      <td>15.977884</td>\n",
              "      <td>269.863833</td>\n",
              "      <td>2.734172</td>\n",
              "      <td>40.934085</td>\n",
              "      <td>0.528621</td>\n",
              "      <td>0.106245</td>\n",
              "    </tr>\n",
              "    <tr>\n",
              "      <th>tertiary</th>\n",
              "      <td>39.645926</td>\n",
              "      <td>1775.423704</td>\n",
              "      <td>16.009630</td>\n",
              "      <td>256.881481</td>\n",
              "      <td>2.901481</td>\n",
              "      <td>39.824444</td>\n",
              "      <td>0.612593</td>\n",
              "      <td>0.142963</td>\n",
              "    </tr>\n",
              "    <tr>\n",
              "      <th>unknown</th>\n",
              "      <td>45.299465</td>\n",
              "      <td>1701.245989</td>\n",
              "      <td>15.946524</td>\n",
              "      <td>250.449198</td>\n",
              "      <td>2.486631</td>\n",
              "      <td>41.983957</td>\n",
              "      <td>0.508021</td>\n",
              "      <td>0.101604</td>\n",
              "    </tr>\n",
              "  </tbody>\n",
              "</table>\n",
              "</div>\n",
              "      <button class=\"colab-df-convert\" onclick=\"convertToInteractive('df-1016eca6-c700-424b-9af4-87bed68ec0a4')\"\n",
              "              title=\"Convert this dataframe to an interactive table.\"\n",
              "              style=\"display:none;\">\n",
              "        \n",
              "  <svg xmlns=\"http://www.w3.org/2000/svg\" height=\"24px\"viewBox=\"0 0 24 24\"\n",
              "       width=\"24px\">\n",
              "    <path d=\"M0 0h24v24H0V0z\" fill=\"none\"/>\n",
              "    <path d=\"M18.56 5.44l.94 2.06.94-2.06 2.06-.94-2.06-.94-.94-2.06-.94 2.06-2.06.94zm-11 1L8.5 8.5l.94-2.06 2.06-.94-2.06-.94L8.5 2.5l-.94 2.06-2.06.94zm10 10l.94 2.06.94-2.06 2.06-.94-2.06-.94-.94-2.06-.94 2.06-2.06.94z\"/><path d=\"M17.41 7.96l-1.37-1.37c-.4-.4-.92-.59-1.43-.59-.52 0-1.04.2-1.43.59L10.3 9.45l-7.72 7.72c-.78.78-.78 2.05 0 2.83L4 21.41c.39.39.9.59 1.41.59.51 0 1.02-.2 1.41-.59l7.78-7.78 2.81-2.81c.8-.78.8-2.07 0-2.86zM5.41 20L4 18.59l7.72-7.72 1.47 1.35L5.41 20z\"/>\n",
              "  </svg>\n",
              "      </button>\n",
              "      \n",
              "  <style>\n",
              "    .colab-df-container {\n",
              "      display:flex;\n",
              "      flex-wrap:wrap;\n",
              "      gap: 12px;\n",
              "    }\n",
              "\n",
              "    .colab-df-convert {\n",
              "      background-color: #E8F0FE;\n",
              "      border: none;\n",
              "      border-radius: 50%;\n",
              "      cursor: pointer;\n",
              "      display: none;\n",
              "      fill: #1967D2;\n",
              "      height: 32px;\n",
              "      padding: 0 0 0 0;\n",
              "      width: 32px;\n",
              "    }\n",
              "\n",
              "    .colab-df-convert:hover {\n",
              "      background-color: #E2EBFA;\n",
              "      box-shadow: 0px 1px 2px rgba(60, 64, 67, 0.3), 0px 1px 3px 1px rgba(60, 64, 67, 0.15);\n",
              "      fill: #174EA6;\n",
              "    }\n",
              "\n",
              "    [theme=dark] .colab-df-convert {\n",
              "      background-color: #3B4455;\n",
              "      fill: #D2E3FC;\n",
              "    }\n",
              "\n",
              "    [theme=dark] .colab-df-convert:hover {\n",
              "      background-color: #434B5C;\n",
              "      box-shadow: 0px 1px 3px 1px rgba(0, 0, 0, 0.15);\n",
              "      filter: drop-shadow(0px 1px 2px rgba(0, 0, 0, 0.3));\n",
              "      fill: #FFFFFF;\n",
              "    }\n",
              "  </style>\n",
              "\n",
              "      <script>\n",
              "        const buttonEl =\n",
              "          document.querySelector('#df-1016eca6-c700-424b-9af4-87bed68ec0a4 button.colab-df-convert');\n",
              "        buttonEl.style.display =\n",
              "          google.colab.kernel.accessAllowed ? 'block' : 'none';\n",
              "\n",
              "        async function convertToInteractive(key) {\n",
              "          const element = document.querySelector('#df-1016eca6-c700-424b-9af4-87bed68ec0a4');\n",
              "          const dataTable =\n",
              "            await google.colab.kernel.invokeFunction('convertToInteractive',\n",
              "                                                     [key], {});\n",
              "          if (!dataTable) return;\n",
              "\n",
              "          const docLinkHtml = 'Like what you see? Visit the ' +\n",
              "            '<a target=\"_blank\" href=https://colab.research.google.com/notebooks/data_table.ipynb>data table notebook</a>'\n",
              "            + ' to learn more about interactive tables.';\n",
              "          element.innerHTML = '';\n",
              "          dataTable['output_type'] = 'display_data';\n",
              "          await google.colab.output.renderOutput(dataTable, element);\n",
              "          const docLink = document.createElement('div');\n",
              "          docLink.innerHTML = docLinkHtml;\n",
              "          element.appendChild(docLink);\n",
              "        }\n",
              "      </script>\n",
              "    </div>\n",
              "  </div>\n",
              "  "
            ]
          },
          "metadata": {},
          "execution_count": 16
        }
      ]
    },
    {
      "cell_type": "markdown",
      "source": [
        "Visualisation"
      ],
      "metadata": {
        "tags": [],
        "cell_id": "00014-f40fe57a-031a-4b9f-9f9f-acf16dbe8d2d",
        "deepnote_cell_type": "markdown",
        "id": "DAMTGtMwMC6R"
      }
    },
    {
      "cell_type": "code",
      "metadata": {
        "tags": [],
        "cell_id": "00015-052e36b6-21f3-4024-8601-6c1a65f6e2df",
        "deepnote_to_be_reexecuted": false,
        "source_hash": "3b41b8f5",
        "execution_millis": 377,
        "output_cleared": true,
        "execution_start": 1614004164412,
        "deepnote_cell_type": "code",
        "id": "SSg-RWRSMC6R",
        "outputId": "4ecf63f6-e4b8-47b5-e2bb-c9274ade32c5",
        "colab": {
          "base_uri": "https://localhost:8080/",
          "height": 386
        }
      },
      "source": [
        "%matplotlib inline\n",
        "pd.crosstab(data.job,data.y).plot(kind='bar')\n",
        "plt.title('Purchase Frequency for Job Title')\n",
        "plt.xlabel('Job')\n",
        "plt.ylabel('Frequency of Purchase')"
      ],
      "execution_count": 17,
      "outputs": [
        {
          "output_type": "execute_result",
          "data": {
            "text/plain": [
              "Text(0, 0.5, 'Frequency of Purchase')"
            ]
          },
          "metadata": {},
          "execution_count": 17
        },
        {
          "output_type": "display_data",
          "data": {
            "text/plain": [
              "<Figure size 432x288 with 1 Axes>"
            ],
            "image/png": "[encoded data removed]"
          },
          "metadata": {
            "needs_background": "light"
          }
        }
      ]
    },
    {
      "cell_type": "markdown",
      "source": [
        "The frequency of purchase of the deposit depends a great deal on the job title. Thus, the job title can be a good predictor of the outcome variable."
      ],
      "metadata": {
        "tags": [],
        "cell_id": "00018-f2ac93e2-dca1-48ea-8bb7-1ae3714c63bd",
        "deepnote_cell_type": "markdown",
        "id": "zIbKdPLLMC6R"
      }
    },
    {
      "cell_type": "code",
      "metadata": {
        "tags": [],
        "cell_id": "00016-c6eabd43-1cf3-4b37-9fbc-6fd665003382",
        "deepnote_to_be_reexecuted": false,
        "source_hash": "3aa569f9",
        "execution_millis": 209,
        "output_cleared": true,
        "execution_start": 1614003822852,
        "deepnote_cell_type": "code",
        "id": "U4hO4r7BMC6R",
        "outputId": "20907005-eff4-4aca-e137-19d3666af391",
        "colab": {
          "base_uri": "https://localhost:8080/",
          "height": 356
        }
      },
      "source": [
        "table=pd.crosstab(data.marital,data.y)\n",
        "table.div(table.sum(1).astype(float), axis=0).plot(kind='bar', stacked=True)\n",
        "plt.title('Stacked Bar Chart of Marital Status vs Purchase')\n",
        "plt.xlabel('Marital Status')\n",
        "plt.ylabel('Proportion of Customers')\n"
      ],
      "execution_count": 18,
      "outputs": [
        {
          "output_type": "execute_result",
          "data": {
            "text/plain": [
              "Text(0, 0.5, 'Proportion of Customers')"
            ]
          },
          "metadata": {},
          "execution_count": 18
        },
        {
          "output_type": "display_data",
          "data": {
            "text/plain": [
              "<Figure size 432x288 with 1 Axes>"
            ],
            "image/png": "[encoded data removed]"
          },
          "metadata": {
            "needs_background": "light"
          }
        }
      ]
    },
    {
      "cell_type": "markdown",
      "source": [
        "The marital status does not seem a strong predictor for the outcome variable."
      ],
      "metadata": {
        "tags": [],
        "cell_id": "00017-99dc280f-f4b9-4f20-8759-6603824aff07",
        "deepnote_cell_type": "markdown",
        "id": "VMXATSLxMC6R"
      }
    },
    {
      "cell_type": "code",
      "metadata": {
        "tags": [],
        "cell_id": "00018-49b211af-f01e-4adf-810f-f7c987a4f8fd",
        "deepnote_to_be_reexecuted": false,
        "source_hash": "a10332a6",
        "execution_millis": 320,
        "output_cleared": true,
        "execution_start": 1614003824829,
        "deepnote_cell_type": "code",
        "id": "m201zXIsMC6R",
        "outputId": "f214be2f-aaee-4133-ca2e-5a7178c5aa39",
        "colab": {
          "base_uri": "https://localhost:8080/",
          "height": 348
        }
      },
      "source": [
        "table=pd.crosstab(data.education,data.y)\n",
        "table.div(table.sum(1).astype(float), axis=0).plot(kind='bar', stacked=True)\n",
        "plt.title('Stacked Bar Chart of Education vs Purchase')\n",
        "plt.xlabel('Education')\n",
        "plt.ylabel('Proportion of Customers')\n",
        "plt.savefig('edu_vs_pur_stack')"
      ],
      "execution_count": 19,
      "outputs": [
        {
          "output_type": "display_data",
          "data": {
            "text/plain": [
              "<Figure size 432x288 with 1 Axes>"
            ],
            "image/png": "[encoded data removed]"
          },
          "metadata": {
            "needs_background": "light"
          }
        }
      ]
    },
    {
      "cell_type": "code",
      "metadata": {
        "tags": [],
        "cell_id": "00022-eae58c98-c199-4ee2-8a9d-abb4e4ed35c5",
        "deepnote_to_be_reexecuted": false,
        "source_hash": "286b2412",
        "execution_millis": 322,
        "output_cleared": true,
        "execution_start": 1614003826056,
        "deepnote_cell_type": "code",
        "id": "t4R2ns5sMC6R",
        "outputId": "b2c6d121-caa9-41e5-e3be-4bbea2430fa1",
        "colab": {
          "base_uri": "https://localhost:8080/",
          "height": 332
        }
      },
      "source": [
        "pd.crosstab(data.month,data.y).plot(kind='bar')\n",
        "plt.title('Purchase Frequency for Month')\n",
        "plt.xlabel('Month')\n",
        "plt.ylabel('Frequency of Purchase')"
      ],
      "execution_count": 20,
      "outputs": [
        {
          "output_type": "execute_result",
          "data": {
            "text/plain": [
              "Text(0, 0.5, 'Frequency of Purchase')"
            ]
          },
          "metadata": {},
          "execution_count": 20
        },
        {
          "output_type": "display_data",
          "data": {
            "text/plain": [
              "<Figure size 432x288 with 1 Axes>"
            ],
            "image/png": "[encoded data removed]"
          },
          "metadata": {
            "needs_background": "light"
          }
        }
      ]
    },
    {
      "cell_type": "code",
      "metadata": {
        "tags": [],
        "cell_id": "00019-76656442-d5e4-47cb-87e4-b82489c14e68",
        "deepnote_to_be_reexecuted": false,
        "source_hash": "15ef26db",
        "execution_millis": 206,
        "output_cleared": true,
        "execution_start": 1614003827170,
        "deepnote_cell_type": "code",
        "id": "5CmXISoVMC6R"
      },
      "source": [
        "data.age.hist()\n",
        "plt.title('Histogram of Age')\n",
        "plt.xlabel('Age')\n",
        "plt.ylabel('Frequency')"
      ],
      "execution_count": null,
      "outputs": []
    },
    {
      "cell_type": "code",
      "metadata": {
        "tags": [],
        "cell_id": "00021-a399bbf7-2ba4-4a31-9b87-969fb1282513",
        "deepnote_to_be_reexecuted": false,
        "source_hash": "12ad939e",
        "execution_millis": 231,
        "output_cleared": true,
        "execution_start": 1614003828698,
        "deepnote_cell_type": "code",
        "id": "Z3uI5Cf3MC6S"
      },
      "source": [
        "pd.crosstab(data.poutcome,data.y).plot(kind='bar')\n",
        "plt.title('Purchase Frequency for Poutcome')\n",
        "plt.xlabel('Poutcome')\n",
        "plt.ylabel('Frequency of Purchase')"
      ],
      "execution_count": null,
      "outputs": []
    },
    {
      "cell_type": "markdown",
      "source": [
        "Create dummy variables\n",
        "That is variables with only two values, zero and one."
      ],
      "metadata": {
        "tags": [],
        "cell_id": "00022-cccddf36-88b2-4d41-9b39-1961e7b4a09f",
        "deepnote_cell_type": "markdown",
        "id": "5eEmYIvnMC6S"
      }
    },
    {
      "cell_type": "code",
      "metadata": {
        "tags": [],
        "cell_id": "00023-dbf4be3f-d784-40ec-971b-827066413686",
        "deepnote_to_be_reexecuted": false,
        "source_hash": "aedb578f",
        "execution_millis": 69,
        "output_cleared": true,
        "execution_start": 1614031554823,
        "deepnote_cell_type": "code",
        "id": "ABuCGDsGMC6S"
      },
      "source": [
        "cat_vars=['job','marital','education','default','housing','loan','contact','month','poutcome']\n",
        "for var in cat_vars:\n",
        "    cat_list='var'+'_'+var\n",
        "    cat_list = pd.get_dummies(data[var], prefix=var)\n",
        "    data1=data.join(cat_list)\n",
        "    data=data1\n",
        "cat_vars=['job','marital','education','default','housing','loan','contact','month','poutcome']\n",
        "data_vars=data.columns.values.tolist()\n",
        "to_keep=[i for i in data_vars if i not in cat_vars]"
      ],
      "execution_count": 22,
      "outputs": []
    },
    {
      "cell_type": "markdown",
      "source": [
        "\n",
        "Confirm that this is the same value we would get when using the built-in .predict() method of the LinearRegression object."
      ],
      "metadata": {
        "tags": [],
        "cell_id": "00024-53c50707-dd3a-4806-b76d-68971b4f247f",
        "deepnote_cell_type": "markdown",
        "id": "3udPXUTfMC6S"
      }
    },
    {
      "cell_type": "code",
      "metadata": {
        "tags": [],
        "cell_id": "00024-15f8dc98-dfdc-4b00-9f54-d2c7654a8731",
        "deepnote_to_be_reexecuted": false,
        "source_hash": "2023711d",
        "execution_millis": 26,
        "output_cleared": false,
        "execution_start": 1614031558178,
        "deepnote_cell_type": "code",
        "id": "d5Qb1xCfMC6S",
        "outputId": "c9c31e1c-0036-4526-a95e-f54b5815f6b5",
        "colab": {
          "base_uri": "https://localhost:8080/"
        }
      },
      "source": [
        "data_final=data[to_keep]\n",
        "data_final.columns.values"
      ],
      "execution_count": 23,
      "outputs": [
        {
          "output_type": "execute_result",
          "data": {
            "text/plain": [
              "array(['age', 'balance', 'day', 'duration', 'campaign', 'pdays',\n",
              "       'previous', 'y', 'job_admin.', 'job_blue-collar',\n",
              "       'job_entrepreneur', 'job_housemaid', 'job_management',\n",
              "       'job_retired', 'job_self-employed', 'job_services', 'job_student',\n",
              "       'job_technician', 'job_unemployed', 'job_unknown',\n",
              "       'marital_divorced', 'marital_married', 'marital_single',\n",
              "       'education_primary', 'education_secondary', 'education_tertiary',\n",
              "       'education_unknown', 'default_no', 'default_yes', 'housing_no',\n",
              "       'housing_yes', 'loan_no', 'loan_yes', 'contact_cellular',\n",
              "       'contact_telephone', 'contact_unknown', 'month_apr', 'month_aug',\n",
              "       'month_dec', 'month_feb', 'month_jan', 'month_jul', 'month_jun',\n",
              "       'month_mar', 'month_may', 'month_nov', 'month_oct', 'month_sep',\n",
              "       'poutcome_failure', 'poutcome_other', 'poutcome_success',\n",
              "       'poutcome_unknown'], dtype=object)"
            ]
          },
          "metadata": {},
          "execution_count": 23
        }
      ]
    },
    {
      "cell_type": "code",
      "metadata": {
        "tags": [],
        "cell_id": "00052-24522d1b-02cd-4714-8c5c-d18f069cec7d",
        "deepnote_to_be_reexecuted": false,
        "source_hash": "4422c39f",
        "execution_millis": 212,
        "output_cleared": true,
        "execution_start": 1614004177703,
        "deepnote_cell_type": "code",
        "id": "TF0C6J0XMC6S"
      },
      "source": [
        "data_final.head()"
      ],
      "execution_count": null,
      "outputs": []
    },
    {
      "cell_type": "markdown",
      "source": [
        "Over-sampling using SMOTE\n",
        "With our training data created, we will up-sample the no-subscription using the SMOTE algorithm(Synthetic Minority Oversampling Technique). \n",
        "At a high level, SMOTE:\n",
        "1. Works by creating synthetic samples from the minor class (no-subscription) instead of creating copies.\n",
        "2. Randomly choosing one of the k-nearest-neighbors and using it to create a similar, but randomly tweaked, new observations.\n",
        "We are going to implement SMOTE in Python."
      ],
      "metadata": {
        "tags": [],
        "cell_id": "00026-74ec72a7-6019-4c97-aea6-2e2800061aac",
        "deepnote_cell_type": "markdown",
        "id": "I08gcuD7MC6S"
      }
    },
    {
      "cell_type": "code",
      "metadata": {
        "tags": [],
        "cell_id": "00056-402c48b5-a175-46a9-b895-ea20c2f9cfe6",
        "deepnote_to_be_reexecuted": false,
        "source_hash": "ed3ad823",
        "execution_millis": 1,
        "output_cleared": true,
        "execution_start": 1614033558815,
        "deepnote_cell_type": "code",
        "id": "BNqSdiKSMC6T"
      },
      "source": [
        "from imblearn.over_sampling import SMOTE"
      ],
      "execution_count": 24,
      "outputs": []
    },
    {
      "cell_type": "code",
      "metadata": {
        "tags": [],
        "cell_id": "00057-68ccfc8a-6901-4066-b8d8-de75e0c048bf",
        "deepnote_to_be_reexecuted": false,
        "source_hash": "32ced6a8",
        "execution_millis": 11,
        "output_cleared": false,
        "execution_start": 1614033562997,
        "deepnote_cell_type": "code",
        "id": "cUfCHRgYMC6T",
        "outputId": "b5ddaf6d-b320-4019-9258-a43bd5f78658",
        "colab": {
          "base_uri": "https://localhost:8080/"
        }
      },
      "source": [
        "import platform; print(platform.platform())\n",
        "import sys; print(\"Python\", sys.version)\n",
        "import numpy; print(\"NumPy\", numpy.__version__)\n",
        "import scipy; print(\"SciPy\", scipy.__version__)\n",
        "import sklearn; print(\"Scikit-Learn\", sklearn.__version__)\n",
        "import imblearn; print(\"ImbLearn\", imblearn.__version__)"
      ],
      "execution_count": 25,
      "outputs": [
        {
          "output_type": "stream",
          "name": "stdout",
          "text": [
            "Linux-5.4.144+-x86_64-with-Ubuntu-18.04-bionic\n",
            "Python 3.7.13 (default, Mar 16 2022, 17:37:17) \n",
            "[GCC 7.5.0]\n",
            "NumPy 1.21.5\n",
            "SciPy 1.4.1\n",
            "Scikit-Learn 1.0.2\n",
            "ImbLearn 0.8.1\n"
          ]
        }
      ]
    },
    {
      "cell_type": "code",
      "metadata": {
        "tags": [],
        "cell_id": "00030-eca52453-e712-4e94-af4c-58a848e5f050",
        "deepnote_to_be_reexecuted": false,
        "source_hash": "43006392",
        "execution_millis": 402,
        "output_cleared": false,
        "execution_start": 1614034336167,
        "deepnote_cell_type": "code",
        "id": "oa-1Vj2PMC6T",
        "outputId": "ce4ddc25-dc0f-465d-9041-d1002de4912f",
        "colab": {
          "base_uri": "https://localhost:8080/"
        }
      },
      "source": [
        "X = data_final.loc[:, data_final.columns != 'y']\n",
        "y = data_final.loc[:, data_final.columns == 'y']\n",
        "from imblearn.over_sampling import SMOTE\n",
        "os = SMOTE()\n",
        "X_train, X_test, y_train, y_test = train_test_split(X, y, test_size=0.3, random_state=0)\n",
        "columns = X_train.columns\n",
        "os_data_X,os_data_y=os.fit_resample(X_train, y_train)\n",
        "os_data_X = pd.DataFrame(data=os_data_X,columns=columns )  \n",
        "os_data_y= pd.DataFrame(data=os_data_y,columns=['y'])\n",
        "# we can Check the numbers of our data\n",
        "print(\"length of oversampled data is \",len(os_data_X))\n",
        "print(\"Number of no subscription in oversampled data\",len(os_data_y[os_data_y['y']==0]))\n",
        "print(\"Number of subscription\",len(os_data_y[os_data_y['y']==1]))\n",
        "print(\"Proportion of no subscription data in oversampled data is \",len(os_data_y[os_data_y['y']==0])/len(os_data_X))\n",
        "print(\"Proportion of subscription data in oversampled data is \",len(os_data_y[os_data_y['y']==1])/len(os_data_X))"
      ],
      "execution_count": 26,
      "outputs": [
        {
          "output_type": "stream",
          "name": "stdout",
          "text": [
            "length of oversampled data is  5620\n",
            "Number of no subscription in oversampled data 2810\n",
            "Number of subscription 2810\n",
            "Proportion of no subscription data in oversampled data is  0.5\n",
            "Proportion of subscription data in oversampled data is  0.5\n"
          ]
        }
      ]
    },
    {
      "cell_type": "code",
      "source": [
        "os.fit_resample"
      ],
      "metadata": {
        "tags": [],
        "cell_id": "00057-7db3def1-caf2-4d67-a14c-db0fe1f5574c",
        "deepnote_to_be_reexecuted": false,
        "source_hash": "c5a2ba1f",
        "execution_millis": 9,
        "execution_start": 1614034356425,
        "deepnote_cell_type": "code",
        "id": "NAMJPNLDMC6T",
        "outputId": "5512f3f1-121d-4d2d-d571-597826bab800",
        "colab": {
          "base_uri": "https://localhost:8080/"
        }
      },
      "outputs": [
        {
          "output_type": "execute_result",
          "data": {
            "text/plain": [
              "<bound method SamplerMixin.fit_resample of SMOTE()>"
            ]
          },
          "metadata": {},
          "execution_count": 27
        }
      ],
      "execution_count": 27
    },
    {
      "cell_type": "code",
      "source": [
        "# you had \n",
        "os_data_X = pd.DataFrame(data=X_train,columns=columns )  ## have you changed these lines from the original? data=X_train  \n",
        "os_data_y= pd.DataFrame(data=y_train,columns=['y'])\n",
        "# but it should be \n",
        "os_data_X = pd.DataFrame(data=os_data_X,columns=columns )  \n",
        "os_data_y= pd.DataFrame(data=os_data_y,columns=['y'])"
      ],
      "metadata": {
        "tags": [],
        "cell_id": "00058-e3a11478-a699-44ec-afc0-12dc65a23fb0",
        "deepnote_to_be_reexecuted": false,
        "source_hash": "99215177",
        "execution_millis": 0,
        "execution_start": 1614034229723,
        "deepnote_cell_type": "code",
        "id": "543N0VGRMC6T"
      },
      "outputs": [],
      "execution_count": 28
    },
    {
      "cell_type": "markdown",
      "source": [
        "Can you see what we have done here? Using SMOTE we have actually synthetically created a perfectly balanced set if data. We oversampled on the training data so that no information in the test data is used to create synthetic observations. \n"
      ],
      "metadata": {
        "tags": [],
        "cell_id": "00028-3008463d-880b-4b14-bb27-7bdccbb36056",
        "deepnote_cell_type": "markdown",
        "id": "sXFQv135MC6U"
      }
    },
    {
      "cell_type": "markdown",
      "source": [
        "Next we will look at recursive feature elimination - this is based on the idea to repeatedly construct a model and choose either the best or worst performing feature, setting the feature aside and then repeating the process with the rest of the features. This process is applied until all features in the dataset are exhausted. The goal of RFE is to select features by recursively considering smaller and smaller sets of features."
      ],
      "metadata": {
        "tags": [],
        "cell_id": "00029-d739439d-b113-49d0-a63e-1cb008bfa9a6",
        "deepnote_cell_type": "markdown",
        "id": "C-zZqQEKMC6U"
      }
    },
    {
      "cell_type": "code",
      "metadata": {
        "tags": [],
        "cell_id": "00059-5bfad658-3d45-4fa4-8c9e-58a39123e9b6",
        "deepnote_to_be_reexecuted": true,
        "source_hash": "4bc937ac",
        "execution_millis": 4281,
        "output_cleared": true,
        "deepnote_cell_type": "code",
        "id": "FSlKOByyMC6U",
        "outputId": "4f3d1eec-abc1-463f-d7f1-a1572910d146",
        "colab": {
          "base_uri": "https://localhost:8080/"
        }
      },
      "source": [
        "pip install --upgrade pip"
      ],
      "execution_count": 29,
      "outputs": [
        {
          "output_type": "stream",
          "name": "stdout",
          "text": [
            "Requirement already satisfied: pip in /usr/local/lib/python3.7/dist-packages (21.1.3)\n",
            "Collecting pip\n",
            "  Downloading pip-22.0.4-py3-none-any.whl (2.1 MB)\n",
            "\u001b[K     |████████████████████████████████| 2.1 MB 5.2 MB/s \n",
            "\u001b[?25hInstalling collected packages: pip\n",
            "  Attempting uninstall: pip\n",
            "    Found existing installation: pip 21.1.3\n",
            "    Uninstalling pip-21.1.3:\n",
            "      Successfully uninstalled pip-21.1.3\n",
            "Successfully installed pip-22.0.4\n"
          ]
        }
      ]
    },
    {
      "cell_type": "code",
      "metadata": {
        "tags": [],
        "cell_id": "00030-98687750-c54e-4361-a50a-feb3755907a5",
        "deepnote_to_be_reexecuted": false,
        "source_hash": "5a8e7bba",
        "execution_millis": 81961,
        "output_cleared": false,
        "execution_start": 1614034479916,
        "deepnote_cell_type": "code",
        "id": "VBUWsqhkMC6U",
        "outputId": "f870a7ef-bea6-473e-d7eb-a0db6f9e859a",
        "colab": {
          "base_uri": "https://localhost:8080/"
        }
      },
      "source": [
        "data_final_vars=data_final.columns.values.tolist()\n",
        "y=['y']\n",
        "X=[i for i in data_final_vars if i not in y]\n",
        "from sklearn.feature_selection import RFE\n",
        "from sklearn.linear_model import LogisticRegression\n",
        "\n",
        "logreg = LogisticRegression()\n",
        "\n",
        "rfe = RFE(logreg, step = 20)\n",
        "rfe = rfe.fit(os_data_X, os_data_y.values.ravel())\n",
        "print(rfe.support_)\n",
        "print(rfe.ranking_)"
      ],
      "execution_count": 34,
      "outputs": [
        {
          "output_type": "stream",
          "name": "stderr",
          "text": [
            "/usr/local/lib/python3.7/dist-packages/sklearn/linear_model/_logistic.py:818: ConvergenceWarning: lbfgs failed to converge (status=1):\n",
            "STOP: TOTAL NO. of ITERATIONS REACHED LIMIT.\n",
            "\n",
            "Increase the number of iterations (max_iter) or scale the data as shown in:\n",
            "    https://scikit-learn.org/stable/modules/preprocessing.html\n",
            "Please also refer to the documentation for alternative solver options:\n",
            "    https://scikit-learn.org/stable/modules/linear_model.html#logistic-regression\n",
            "  extra_warning_msg=_LOGISTIC_SOLVER_CONVERGENCE_MSG,\n"
          ]
        },
        {
          "output_type": "stream",
          "name": "stdout",
          "text": [
            "[False False False False False False False  True  True False False False\n",
            "  True False False False  True False False False  True False False  True\n",
            "  True False  True False False  True  True  True  True  True  True  True\n",
            "  True False False False  True False  True  True  True  True  True  True\n",
            " False  True  True]\n",
            "[3 3 3 3 2 3 2 1 1 3 3 3 1 3 2 3 1 3 3 3 1 2 3 1 1 3 1 3 2 1 1 1 1 1 1 1 1\n",
            " 3 3 3 1 2 1 1 1 1 1 1 3 1 1]\n"
          ]
        },
        {
          "output_type": "stream",
          "name": "stderr",
          "text": [
            "/usr/local/lib/python3.7/dist-packages/sklearn/linear_model/_logistic.py:818: ConvergenceWarning: lbfgs failed to converge (status=1):\n",
            "STOP: TOTAL NO. of ITERATIONS REACHED LIMIT.\n",
            "\n",
            "Increase the number of iterations (max_iter) or scale the data as shown in:\n",
            "    https://scikit-learn.org/stable/modules/preprocessing.html\n",
            "Please also refer to the documentation for alternative solver options:\n",
            "    https://scikit-learn.org/stable/modules/linear_model.html#logistic-regression\n",
            "  extra_warning_msg=_LOGISTIC_SOLVER_CONVERGENCE_MSG,\n"
          ]
        }
      ]
    },
    {
      "cell_type": "code",
      "metadata": {
        "tags": [],
        "cell_id": "00036-70ede16d-4156-4461-9e2c-46a1e8c2109f",
        "deepnote_to_be_reexecuted": false,
        "source_hash": "5da79852",
        "execution_millis": 21,
        "output_cleared": false,
        "execution_start": 1614034938857,
        "deepnote_cell_type": "code",
        "id": "MLRYdC6rMC6U",
        "outputId": "c88f81d7-8f5b-4b97-f828-940214aacaa4",
        "colab": {
          "base_uri": "https://localhost:8080/"
        }
      },
      "source": [
        "print(X)"
      ],
      "execution_count": 35,
      "outputs": [
        {
          "output_type": "stream",
          "name": "stdout",
          "text": [
            "['age', 'balance', 'day', 'duration', 'campaign', 'pdays', 'previous', 'job_admin.', 'job_blue-collar', 'job_entrepreneur', 'job_housemaid', 'job_management', 'job_retired', 'job_self-employed', 'job_services', 'job_student', 'job_technician', 'job_unemployed', 'job_unknown', 'marital_divorced', 'marital_married', 'marital_single', 'education_primary', 'education_secondary', 'education_tertiary', 'education_unknown', 'default_no', 'default_yes', 'housing_no', 'housing_yes', 'loan_no', 'loan_yes', 'contact_cellular', 'contact_telephone', 'contact_unknown', 'month_apr', 'month_aug', 'month_dec', 'month_feb', 'month_jan', 'month_jul', 'month_jun', 'month_mar', 'month_may', 'month_nov', 'month_oct', 'month_sep', 'poutcome_failure', 'poutcome_other', 'poutcome_success', 'poutcome_unknown']\n"
          ]
        }
      ]
    },
    {
      "cell_type": "code",
      "source": [
        "np.array(X)[rfe.support_]"
      ],
      "metadata": {
        "tags": [],
        "cell_id": "00064-90657058-7712-4f9d-b324-925c2e1dc4e2",
        "deepnote_to_be_reexecuted": false,
        "source_hash": "afc3fb",
        "execution_millis": 14,
        "execution_start": 1614034928940,
        "deepnote_cell_type": "code",
        "id": "POMMqqS8MC6U",
        "outputId": "73aae346-6bcc-4ab3-c303-8ed7e03b0458",
        "colab": {
          "base_uri": "https://localhost:8080/"
        }
      },
      "outputs": [
        {
          "output_type": "execute_result",
          "data": {
            "text/plain": [
              "array(['job_admin.', 'job_blue-collar', 'job_retired', 'job_technician',\n",
              "       'marital_married', 'education_secondary', 'education_tertiary',\n",
              "       'default_no', 'housing_yes', 'loan_no', 'loan_yes',\n",
              "       'contact_cellular', 'contact_telephone', 'contact_unknown',\n",
              "       'month_apr', 'month_aug', 'month_jul', 'month_mar', 'month_may',\n",
              "       'month_nov', 'month_oct', 'month_sep', 'poutcome_failure',\n",
              "       'poutcome_success', 'poutcome_unknown'], dtype='<U19')"
            ]
          },
          "metadata": {},
          "execution_count": 36
        }
      ],
      "execution_count": 36
    },
    {
      "cell_type": "markdown",
      "source": [
        "Certain features have been selected as part of the RFE"
      ],
      "metadata": {
        "tags": [],
        "cell_id": "00031-6f10459e-65a9-4d6c-8f90-73278e1eeff8",
        "deepnote_cell_type": "markdown",
        "id": "XNgcgUHVMC6U"
      }
    },
    {
      "cell_type": "code",
      "metadata": {
        "tags": [],
        "cell_id": "00036-2ceb897d-8007-4584-8670-f4fec55f29f0",
        "deepnote_to_be_reexecuted": false,
        "source_hash": "a04d1257",
        "execution_millis": 0,
        "output_cleared": true,
        "execution_start": 1614035122155,
        "deepnote_cell_type": "code",
        "id": "MLom9lzxMC6V"
      },
      "source": [
        "cols=['job_admin.', 'job_blue-collar', 'job_entrepreneur',\n",
        "       'job_housemaid', 'job_management', 'job_self-employed',\n",
        "       'job_services', 'job_student', 'job_technician', 'job_unemployed',\n",
        "       'job_unknown', 'marital_divorced', 'marital_married',\n",
        "       'marital_single', 'education_primary', 'education_secondary',\n",
        "       'education_tertiary', 'education_unknown', 'housing_no',\n",
        "       'housing_yes']\n",
        "\n",
        "X=os_data_X[cols]\n",
        "y=os_data_y['y']"
      ],
      "execution_count": 37,
      "outputs": []
    },
    {
      "cell_type": "code",
      "metadata": {
        "tags": [],
        "cell_id": "00039-e56cc7e9-edbc-4818-9d98-bd9d962be348",
        "deepnote_to_be_reexecuted": false,
        "source_hash": "c9db2240",
        "execution_millis": 1204,
        "output_cleared": false,
        "execution_start": 1614035136329,
        "deepnote_cell_type": "code",
        "id": "0aSr8F6qMC6V",
        "outputId": "01cc0014-28cd-4466-a7eb-bf4670d83181",
        "colab": {
          "base_uri": "https://localhost:8080/"
        }
      },
      "source": [
        "import statsmodels.api as sm\n",
        "logit_model=sm.Logit(y,X)\n",
        "result=logit_model.fit()\n",
        "print(result.summary2())"
      ],
      "execution_count": 38,
      "outputs": [
        {
          "output_type": "stream",
          "name": "stderr",
          "text": [
            "/usr/local/lib/python3.7/dist-packages/statsmodels/tools/_testing.py:19: FutureWarning: pandas.util.testing is deprecated. Use the functions in the public API at pandas.testing instead.\n",
            "  import pandas.util.testing as tm\n"
          ]
        },
        {
          "output_type": "stream",
          "name": "stdout",
          "text": [
            "Optimization terminated successfully.\n",
            "         Current function value: 0.336803\n",
            "         Iterations 7\n",
            "                           Results: Logit\n",
            "====================================================================\n",
            "Model:               Logit             Pseudo R-squared:  0.039     \n",
            "Dependent Variable:  y                 AIC:               2167.2896 \n",
            "Date:                2022-03-28 11:55  BIC:               2276.3623 \n",
            "No. Observations:    3164              Log-Likelihood:    -1065.6   \n",
            "Df Model:            17                LL-Null:           -1108.8   \n",
            "Df Residuals:        3146              LLR p-value:       2.8963e-11\n",
            "Converged:           1.0000            Scale:             1.0000    \n",
            "No. Iterations:      7.0000                                         \n",
            "--------------------------------------------------------------------\n",
            "                     Coef.   Std.Err.    z    P>|z|   [0.025  0.975]\n",
            "--------------------------------------------------------------------\n",
            "job_admin.           -0.9980   0.2777 -3.5937 0.0003 -1.5423 -0.4537\n",
            "job_blue-collar      -1.2231   0.2547 -4.8027 0.0000 -1.7222 -0.7240\n",
            "job_entrepreneur     -1.3656   0.4209 -3.2448 0.0012 -2.1905 -0.5407\n",
            "job_housemaid        -0.7785   0.4046 -1.9240 0.0544 -1.5716  0.0146\n",
            "job_management       -0.9005   0.2514 -3.5822 0.0003 -1.3932 -0.4078\n",
            "job_self-employed    -0.8975   0.3439 -2.6096 0.0091 -1.5716 -0.2234\n",
            "job_services         -0.9290   0.2911 -3.1911 0.0014 -1.4995 -0.3584\n",
            "job_student          -0.3261   0.3721 -0.8764 0.3808 -1.0553  0.4031\n",
            "job_technician       -0.9702   0.2485 -3.9039 0.0001 -1.4573 -0.4831\n",
            "job_unemployed       -0.8779   0.3771 -2.3279 0.0199 -1.6170 -0.1388\n",
            "job_unknown          -0.0091   0.5193 -0.0176 0.9860 -1.0270  1.0087\n",
            "marital_divorced      9.8364      nan     nan    nan     nan     nan\n",
            "marital_married       9.5883      nan     nan    nan     nan     nan\n",
            "marital_single        9.9022      nan     nan    nan     nan     nan\n",
            "education_primary   -10.5485      nan     nan    nan     nan     nan\n",
            "education_secondary -10.3948      nan     nan    nan     nan     nan\n",
            "education_tertiary  -10.0689      nan     nan    nan     nan     nan\n",
            "education_unknown   -10.7508      nan     nan    nan     nan     nan\n",
            "housing_no           -0.3196      nan     nan    nan     nan     nan\n",
            "housing_yes          -0.8206      nan     nan    nan     nan     nan\n",
            "====================================================================\n",
            "\n"
          ]
        },
        {
          "output_type": "stream",
          "name": "stderr",
          "text": [
            "/usr/local/lib/python3.7/dist-packages/statsmodels/base/model.py:1286: RuntimeWarning: invalid value encountered in sqrt\n",
            "  bse_ = np.sqrt(np.diag(self.cov_params()))\n"
          ]
        }
      ]
    },
    {
      "cell_type": "markdown",
      "source": [
        "<b>\n",
        "Logistic Regression Model Fitting"
      ],
      "metadata": {
        "tags": [],
        "cell_id": "00047-944e9740-2fbe-4dce-9061-c203d5d17d41",
        "deepnote_cell_type": "markdown",
        "id": "AW62pDR7MC6V"
      }
    },
    {
      "cell_type": "markdown",
      "source": [
        "The values from a linear regression cannot be interpreted as probabilites of class membership since their values can be greater than 1 or less than 0. Logistic regression ensures that the outputs are predicted as the likelihood it will be classed in that category"
      ],
      "metadata": {
        "tags": [],
        "cell_id": "00048-ba6dddae-284c-414e-b5a3-cddfa0a2eb82",
        "deepnote_cell_type": "markdown",
        "id": "Cdz0zos3MC6V"
      }
    },
    {
      "cell_type": "markdown",
      "source": [
        "We start by importing a logistic regression class from the sklearn package and fit the same regression model with what we did above"
      ],
      "metadata": {
        "tags": [],
        "cell_id": "00049-cae8391b-09d1-40f5-b9b8-1ac55a800c20",
        "deepnote_cell_type": "markdown",
        "id": "2fLZ4Da5MC6V"
      }
    },
    {
      "cell_type": "code",
      "metadata": {
        "tags": [],
        "cell_id": "00050-26b42fb0-12e7-4353-bd75-d9feea1f30be",
        "deepnote_to_be_reexecuted": false,
        "source_hash": "dcb20db7",
        "execution_millis": 1218,
        "output_cleared": false,
        "execution_start": 1614035144718,
        "deepnote_cell_type": "code",
        "id": "woDdKQvXMC6V",
        "outputId": "17787c83-f811-4821-b6fe-ce5b5d7ed482",
        "colab": {
          "base_uri": "https://localhost:8080/"
        }
      },
      "source": [
        "# Fit a logistic regression model and store the class predictions.\n",
        "from sklearn.linear_model import LogisticRegression\n",
        "from sklearn import metrics\n",
        "X_train, X_test, y_train, y_test = train_test_split(X, y, test_size=0.3, random_state=0)\n",
        "logreg = LogisticRegression()\n",
        "logreg.fit(X_train, y_train)"
      ],
      "execution_count": 39,
      "outputs": [
        {
          "output_type": "execute_result",
          "data": {
            "text/plain": [
              "LogisticRegression()"
            ]
          },
          "metadata": {},
          "execution_count": 39
        }
      ]
    },
    {
      "cell_type": "markdown",
      "source": [
        "Predicting the test set results and calculating the accuracy"
      ],
      "metadata": {
        "tags": [],
        "cell_id": "00045-f1b1f2af-fe23-4478-8876-b4be9a637ab8",
        "deepnote_cell_type": "markdown",
        "id": "GP6YKd-LMC6W"
      }
    },
    {
      "cell_type": "code",
      "metadata": {
        "tags": [],
        "cell_id": "00051-0c54c4f8-9db0-43a9-a7ce-3ffcbbf0578b",
        "deepnote_to_be_reexecuted": false,
        "source_hash": "d39130d8",
        "execution_millis": 21,
        "output_cleared": false,
        "execution_start": 1614035148582,
        "deepnote_cell_type": "code",
        "id": "WisXEN_-MC6W",
        "outputId": "30e220d5-0338-4ac4-8e9b-ae173d77b14e",
        "colab": {
          "base_uri": "https://localhost:8080/"
        }
      },
      "source": [
        "y_pred = logreg.predict(X_test)\n",
        "print('Accuracy of logistic regression classifier on test set: {:.2f}'.format(logreg.score(X_test, y_test)))"
      ],
      "execution_count": 40,
      "outputs": [
        {
          "output_type": "stream",
          "name": "stdout",
          "text": [
            "Accuracy of logistic regression classifier on test set: 0.88\n"
          ]
        }
      ]
    },
    {
      "cell_type": "markdown",
      "source": [
        "When we evaluate the performance of a logistic regression (or any classifier model), the standard metric to use is accuracy: How many class labels did we guess correctly? However, accuracy is only one of several metrics we could use when evaluating a classification model.\n",
        "\n",
        "$$Accuracy = \\frac{total~predicted~correct}{total~predicted}$$\n",
        "\n",
        "Accuracy alone doesn’t always give us a full picture.\n",
        "\n",
        "If we know a model is 75% accurate, it doesn’t provide any insight into why the 25% were wrong."
      ],
      "metadata": {
        "tags": [],
        "cell_id": "00061-84cc6842-7521-488c-82a3-9b5672969183",
        "deepnote_cell_type": "markdown",
        "id": "Nd9aGYzXMC6W"
      }
    },
    {
      "cell_type": "markdown",
      "source": [
        "Confusion Matrix"
      ],
      "metadata": {
        "tags": [],
        "cell_id": "00047-0655e385-0532-4d45-b68e-e955af80b6a8",
        "deepnote_cell_type": "markdown",
        "id": "e3KVfqEDMC6W"
      }
    },
    {
      "cell_type": "code",
      "metadata": {
        "tags": [],
        "cell_id": "00052-a6237f7c-22a1-47aa-8041-93b86822cfb8",
        "deepnote_to_be_reexecuted": false,
        "source_hash": "f96b4bd0",
        "execution_millis": 19,
        "output_cleared": false,
        "execution_start": 1614035153211,
        "deepnote_cell_type": "code",
        "id": "YbWxtISPMC6W",
        "outputId": "9118c068-4e3f-4067-a079-dd84225ee3df",
        "colab": {
          "base_uri": "https://localhost:8080/"
        }
      },
      "source": [
        "from sklearn.metrics import confusion_matrix\n",
        "confusion_matrix = confusion_matrix(y_test, y_pred)\n",
        "print(confusion_matrix)"
      ],
      "execution_count": 41,
      "outputs": [
        {
          "output_type": "stream",
          "name": "stdout",
          "text": [
            "[[836   0]\n",
            " [114   0]]\n"
          ]
        }
      ]
    },
    {
      "cell_type": "markdown",
      "source": [
        "The result is telling us that we have 8053+315 correct predictions and 1230+7174 incorrect predictions."
      ],
      "metadata": {
        "tags": [],
        "cell_id": "00049-3050e7fc-5a19-4753-b1e4-c8efcb4fa762",
        "deepnote_cell_type": "markdown",
        "id": "JGI4_ccjMC6W"
      }
    },
    {
      "cell_type": "markdown",
      "source": [
        "Compute precision, recall, F-measure and support\n",
        "\n",
        "\n",
        "To quote from Scikit Learn:\n",
        "\n",
        "\n",
        "The precision is the ratio tp / (tp + fp) where tp is the number of true positives and fp the number of false positives. The precision is intuitively the ability of the \n",
        "\n",
        "classifier to not label a sample as positive if it is negative.\n",
        "\n",
        "\n",
        "The recall is the ratio tp / (tp + fn) where tp is the number of true positives and fn the number of false negatives. The recall is intuitively the ability of the \n",
        "\n",
        "classifier to find all the positive samples.\n",
        "\n",
        "The F-beta score can be interpreted as a weighted harmonic mean of the precision and recall, where an F-beta score reaches its best value at 1 and worst score at 0.\n",
        "\n",
        "The F-beta score weights the recall more than the precision by a factor of beta. beta = 1.0 means recall and precision are equally important.\n",
        "\n",
        "\n",
        "The support is the number of occurrences of each class in y_test."
      ],
      "metadata": {
        "tags": [],
        "cell_id": "00050-e2f7bc47-b336-4b53-9fe9-e427e788f07f",
        "deepnote_cell_type": "markdown",
        "id": "Wfgb0mTfMC6X"
      }
    },
    {
      "cell_type": "markdown",
      "source": [
        "more info on confusion matrix https://en.wikipedia.org/wiki/Confusion_matrix"
      ],
      "metadata": {
        "tags": [],
        "cell_id": "00066-fefd3d2f-c388-4f7d-9788-eeffdfcdebc9",
        "deepnote_cell_type": "markdown",
        "id": "HcCBvXwpMC6X"
      }
    },
    {
      "cell_type": "code",
      "metadata": {
        "tags": [],
        "cell_id": "00054-228ddf77-eee7-475a-8450-f85ef30b3ddd",
        "deepnote_to_be_reexecuted": false,
        "source_hash": "aae199db",
        "execution_millis": 28,
        "output_cleared": false,
        "execution_start": 1614035178053,
        "deepnote_cell_type": "code",
        "id": "xlzAeqPsMC6X",
        "outputId": "70a89e17-05e2-480a-f569-3bbf054c47dd",
        "colab": {
          "base_uri": "https://localhost:8080/"
        }
      },
      "source": [
        "from sklearn.metrics import classification_report\n",
        "print(classification_report(y_test, y_pred))"
      ],
      "execution_count": 42,
      "outputs": [
        {
          "output_type": "stream",
          "name": "stdout",
          "text": [
            "              precision    recall  f1-score   support\n",
            "\n",
            "           0       0.88      1.00      0.94       836\n",
            "           1       0.00      0.00      0.00       114\n",
            "\n",
            "    accuracy                           0.88       950\n",
            "   macro avg       0.44      0.50      0.47       950\n",
            "weighted avg       0.77      0.88      0.82       950\n",
            "\n"
          ]
        },
        {
          "output_type": "stream",
          "name": "stderr",
          "text": [
            "/usr/local/lib/python3.7/dist-packages/sklearn/metrics/_classification.py:1318: UndefinedMetricWarning: Precision and F-score are ill-defined and being set to 0.0 in labels with no predicted samples. Use `zero_division` parameter to control this behavior.\n",
            "  _warn_prf(average, modifier, msg_start, len(result))\n",
            "/usr/local/lib/python3.7/dist-packages/sklearn/metrics/_classification.py:1318: UndefinedMetricWarning: Precision and F-score are ill-defined and being set to 0.0 in labels with no predicted samples. Use `zero_division` parameter to control this behavior.\n",
            "  _warn_prf(average, modifier, msg_start, len(result))\n",
            "/usr/local/lib/python3.7/dist-packages/sklearn/metrics/_classification.py:1318: UndefinedMetricWarning: Precision and F-score are ill-defined and being set to 0.0 in labels with no predicted samples. Use `zero_division` parameter to control this behavior.\n",
            "  _warn_prf(average, modifier, msg_start, len(result))\n"
          ]
        }
      ]
    },
    {
      "cell_type": "markdown",
      "source": [
        "Interpretation: Of the entire test set, 91% of the promoted term deposit were the term deposit that the customers liked. Of the entire test set, 91% of the customer’s preferred term deposits that were promoted."
      ],
      "metadata": {
        "tags": [],
        "cell_id": "00055-5872a24d-1ebd-41e6-a627-6215fd17f697",
        "deepnote_cell_type": "markdown",
        "id": "Pa5F6YwBMC6X"
      }
    },
    {
      "cell_type": "markdown",
      "source": [
        "ROC Curve"
      ],
      "metadata": {
        "tags": [],
        "cell_id": "00053-f70b65ce-faff-4c5a-a2d8-6438ba6fd3e8",
        "deepnote_cell_type": "markdown",
        "id": "G8L47YmcMC6X"
      }
    },
    {
      "cell_type": "code",
      "metadata": {
        "tags": [],
        "cell_id": "00056-f03bad2c-5119-4aa4-a244-4a6b49bae248",
        "deepnote_to_be_reexecuted": false,
        "source_hash": "a2954424",
        "execution_millis": 344,
        "output_cleared": false,
        "execution_start": 1614035182547,
        "deepnote_cell_type": "code",
        "id": "rs51xUrNMC6X",
        "outputId": "80cb9f50-0161-437b-ebf9-18d43ee95d17",
        "colab": {
          "base_uri": "https://localhost:8080/",
          "height": 301
        }
      },
      "source": [
        "from sklearn.metrics import roc_auc_score\n",
        "from sklearn.metrics import roc_curve\n",
        "logit_roc_auc = roc_auc_score(y_test, logreg.predict(X_test))\n",
        "fpr, tpr, thresholds = roc_curve(y_test, logreg.predict_proba(X_test)[:,1])\n",
        "plt.figure()\n",
        "plt.plot(fpr, tpr, label='Logistic Regression (area = %0.2f)' % logit_roc_auc)\n",
        "plt.plot([0, 1], [0, 1],'r--')\n",
        "plt.xlim([0.0, 1.0])\n",
        "plt.ylim([0.0, 1.05])\n",
        "plt.xlabel('False Positive Rate')\n",
        "plt.ylabel('True Positive Rate')\n",
        "plt.title('Receiver operating characteristic')\n",
        "plt.legend(loc=\"lower right\")\n",
        "plt.show()"
      ],
      "execution_count": 43,
      "outputs": [
        {
          "output_type": "display_data",
          "data": {
            "text/plain": [
              "<Figure size 432x288 with 1 Axes>"
            ],
            "image/png": "[encoded data removed]"
          },
          "metadata": {
            "needs_background": "light"
          }
        }
      ]
    },
    {
      "cell_type": "markdown",
      "source": [
        "The receiver operating characteristic (ROC) curve is another common tool used with binary classifiers. The dotted line represents the ROC curve of a purely random classifier; a good classifier stays as far away from that line as possible (toward the top-left corner)."
      ],
      "metadata": {
        "tags": [],
        "cell_id": "00057-4ad96b23-3e02-40a8-8a7d-4fade5d7f88f",
        "deepnote_cell_type": "markdown",
        "id": "sK81HyAtMC6X"
      }
    },
    {
      "cell_type": "markdown",
      "source": [
        "Comparing Logistic Regression to Other Models\n",
        "Advantages of logistic regression:\n",
        "\n",
        "Highly interpretable (if you remember how).\n",
        "Model training and prediction are fast.\n",
        "No tuning is required (excluding regularisation).\n",
        "Features don't need scaling.\n",
        "Can perform well with a small number of observations.\n",
        "Outputs well-calibrated predicted probabilities.\n",
        "Disadvantages of logistic regression:\n",
        "\n",
        "Presumes a linear relationship between the features and the log odds of the response.\n",
        "Performance is (generally) not competitive with the best supervised learning methods."
      ],
      "metadata": {
        "tags": [],
        "cell_id": "00074-03fb9da9-95cf-4dcb-b953-16f28a1734b7",
        "deepnote_cell_type": "markdown",
        "id": "rOmD-5zGMC6Y"
      }
    },
    {
      "cell_type": "markdown",
      "source": [
        "<b> \n",
        "Understanding size of samples"
      ],
      "metadata": {
        "tags": [],
        "cell_id": "00074-ede6bfb7-c47b-4e0e-9ff9-acd7fb81e3fd",
        "deepnote_cell_type": "markdown",
        "id": "yxFxFsfVMC6Y"
      }
    },
    {
      "cell_type": "markdown",
      "source": [
        "rule of thumb - logistic regression typically requires a large sample size.  \n",
        "\n",
        "A general guideline is that you need at minimum of 10 cases with the least frequent outcome for each independent variable in your model. \n",
        "\n",
        "For example, if you have 5 independent variables and the expected probability of your least frequent outcome is .10, then you would need a minimum sample size of 500 (10*5 / .10)"
      ],
      "metadata": {
        "tags": [],
        "cell_id": "00075-b908ab26-8294-4b2f-9f91-ee03de7b3fd9",
        "deepnote_cell_type": "markdown",
        "id": "JFzqRcxwMC6Y"
      }
    },
    {
      "cell_type": "markdown",
      "source": [
        "<b>\n",
        "statistical testing"
      ],
      "metadata": {
        "tags": [],
        "cell_id": "00076-e6ad939c-2542-47c0-b2cf-732f8d3ea88f",
        "deepnote_cell_type": "markdown",
        "id": "12Zpv_uVMC6Y"
      }
    },
    {
      "cell_type": "markdown",
      "source": [
        "Logistic regression is one of the few machine learning models where we can obtain comprehensive statistics. By performing hypothesis testing, we can understand whether we have sufficient data to make strong conclusions about individual coefficients and the model as a whole. A very popular Python library which gives you these statistics with just a few lines of code is statsmodels."
      ],
      "metadata": {
        "tags": [],
        "cell_id": "00077-a8b9ae2a-468b-4149-ac39-8c8acd6a1af2",
        "deepnote_cell_type": "markdown",
        "id": "3BmhBN8cMC6Y"
      }
    },
    {
      "cell_type": "markdown",
      "source": [
        "<a style='text-decoration:none;line-height:16px;display:flex;color:#5B5B62;padding:10px;justify-content:end;' href='https://deepnote.com?utm_source=created-in-deepnote-cell&projectId=8a08b6fc-4059-46d3-b140-324ad35bca75' target=\"_blank\">\n",
        "<img style='display:inline;max-height:16px;margin:0px;margin-right:7.5px;' src='data:image/svg+xml;base64,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' > </img>\n",
        "Created in <span style='font-weight:600;margin-left:4px;'>Deepnote</span></a>"
      ],
      "metadata": {
        "tags": [],
        "created_in_deepnote_cell": true,
        "deepnote_cell_type": "markdown",
        "id": "CHDBecRZMC6Y"
      }
    }
  ],
  "nbformat": 4,
  "nbformat_minor": 0,
  "metadata": {
    "orig_nbformat": 2,
    "deepnote_notebook_id": "999813b3-036a-480b-b0ed-a83cf0208092",
    "deepnote": {
      "is_reactive": false
    },
    "deepnote_execution_queue": [],
    "colab": {
      "name": "Logistic Regression (3).ipynb",
      "provenance": [],
      "include_colab_link": true
    },
    "language_info": {
      "name": "python"
    },
    "kernelspec": {
      "name": "python3",
      "display_name": "Python 3"
    }
  }
}