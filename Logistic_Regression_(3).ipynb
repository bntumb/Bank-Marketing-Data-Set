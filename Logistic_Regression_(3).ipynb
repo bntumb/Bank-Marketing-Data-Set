{
  "cells": [
    {
      "cell_type": "markdown",
      "metadata": {
        "id": "view-in-github",
        "colab_type": "text"
      },
      "source": [
        "<a href=\"https://colab.research.google.com/github/bntumb/Bank-Marketing-Data-Set/blob/main/Logistic_Regression_(3).ipynb\" target=\"_parent\"><img src=\"https://colab.research.google.com/assets/colab-badge.svg\" alt=\"Open In Colab\"/></a>"
      ]
    },
    {
      "cell_type": "markdown",
      "source": [
        "<b>\n",
        "Understanding Euler's number and natural logarithm"
      ],
      "metadata": {
        "tags": [],
        "cell_id": "00077-75be9eef-804c-4e4d-876d-4bc74fceed17",
        "deepnote_cell_type": "markdown",
        "id": "ENnu031TMC6B"
      }
    },
    {
      "cell_type": "code",
      "metadata": {
        "tags": [],
        "cell_id": "00077-c676be79-755a-48bd-8027-6c44b30e0d81",
        "deepnote_to_be_reexecuted": false,
        "source_hash": "60d7fd56",
        "execution_millis": 128,
        "output_cleared": true,
        "execution_start": 1614003758781,
        "deepnote_cell_type": "code",
        "colab": {
          "base_uri": "https://localhost:8080/"
        },
        "id": "ig9v-C3xMC6E",
        "outputId": "9c314ed7-3d2e-4362-b9c2-6e95011e4601"
      },
      "source": [
        "#what is e? it is the base rate of growth shared by all processes that continue to grow\n",
        "import math \n",
        "math.e"
      ],
      "execution_count": null,
      "outputs": [
        {
          "output_type": "execute_result",
          "data": {
            "text/plain": [
              "2.718281828459045"
            ]
          },
          "metadata": {},
          "execution_count": 1
        }
      ]
    },
    {
      "cell_type": "markdown",
      "source": [
        "\n",
        "For example, if I have 5 GBP, and it grows 100% in 1 year (compounding continuously), I end up with 5*e^1 GBP:"
      ],
      "metadata": {
        "tags": [],
        "cell_id": "00079-8f81a98b-173e-4586-a546-480c3eb88831",
        "deepnote_cell_type": "markdown",
        "id": "sD38Ib3EMC6G"
      }
    },
    {
      "cell_type": "code",
      "metadata": {
        "tags": [],
        "cell_id": "00080-dd4dce2e-025d-4be1-8c05-f35c96e46ccf",
        "deepnote_to_be_reexecuted": false,
        "source_hash": "6b231bed",
        "execution_millis": 124,
        "output_cleared": true,
        "execution_start": 1614003758785,
        "deepnote_cell_type": "code",
        "colab": {
          "base_uri": "https://localhost:8080/",
          "height": 185
        },
        "id": "umqpQu0HMC6G",
        "outputId": "458e49ce-aae5-47b3-e489-a92c095e01c9"
      },
      "source": [
        "#100% growth for the 1st year\n",
        "5*np.exp(1)"
      ],
      "execution_count": null,
      "outputs": [
        {
          "output_type": "error",
          "ename": "NameError",
          "evalue": "ignored",
          "traceback": [
            "\u001b[0;31m---------------------------------------------------------------------------\u001b[0m",
            "\u001b[0;31mNameError\u001b[0m                                 Traceback (most recent call last)",
            "\u001b[0;32m<ipython-input-2-79614995acbf>\u001b[0m in \u001b[0;36m<module>\u001b[0;34m()\u001b[0m\n\u001b[1;32m      1\u001b[0m \u001b[0;31m#100% growth for the 1st year\u001b[0m\u001b[0;34m\u001b[0m\u001b[0;34m\u001b[0m\u001b[0;34m\u001b[0m\u001b[0m\n\u001b[0;32m----> 2\u001b[0;31m \u001b[0;36m5\u001b[0m\u001b[0;34m*\u001b[0m\u001b[0mnp\u001b[0m\u001b[0;34m.\u001b[0m\u001b[0mexp\u001b[0m\u001b[0;34m(\u001b[0m\u001b[0;36m1\u001b[0m\u001b[0;34m)\u001b[0m\u001b[0;34m\u001b[0m\u001b[0;34m\u001b[0m\u001b[0m\n\u001b[0m",
            "\u001b[0;31mNameError\u001b[0m: name 'np' is not defined"
          ]
        }
      ]
    },
    {
      "cell_type": "code",
      "metadata": {
        "tags": [],
        "cell_id": "00081-fe51b9a3-9a54-4fa8-a665-48376fb24c6a",
        "deepnote_to_be_reexecuted": true,
        "source_hash": "dead2a88",
        "execution_millis": 9,
        "output_cleared": true,
        "deepnote_cell_type": "code",
        "id": "MrEwb5ijMC6H"
      },
      "source": [
        "#100% growth for the 2nd year\n",
        "5*np.exp(2)"
      ],
      "execution_count": null,
      "outputs": []
    },
    {
      "cell_type": "code",
      "metadata": {
        "tags": [],
        "cell_id": "00082-d2ff1dbe-9d25-481d-9e36-52a83681786f",
        "deepnote_to_be_reexecuted": true,
        "source_hash": "54292c0a",
        "execution_millis": 228,
        "output_cleared": true,
        "deepnote_cell_type": "code",
        "id": "pocyfqhpMC6H"
      },
      "source": [
        "#visualise the data\n",
        "# Plot this as a curve\n",
        "plt.plot([np.exp(x) for x in range(5)])"
      ],
      "execution_count": null,
      "outputs": []
    },
    {
      "cell_type": "markdown",
      "source": [
        "The natural logarithm gives you the time needed to reach a certain level of growth. E.g. if I want to growth by a factor of e then it will take 1 unit of time assuming 100% growth rate"
      ],
      "metadata": {
        "tags": [],
        "cell_id": "00083-341fabc3-9d03-4fc5-be3d-27f503aaa10d",
        "deepnote_cell_type": "markdown",
        "id": "otxVdHAeMC6H"
      }
    },
    {
      "cell_type": "code",
      "metadata": {
        "tags": [],
        "cell_id": "00084-bb12af33-6e01-4280-996d-e0baf09cead6",
        "deepnote_to_be_reexecuted": true,
        "source_hash": "2603a247",
        "execution_millis": 8,
        "output_cleared": true,
        "deepnote_cell_type": "code",
        "id": "5tWT6r12MC6I"
      },
      "source": [
        "#grow 1 unit to 2.718\n",
        "np.log(2.718)"
      ],
      "execution_count": null,
      "outputs": []
    },
    {
      "cell_type": "code",
      "metadata": {
        "tags": [],
        "cell_id": "00085-9ffa7eac-aa36-4a84-935c-22aedbea826d",
        "deepnote_to_be_reexecuted": true,
        "source_hash": "e3c3557a",
        "execution_millis": 7,
        "output_cleared": true,
        "deepnote_cell_type": "code",
        "id": "QSKkPX_HMC6I"
      },
      "source": [
        "#grow by 2 units\n",
        "np.log(7.389)"
      ],
      "execution_count": null,
      "outputs": []
    },
    {
      "cell_type": "markdown",
      "source": [
        "Exponential and natural log are inverse of each other"
      ],
      "metadata": {
        "tags": [],
        "cell_id": "00086-215dbaaa-dc73-4e13-b2d9-41cfe6dc9937",
        "deepnote_cell_type": "markdown",
        "id": "dk5uZe8TMC6J"
      }
    },
    {
      "cell_type": "markdown",
      "source": [
        "<b> \n",
        "Probability, Odds and Log Odds"
      ],
      "metadata": {
        "tags": [],
        "cell_id": "00000-97d6f1ab-9873-4572-8b8b-862f8bf20973",
        "deepnote_cell_type": "markdown",
        "id": "ALPxv_jpMC6K"
      }
    },
    {
      "cell_type": "markdown",
      "source": [
        "Before we can understand how logistic regression predicts its outputs, we need to understand how probability, odds ratios and log odds are related. This is because logistic regression is an algorithm that predicts log odds and our ability to understand that helps us understand logistic regression. We can think of numeric odds as ratios e.g. 5/1 odds means 5 to 1 for every 6 plays or 2/3 means 2 to 3 for every 5 plays.\n",
        "\n",
        "Examples:\n",
        "\n",
        "Dice roll of 1: probability = 1/6, odds = 1/5 = 0.2\n",
        "\n",
        "probability = odds / (1+ odds)"
      ],
      "metadata": {
        "tags": [],
        "cell_id": "00001-6e725837-c5e2-4445-ad5a-641c7da8a58a",
        "deepnote_cell_type": "markdown",
        "id": "-CbkRagXMC6K"
      }
    },
    {
      "cell_type": "markdown",
      "source": [
        "Let's look at the difference between probabilities and odds in the below code"
      ],
      "metadata": {
        "tags": [],
        "cell_id": "00002-4acfa774-5586-4367-b6fb-b9b39dfa9bfd",
        "deepnote_cell_type": "markdown",
        "id": "4_ST3-8BMC6K"
      }
    },
    {
      "cell_type": "markdown",
      "source": [
        "Calculate the probability, odds and log odds in an ordinary deck of cards:\n",
        "(Hint : You may want to use the log function from NumPy)\n",
        "- 2 of spade\n",
        "- Hearts\n",
        "- Card with Queen on it"
      ],
      "metadata": {
        "tags": [],
        "cell_id": "00003-881c6642-c85b-4c21-8fa0-fda4f105785f",
        "deepnote_cell_type": "markdown",
        "id": "-GycvISYMC6K"
      }
    },
    {
      "cell_type": "code",
      "metadata": {
        "tags": [],
        "cell_id": "00014-d78619ea-d6b7-4c22-bc81-a0ab9d186781",
        "deepnote_to_be_reexecuted": true,
        "source_hash": "8ab120ce",
        "execution_millis": 5,
        "output_cleared": true,
        "deepnote_cell_type": "code",
        "id": "koIi6jXlMC6L"
      },
      "source": [
        "#A 2 of spades - there are 52 cards in a deck, how many 2 of spades are there? \n",
        "#probability\n",
        "1/52"
      ],
      "execution_count": null,
      "outputs": []
    },
    {
      "cell_type": "code",
      "metadata": {
        "tags": [],
        "cell_id": "00015-c44816bc-ca54-4177-b4b0-ebc6c18c1c2e",
        "deepnote_to_be_reexecuted": true,
        "source_hash": "57599d86",
        "execution_millis": 6,
        "output_cleared": true,
        "deepnote_cell_type": "code",
        "id": "hNR5cWBpMC6L"
      },
      "source": [
        "#odds\n",
        "1/51"
      ],
      "execution_count": null,
      "outputs": []
    },
    {
      "cell_type": "code",
      "metadata": {
        "tags": [],
        "cell_id": "00016-436864d3-dc8e-4fb1-bfce-c925a35eaba4",
        "deepnote_to_be_reexecuted": true,
        "source_hash": "eb1472b6",
        "execution_millis": 5,
        "output_cleared": true,
        "deepnote_cell_type": "code",
        "id": "R3ymo1QEMC6M"
      },
      "source": [
        "#log odds\n",
        "np.log(0.02)"
      ],
      "execution_count": null,
      "outputs": []
    },
    {
      "cell_type": "code",
      "metadata": {
        "tags": [],
        "cell_id": "00015-94b3ecd1-bf6e-4ff4-9629-2346c0237040",
        "deepnote_to_be_reexecuted": true,
        "source_hash": "2229fb4a",
        "execution_millis": 14,
        "output_cleared": true,
        "deepnote_cell_type": "code",
        "id": "SUktU1YSMC6M"
      },
      "source": [
        "# all cards are divided into 4 suits, in each suit there are 13 cards which means there are 13 heart cards\n",
        "13/52"
      ],
      "execution_count": null,
      "outputs": []
    },
    {
      "cell_type": "code",
      "metadata": {
        "tags": [],
        "cell_id": "00018-d6edc83b-0d05-42c0-b7c0-18e1b636712d",
        "deepnote_to_be_reexecuted": true,
        "source_hash": "ce62c1f1",
        "execution_millis": 5,
        "output_cleared": true,
        "deepnote_cell_type": "code",
        "id": "DfhrnEbSMC6M"
      },
      "source": [
        "#odds\n",
        "13/39"
      ],
      "execution_count": null,
      "outputs": []
    },
    {
      "cell_type": "code",
      "metadata": {
        "tags": [],
        "cell_id": "00019-aa95af74-20da-4e19-afe7-f624ed7b3473",
        "deepnote_to_be_reexecuted": true,
        "source_hash": "bdcc96dc",
        "execution_millis": 7,
        "output_cleared": true,
        "deepnote_cell_type": "code",
        "id": "xNzJeAGqMC6M"
      },
      "source": [
        "#log odds\n",
        "np.log(0.33)"
      ],
      "execution_count": null,
      "outputs": []
    },
    {
      "cell_type": "code",
      "metadata": {
        "tags": [],
        "cell_id": "00016-ad007694-adab-4aa3-b312-41509b2a1bdb",
        "deepnote_to_be_reexecuted": true,
        "source_hash": "b80a3fef",
        "execution_millis": 8,
        "output_cleared": true,
        "deepnote_cell_type": "code",
        "id": "xCOCw6V1MC6N"
      },
      "source": [
        "# if there are 4 suits and each suit has a queen then there are 4 queens\n",
        "4/52"
      ],
      "execution_count": null,
      "outputs": []
    },
    {
      "cell_type": "code",
      "metadata": {
        "tags": [],
        "cell_id": "00021-4c13d4b2-055d-48ef-aaa1-5856c2311b7a",
        "deepnote_to_be_reexecuted": true,
        "source_hash": "3fe4a237",
        "execution_millis": 5,
        "output_cleared": true,
        "deepnote_cell_type": "code",
        "id": "3_vERci8MC6N"
      },
      "source": [
        "4/48"
      ],
      "execution_count": null,
      "outputs": []
    },
    {
      "cell_type": "code",
      "metadata": {
        "tags": [],
        "cell_id": "00022-e3a6e5c5-6489-4f40-b94b-f963c357932f",
        "deepnote_to_be_reexecuted": true,
        "source_hash": "1d6971c0",
        "execution_millis": 10,
        "output_cleared": true,
        "deepnote_cell_type": "code",
        "id": "4h-7SJ8gMC6N"
      },
      "source": [
        "np.log(0.083)"
      ],
      "execution_count": null,
      "outputs": []
    },
    {
      "cell_type": "markdown",
      "source": [
        "Linear models are based on ordinary least squares algorithms - plotting a function as close to modelling most of the observed data points in the problem domain \n",
        "\n",
        "Logistic regression: log odds of a categorical response being true is modeled as a linear combination of the features aka a logit function.\n",
        "\n",
        "In simple terms:\n",
        "- Logistic regression outputs the probabilities of a specific class.\n",
        "- Those probabilities can be converted into class predictions.\n",
        "\n",
        "The logistic function has some nice properties:\n",
        "- Takes on an \"s\" shape\n",
        "- Output is bounded by 0 and 1"
      ],
      "metadata": {
        "tags": [],
        "cell_id": "00000-166cbb97-f466-4b23-a75d-d0ee074e4611",
        "deepnote_cell_type": "markdown",
        "id": "bY_fLIn9MC6N"
      }
    },
    {
      "cell_type": "markdown",
      "source": [
        "Use Pandas to load in the direct marketing data from the UCI machine learning website.\n",
        "The columns are different attributes which helps determine whether the client will subscribe to a term deposit (1 = yes, 0 = no)"
      ],
      "metadata": {
        "tags": [],
        "cell_id": "00001-b5ac1558-3585-4f50-8096-ed4e2037b8e6",
        "deepnote_cell_type": "markdown",
        "id": "gvAl1Wn1MC6N"
      }
    },
    {
      "cell_type": "code",
      "metadata": {
        "tags": [],
        "cell_id": "00001-4b32540b-cfc9-4c7e-92cf-b898bad65cb7",
        "deepnote_to_be_reexecuted": false,
        "source_hash": "496eeb08",
        "execution_millis": 0,
        "output_cleared": true,
        "execution_start": 1614031540087,
        "deepnote_cell_type": "code",
        "id": "x0j2Hma9MC6O"
      },
      "source": [
        "import pandas as pd\n",
        "import numpy as np\n",
        "from sklearn import preprocessing\n",
        "import matplotlib.pyplot as plt \n",
        "plt.rc(\"font\", size=14)\n",
        "from sklearn.linear_model import LogisticRegression\n",
        "from sklearn.model_selection import train_test_split\n",
        "import seaborn as sns\n",
        "sns.set(style=\"white\")\n",
        "sns.set(style=\"whitegrid\", color_codes=True)"
      ],
      "execution_count": null,
      "outputs": []
    },
    {
      "cell_type": "code",
      "metadata": {
        "tags": [],
        "cell_id": "00003-cb61af86-b8d0-496d-8ac4-cc290e232c1e",
        "deepnote_to_be_reexecuted": false,
        "source_hash": "39f2cc16",
        "execution_millis": 73,
        "output_cleared": true,
        "execution_start": 1614031542508,
        "deepnote_cell_type": "code",
        "colab": {
          "base_uri": "https://localhost:8080/",
          "height": 313
        },
        "id": "gq_uCGImMC6O",
        "outputId": "eb56147f-fb7c-47b2-ac2c-c0003d82ae55"
      },
      "source": [
        "data = pd.read_csv('bank.csv')"
      ],
      "execution_count": null,
      "outputs": [
        {
          "output_type": "error",
          "ename": "FileNotFoundError",
          "evalue": "ignored",
          "traceback": [
            "\u001b[0;31m---------------------------------------------------------------------------\u001b[0m",
            "\u001b[0;31mFileNotFoundError\u001b[0m                         Traceback (most recent call last)",
            "\u001b[0;32m<ipython-input-4-75d72833f601>\u001b[0m in \u001b[0;36m<module>\u001b[0;34m()\u001b[0m\n\u001b[0;32m----> 1\u001b[0;31m \u001b[0mdata\u001b[0m \u001b[0;34m=\u001b[0m \u001b[0mpd\u001b[0m\u001b[0;34m.\u001b[0m\u001b[0mread_csv\u001b[0m\u001b[0;34m(\u001b[0m\u001b[0;34m'bank.csv'\u001b[0m\u001b[0;34m)\u001b[0m\u001b[0;34m\u001b[0m\u001b[0;34m\u001b[0m\u001b[0m\n\u001b[0m",
            "\u001b[0;32m/usr/local/lib/python3.7/dist-packages/pandas/util/_decorators.py\u001b[0m in \u001b[0;36mwrapper\u001b[0;34m(*args, **kwargs)\u001b[0m\n\u001b[1;32m    309\u001b[0m                     \u001b[0mstacklevel\u001b[0m\u001b[0;34m=\u001b[0m\u001b[0mstacklevel\u001b[0m\u001b[0;34m,\u001b[0m\u001b[0;34m\u001b[0m\u001b[0;34m\u001b[0m\u001b[0m\n\u001b[1;32m    310\u001b[0m                 )\n\u001b[0;32m--> 311\u001b[0;31m             \u001b[0;32mreturn\u001b[0m \u001b[0mfunc\u001b[0m\u001b[0;34m(\u001b[0m\u001b[0;34m*\u001b[0m\u001b[0margs\u001b[0m\u001b[0;34m,\u001b[0m \u001b[0;34m**\u001b[0m\u001b[0mkwargs\u001b[0m\u001b[0;34m)\u001b[0m\u001b[0;34m\u001b[0m\u001b[0;34m\u001b[0m\u001b[0m\n\u001b[0m\u001b[1;32m    312\u001b[0m \u001b[0;34m\u001b[0m\u001b[0m\n\u001b[1;32m    313\u001b[0m         \u001b[0;32mreturn\u001b[0m \u001b[0mwrapper\u001b[0m\u001b[0;34m\u001b[0m\u001b[0;34m\u001b[0m\u001b[0m\n",
            "\u001b[0;32m/usr/local/lib/python3.7/dist-packages/pandas/io/parsers/readers.py\u001b[0m in \u001b[0;36mread_csv\u001b[0;34m(filepath_or_buffer, sep, delimiter, header, names, index_col, usecols, squeeze, prefix, mangle_dupe_cols, dtype, engine, converters, true_values, false_values, skipinitialspace, skiprows, skipfooter, nrows, na_values, keep_default_na, na_filter, verbose, skip_blank_lines, parse_dates, infer_datetime_format, keep_date_col, date_parser, dayfirst, cache_dates, iterator, chunksize, compression, thousands, decimal, lineterminator, quotechar, quoting, doublequote, escapechar, comment, encoding, encoding_errors, dialect, error_bad_lines, warn_bad_lines, on_bad_lines, delim_whitespace, low_memory, memory_map, float_precision, storage_options)\u001b[0m\n\u001b[1;32m    584\u001b[0m     \u001b[0mkwds\u001b[0m\u001b[0;34m.\u001b[0m\u001b[0mupdate\u001b[0m\u001b[0;34m(\u001b[0m\u001b[0mkwds_defaults\u001b[0m\u001b[0;34m)\u001b[0m\u001b[0;34m\u001b[0m\u001b[0;34m\u001b[0m\u001b[0m\n\u001b[1;32m    585\u001b[0m \u001b[0;34m\u001b[0m\u001b[0m\n\u001b[0;32m--> 586\u001b[0;31m     \u001b[0;32mreturn\u001b[0m \u001b[0m_read\u001b[0m\u001b[0;34m(\u001b[0m\u001b[0mfilepath_or_buffer\u001b[0m\u001b[0;34m,\u001b[0m \u001b[0mkwds\u001b[0m\u001b[0;34m)\u001b[0m\u001b[0;34m\u001b[0m\u001b[0;34m\u001b[0m\u001b[0m\n\u001b[0m\u001b[1;32m    587\u001b[0m \u001b[0;34m\u001b[0m\u001b[0m\n\u001b[1;32m    588\u001b[0m \u001b[0;34m\u001b[0m\u001b[0m\n",
            "\u001b[0;32m/usr/local/lib/python3.7/dist-packages/pandas/io/parsers/readers.py\u001b[0m in \u001b[0;36m_read\u001b[0;34m(filepath_or_buffer, kwds)\u001b[0m\n\u001b[1;32m    480\u001b[0m \u001b[0;34m\u001b[0m\u001b[0m\n\u001b[1;32m    481\u001b[0m     \u001b[0;31m# Create the parser.\u001b[0m\u001b[0;34m\u001b[0m\u001b[0;34m\u001b[0m\u001b[0;34m\u001b[0m\u001b[0m\n\u001b[0;32m--> 482\u001b[0;31m     \u001b[0mparser\u001b[0m \u001b[0;34m=\u001b[0m \u001b[0mTextFileReader\u001b[0m\u001b[0;34m(\u001b[0m\u001b[0mfilepath_or_buffer\u001b[0m\u001b[0;34m,\u001b[0m \u001b[0;34m**\u001b[0m\u001b[0mkwds\u001b[0m\u001b[0;34m)\u001b[0m\u001b[0;34m\u001b[0m\u001b[0;34m\u001b[0m\u001b[0m\n\u001b[0m\u001b[1;32m    483\u001b[0m \u001b[0;34m\u001b[0m\u001b[0m\n\u001b[1;32m    484\u001b[0m     \u001b[0;32mif\u001b[0m \u001b[0mchunksize\u001b[0m \u001b[0;32mor\u001b[0m \u001b[0miterator\u001b[0m\u001b[0;34m:\u001b[0m\u001b[0;34m\u001b[0m\u001b[0;34m\u001b[0m\u001b[0m\n",
            "\u001b[0;32m/usr/local/lib/python3.7/dist-packages/pandas/io/parsers/readers.py\u001b[0m in \u001b[0;36m__init__\u001b[0;34m(self, f, engine, **kwds)\u001b[0m\n\u001b[1;32m    809\u001b[0m             \u001b[0mself\u001b[0m\u001b[0;34m.\u001b[0m\u001b[0moptions\u001b[0m\u001b[0;34m[\u001b[0m\u001b[0;34m\"has_index_names\"\u001b[0m\u001b[0;34m]\u001b[0m \u001b[0;34m=\u001b[0m \u001b[0mkwds\u001b[0m\u001b[0;34m[\u001b[0m\u001b[0;34m\"has_index_names\"\u001b[0m\u001b[0;34m]\u001b[0m\u001b[0;34m\u001b[0m\u001b[0;34m\u001b[0m\u001b[0m\n\u001b[1;32m    810\u001b[0m \u001b[0;34m\u001b[0m\u001b[0m\n\u001b[0;32m--> 811\u001b[0;31m         \u001b[0mself\u001b[0m\u001b[0;34m.\u001b[0m\u001b[0m_engine\u001b[0m \u001b[0;34m=\u001b[0m \u001b[0mself\u001b[0m\u001b[0;34m.\u001b[0m\u001b[0m_make_engine\u001b[0m\u001b[0;34m(\u001b[0m\u001b[0mself\u001b[0m\u001b[0;34m.\u001b[0m\u001b[0mengine\u001b[0m\u001b[0;34m)\u001b[0m\u001b[0;34m\u001b[0m\u001b[0;34m\u001b[0m\u001b[0m\n\u001b[0m\u001b[1;32m    812\u001b[0m \u001b[0;34m\u001b[0m\u001b[0m\n\u001b[1;32m    813\u001b[0m     \u001b[0;32mdef\u001b[0m \u001b[0mclose\u001b[0m\u001b[0;34m(\u001b[0m\u001b[0mself\u001b[0m\u001b[0;34m)\u001b[0m\u001b[0;34m:\u001b[0m\u001b[0;34m\u001b[0m\u001b[0;34m\u001b[0m\u001b[0m\n",
            "\u001b[0;32m/usr/local/lib/python3.7/dist-packages/pandas/io/parsers/readers.py\u001b[0m in \u001b[0;36m_make_engine\u001b[0;34m(self, engine)\u001b[0m\n\u001b[1;32m   1038\u001b[0m             )\n\u001b[1;32m   1039\u001b[0m         \u001b[0;31m# error: Too many arguments for \"ParserBase\"\u001b[0m\u001b[0;34m\u001b[0m\u001b[0;34m\u001b[0m\u001b[0;34m\u001b[0m\u001b[0m\n\u001b[0;32m-> 1040\u001b[0;31m         \u001b[0;32mreturn\u001b[0m \u001b[0mmapping\u001b[0m\u001b[0;34m[\u001b[0m\u001b[0mengine\u001b[0m\u001b[0;34m]\u001b[0m\u001b[0;34m(\u001b[0m\u001b[0mself\u001b[0m\u001b[0;34m.\u001b[0m\u001b[0mf\u001b[0m\u001b[0;34m,\u001b[0m \u001b[0;34m**\u001b[0m\u001b[0mself\u001b[0m\u001b[0;34m.\u001b[0m\u001b[0moptions\u001b[0m\u001b[0;34m)\u001b[0m  \u001b[0;31m# type: ignore[call-arg]\u001b[0m\u001b[0;34m\u001b[0m\u001b[0;34m\u001b[0m\u001b[0m\n\u001b[0m\u001b[1;32m   1041\u001b[0m \u001b[0;34m\u001b[0m\u001b[0m\n\u001b[1;32m   1042\u001b[0m     \u001b[0;32mdef\u001b[0m \u001b[0m_failover_to_python\u001b[0m\u001b[0;34m(\u001b[0m\u001b[0mself\u001b[0m\u001b[0;34m)\u001b[0m\u001b[0;34m:\u001b[0m\u001b[0;34m\u001b[0m\u001b[0;34m\u001b[0m\u001b[0m\n",
            "\u001b[0;32m/usr/local/lib/python3.7/dist-packages/pandas/io/parsers/c_parser_wrapper.py\u001b[0m in \u001b[0;36m__init__\u001b[0;34m(self, src, **kwds)\u001b[0m\n\u001b[1;32m     49\u001b[0m \u001b[0;34m\u001b[0m\u001b[0m\n\u001b[1;32m     50\u001b[0m         \u001b[0;31m# open handles\u001b[0m\u001b[0;34m\u001b[0m\u001b[0;34m\u001b[0m\u001b[0;34m\u001b[0m\u001b[0m\n\u001b[0;32m---> 51\u001b[0;31m         \u001b[0mself\u001b[0m\u001b[0;34m.\u001b[0m\u001b[0m_open_handles\u001b[0m\u001b[0;34m(\u001b[0m\u001b[0msrc\u001b[0m\u001b[0;34m,\u001b[0m \u001b[0mkwds\u001b[0m\u001b[0;34m)\u001b[0m\u001b[0;34m\u001b[0m\u001b[0;34m\u001b[0m\u001b[0m\n\u001b[0m\u001b[1;32m     52\u001b[0m         \u001b[0;32massert\u001b[0m \u001b[0mself\u001b[0m\u001b[0;34m.\u001b[0m\u001b[0mhandles\u001b[0m \u001b[0;32mis\u001b[0m \u001b[0;32mnot\u001b[0m \u001b[0;32mNone\u001b[0m\u001b[0;34m\u001b[0m\u001b[0;34m\u001b[0m\u001b[0m\n\u001b[1;32m     53\u001b[0m \u001b[0;34m\u001b[0m\u001b[0m\n",
            "\u001b[0;32m/usr/local/lib/python3.7/dist-packages/pandas/io/parsers/base_parser.py\u001b[0m in \u001b[0;36m_open_handles\u001b[0;34m(self, src, kwds)\u001b[0m\n\u001b[1;32m    227\u001b[0m             \u001b[0mmemory_map\u001b[0m\u001b[0;34m=\u001b[0m\u001b[0mkwds\u001b[0m\u001b[0;34m.\u001b[0m\u001b[0mget\u001b[0m\u001b[0;34m(\u001b[0m\u001b[0;34m\"memory_map\"\u001b[0m\u001b[0;34m,\u001b[0m \u001b[0;32mFalse\u001b[0m\u001b[0;34m)\u001b[0m\u001b[0;34m,\u001b[0m\u001b[0;34m\u001b[0m\u001b[0;34m\u001b[0m\u001b[0m\n\u001b[1;32m    228\u001b[0m             \u001b[0mstorage_options\u001b[0m\u001b[0;34m=\u001b[0m\u001b[0mkwds\u001b[0m\u001b[0;34m.\u001b[0m\u001b[0mget\u001b[0m\u001b[0;34m(\u001b[0m\u001b[0;34m\"storage_options\"\u001b[0m\u001b[0;34m,\u001b[0m \u001b[0;32mNone\u001b[0m\u001b[0;34m)\u001b[0m\u001b[0;34m,\u001b[0m\u001b[0;34m\u001b[0m\u001b[0;34m\u001b[0m\u001b[0m\n\u001b[0;32m--> 229\u001b[0;31m             \u001b[0merrors\u001b[0m\u001b[0;34m=\u001b[0m\u001b[0mkwds\u001b[0m\u001b[0;34m.\u001b[0m\u001b[0mget\u001b[0m\u001b[0;34m(\u001b[0m\u001b[0;34m\"encoding_errors\"\u001b[0m\u001b[0;34m,\u001b[0m \u001b[0;34m\"strict\"\u001b[0m\u001b[0;34m)\u001b[0m\u001b[0;34m,\u001b[0m\u001b[0;34m\u001b[0m\u001b[0;34m\u001b[0m\u001b[0m\n\u001b[0m\u001b[1;32m    230\u001b[0m         )\n\u001b[1;32m    231\u001b[0m \u001b[0;34m\u001b[0m\u001b[0m\n",
            "\u001b[0;32m/usr/local/lib/python3.7/dist-packages/pandas/io/common.py\u001b[0m in \u001b[0;36mget_handle\u001b[0;34m(path_or_buf, mode, encoding, compression, memory_map, is_text, errors, storage_options)\u001b[0m\n\u001b[1;32m    705\u001b[0m                 \u001b[0mencoding\u001b[0m\u001b[0;34m=\u001b[0m\u001b[0mioargs\u001b[0m\u001b[0;34m.\u001b[0m\u001b[0mencoding\u001b[0m\u001b[0;34m,\u001b[0m\u001b[0;34m\u001b[0m\u001b[0;34m\u001b[0m\u001b[0m\n\u001b[1;32m    706\u001b[0m                 \u001b[0merrors\u001b[0m\u001b[0;34m=\u001b[0m\u001b[0merrors\u001b[0m\u001b[0;34m,\u001b[0m\u001b[0;34m\u001b[0m\u001b[0;34m\u001b[0m\u001b[0m\n\u001b[0;32m--> 707\u001b[0;31m                 \u001b[0mnewline\u001b[0m\u001b[0;34m=\u001b[0m\u001b[0;34m\"\"\u001b[0m\u001b[0;34m,\u001b[0m\u001b[0;34m\u001b[0m\u001b[0;34m\u001b[0m\u001b[0m\n\u001b[0m\u001b[1;32m    708\u001b[0m             )\n\u001b[1;32m    709\u001b[0m         \u001b[0;32melse\u001b[0m\u001b[0;34m:\u001b[0m\u001b[0;34m\u001b[0m\u001b[0;34m\u001b[0m\u001b[0m\n",
            "\u001b[0;31mFileNotFoundError\u001b[0m: [Errno 2] No such file or directory: 'bank.csv'"
          ]
        }
      ]
    },
    {
      "cell_type": "code",
      "metadata": {
        "tags": [],
        "cell_id": "00004-ddc818d2-b49b-47dd-8b9d-70fef9f7bded",
        "deepnote_to_be_reexecuted": true,
        "source_hash": "41313cfa",
        "execution_millis": 19,
        "output_cleared": true,
        "deepnote_cell_type": "code",
        "id": "N1uVEMs6MC6O"
      },
      "source": [
        "data.head()"
      ],
      "execution_count": null,
      "outputs": []
    },
    {
      "cell_type": "code",
      "metadata": {
        "tags": [],
        "cell_id": "00007-00041eaf-9bc6-4cd1-9d7d-4b7f476f2e6c",
        "deepnote_to_be_reexecuted": false,
        "source_hash": "25f19ce5",
        "execution_millis": 11,
        "output_cleared": true,
        "execution_start": 1614004149931,
        "deepnote_cell_type": "code",
        "id": "mJainMhtMC6O"
      },
      "source": [
        "#start exploring the data\n",
        "data['y'].value_counts()"
      ],
      "execution_count": null,
      "outputs": []
    },
    {
      "cell_type": "code",
      "metadata": {
        "tags": [],
        "cell_id": "00008-2e225a87-cd9f-46ef-be58-10e64cbed27d",
        "deepnote_to_be_reexecuted": false,
        "source_hash": "2fa8a160",
        "execution_millis": 182,
        "output_cleared": true,
        "execution_start": 1614003796883,
        "deepnote_cell_type": "code",
        "id": "Pm7lex_KMC6O"
      },
      "source": [
        "sns.countplot(x = 'y', data = data, palette = 'hls')\n",
        "plt.show()\n",
        "plt.savefig('count_plot')"
      ],
      "execution_count": null,
      "outputs": []
    },
    {
      "cell_type": "code",
      "metadata": {
        "tags": [],
        "cell_id": "00007-7f47e9ec-4391-46ec-bbdc-e58be77fa58b",
        "deepnote_to_be_reexecuted": false,
        "source_hash": "7cae0dbb",
        "execution_millis": 8,
        "output_cleared": true,
        "execution_start": 1614031546057,
        "deepnote_cell_type": "code",
        "id": "D5zgIaVoMC6O"
      },
      "source": [
        "data['y'] = data['y'].map({'yes': 1, 'no': 0})"
      ],
      "execution_count": null,
      "outputs": []
    },
    {
      "cell_type": "code",
      "metadata": {
        "tags": [],
        "cell_id": "00008-22106edd-d862-4db1-b36a-8f23df2e92bb",
        "deepnote_to_be_reexecuted": false,
        "source_hash": "acfd7af2",
        "execution_millis": 53,
        "output_cleared": true,
        "execution_start": 1614003807654,
        "deepnote_cell_type": "code",
        "id": "xNmQ52IYMC6P"
      },
      "source": [
        "#start exploring the data\n",
        "data.head()"
      ],
      "execution_count": null,
      "outputs": []
    },
    {
      "cell_type": "code",
      "metadata": {
        "tags": [],
        "cell_id": "00007-85678dff-b4b6-468f-b35b-6ff4b4077a94",
        "deepnote_to_be_reexecuted": false,
        "source_hash": "ae5e5fc8",
        "execution_millis": 18,
        "output_cleared": false,
        "execution_start": 1614031548429,
        "deepnote_cell_type": "code",
        "id": "C68OYsfSMC6P"
      },
      "source": [
        "count_no_sub = len(data[data['y']==0])\n",
        "count_sub = len(data[data['y']==1])\n",
        "pct_of_no_sub = count_no_sub/(count_no_sub+count_sub)\n",
        "print(\"percentage of no subscription is\", pct_of_no_sub*100)\n",
        "pct_of_sub = count_sub/(count_no_sub+count_sub)\n",
        "print(\"percentage of subscription\", pct_of_sub*100)"
      ],
      "execution_count": null,
      "outputs": []
    },
    {
      "cell_type": "markdown",
      "source": [
        "Our classes are imbalanced, and the ratio of no-subscription to subscription instances is 89:11. Before we go ahead to balance the classes, let’s do some more exploration."
      ],
      "metadata": {
        "tags": [],
        "cell_id": "00010-0c54a8ef-7099-4400-882c-e3328c2a778b",
        "deepnote_cell_type": "markdown",
        "id": "3ZBYcpp9MC6P"
      }
    },
    {
      "cell_type": "code",
      "metadata": {
        "tags": [],
        "cell_id": "00010-64fd1769-df21-47a4-bd71-90adb8aeca40",
        "deepnote_to_be_reexecuted": false,
        "source_hash": "a61306af",
        "execution_millis": 62,
        "output_cleared": true,
        "execution_start": 1614004160132,
        "deepnote_cell_type": "code",
        "id": "6ax-9KOLMC6Q"
      },
      "source": [
        "data.groupby('y').mean()"
      ],
      "execution_count": null,
      "outputs": []
    },
    {
      "cell_type": "markdown",
      "source": [
        "what are your observations?\n",
        "\n",
        "- look at age\n",
        "- look at when the customers were contacted\n",
        "\n",
        "https://archive.ics.uci.edu/ml/datasets/Bank+Marketing"
      ],
      "metadata": {
        "tags": [],
        "cell_id": "00012-b4bdb6dd-3ea5-4e24-835d-19d80520c4fb",
        "deepnote_cell_type": "markdown",
        "id": "1MCorKvsMC6Q"
      }
    },
    {
      "cell_type": "code",
      "metadata": {
        "tags": [],
        "cell_id": "00011-16ff2573-681c-4c03-93b4-2bdf1eb3178b",
        "deepnote_to_be_reexecuted": false,
        "source_hash": "610e004a",
        "execution_millis": 36,
        "output_cleared": true,
        "execution_start": 1614003817115,
        "deepnote_cell_type": "code",
        "id": "WFQtQ-1UMC6Q"
      },
      "source": [
        "data.groupby('job').mean()"
      ],
      "execution_count": null,
      "outputs": []
    },
    {
      "cell_type": "code",
      "metadata": {
        "tags": [],
        "cell_id": "00012-5fd8408b-9afb-4b45-a4af-dd1cf39a4805",
        "deepnote_to_be_reexecuted": true,
        "source_hash": "781d5a0b",
        "execution_millis": 33,
        "output_cleared": true,
        "deepnote_cell_type": "code",
        "id": "EItHTz5lMC6Q"
      },
      "source": [
        "data.groupby('marital').mean()"
      ],
      "execution_count": null,
      "outputs": []
    },
    {
      "cell_type": "code",
      "metadata": {
        "tags": [],
        "cell_id": "00013-1766b7ac-72c4-463a-a17c-a20674deaea7",
        "deepnote_to_be_reexecuted": true,
        "source_hash": "5eed3fc3",
        "execution_millis": 40,
        "output_cleared": true,
        "deepnote_cell_type": "code",
        "id": "5eNqzqhWMC6Q"
      },
      "source": [
        "data.groupby('education').mean()"
      ],
      "execution_count": null,
      "outputs": []
    },
    {
      "cell_type": "markdown",
      "source": [
        "Visualisation"
      ],
      "metadata": {
        "tags": [],
        "cell_id": "00014-f40fe57a-031a-4b9f-9f9f-acf16dbe8d2d",
        "deepnote_cell_type": "markdown",
        "id": "DAMTGtMwMC6R"
      }
    },
    {
      "cell_type": "code",
      "metadata": {
        "tags": [],
        "cell_id": "00015-052e36b6-21f3-4024-8601-6c1a65f6e2df",
        "deepnote_to_be_reexecuted": false,
        "source_hash": "3b41b8f5",
        "execution_millis": 377,
        "output_cleared": true,
        "execution_start": 1614004164412,
        "deepnote_cell_type": "code",
        "id": "SSg-RWRSMC6R"
      },
      "source": [
        "%matplotlib inline\n",
        "pd.crosstab(data.job,data.y).plot(kind='bar')\n",
        "plt.title('Purchase Frequency for Job Title')\n",
        "plt.xlabel('Job')\n",
        "plt.ylabel('Frequency of Purchase')"
      ],
      "execution_count": null,
      "outputs": []
    },
    {
      "cell_type": "markdown",
      "source": [
        "The frequency of purchase of the deposit depends a great deal on the job title. Thus, the job title can be a good predictor of the outcome variable."
      ],
      "metadata": {
        "tags": [],
        "cell_id": "00018-f2ac93e2-dca1-48ea-8bb7-1ae3714c63bd",
        "deepnote_cell_type": "markdown",
        "id": "zIbKdPLLMC6R"
      }
    },
    {
      "cell_type": "code",
      "metadata": {
        "tags": [],
        "cell_id": "00016-c6eabd43-1cf3-4b37-9fbc-6fd665003382",
        "deepnote_to_be_reexecuted": false,
        "source_hash": "3aa569f9",
        "execution_millis": 209,
        "output_cleared": true,
        "execution_start": 1614003822852,
        "deepnote_cell_type": "code",
        "id": "U4hO4r7BMC6R"
      },
      "source": [
        "table=pd.crosstab(data.marital,data.y)\n",
        "table.div(table.sum(1).astype(float), axis=0).plot(kind='bar', stacked=True)\n",
        "plt.title('Stacked Bar Chart of Marital Status vs Purchase')\n",
        "plt.xlabel('Marital Status')\n",
        "plt.ylabel('Proportion of Customers')\n"
      ],
      "execution_count": null,
      "outputs": []
    },
    {
      "cell_type": "markdown",
      "source": [
        "The marital status does not seem a strong predictor for the outcome variable."
      ],
      "metadata": {
        "tags": [],
        "cell_id": "00017-99dc280f-f4b9-4f20-8759-6603824aff07",
        "deepnote_cell_type": "markdown",
        "id": "VMXATSLxMC6R"
      }
    },
    {
      "cell_type": "code",
      "metadata": {
        "tags": [],
        "cell_id": "00018-49b211af-f01e-4adf-810f-f7c987a4f8fd",
        "deepnote_to_be_reexecuted": false,
        "source_hash": "a10332a6",
        "execution_millis": 320,
        "output_cleared": true,
        "execution_start": 1614003824829,
        "deepnote_cell_type": "code",
        "id": "m201zXIsMC6R"
      },
      "source": [
        "table=pd.crosstab(data.education,data.y)\n",
        "table.div(table.sum(1).astype(float), axis=0).plot(kind='bar', stacked=True)\n",
        "plt.title('Stacked Bar Chart of Education vs Purchase')\n",
        "plt.xlabel('Education')\n",
        "plt.ylabel('Proportion of Customers')\n",
        "plt.savefig('edu_vs_pur_stack')"
      ],
      "execution_count": null,
      "outputs": []
    },
    {
      "cell_type": "code",
      "metadata": {
        "tags": [],
        "cell_id": "00022-eae58c98-c199-4ee2-8a9d-abb4e4ed35c5",
        "deepnote_to_be_reexecuted": false,
        "source_hash": "286b2412",
        "execution_millis": 322,
        "output_cleared": true,
        "execution_start": 1614003826056,
        "deepnote_cell_type": "code",
        "id": "t4R2ns5sMC6R"
      },
      "source": [
        "pd.crosstab(data.month,data.y).plot(kind='bar')\n",
        "plt.title('Purchase Frequency for Month')\n",
        "plt.xlabel('Month')\n",
        "plt.ylabel('Frequency of Purchase')"
      ],
      "execution_count": null,
      "outputs": []
    },
    {
      "cell_type": "code",
      "metadata": {
        "tags": [],
        "cell_id": "00019-76656442-d5e4-47cb-87e4-b82489c14e68",
        "deepnote_to_be_reexecuted": false,
        "source_hash": "15ef26db",
        "execution_millis": 206,
        "output_cleared": true,
        "execution_start": 1614003827170,
        "deepnote_cell_type": "code",
        "id": "5CmXISoVMC6R"
      },
      "source": [
        "data.age.hist()\n",
        "plt.title('Histogram of Age')\n",
        "plt.xlabel('Age')\n",
        "plt.ylabel('Frequency')"
      ],
      "execution_count": null,
      "outputs": []
    },
    {
      "cell_type": "code",
      "metadata": {
        "tags": [],
        "cell_id": "00021-a399bbf7-2ba4-4a31-9b87-969fb1282513",
        "deepnote_to_be_reexecuted": false,
        "source_hash": "12ad939e",
        "execution_millis": 231,
        "output_cleared": true,
        "execution_start": 1614003828698,
        "deepnote_cell_type": "code",
        "id": "Z3uI5Cf3MC6S"
      },
      "source": [
        "pd.crosstab(data.poutcome,data.y).plot(kind='bar')\n",
        "plt.title('Purchase Frequency for Poutcome')\n",
        "plt.xlabel('Poutcome')\n",
        "plt.ylabel('Frequency of Purchase')"
      ],
      "execution_count": null,
      "outputs": []
    },
    {
      "cell_type": "markdown",
      "source": [
        "Create dummy variables\n",
        "That is variables with only two values, zero and one."
      ],
      "metadata": {
        "tags": [],
        "cell_id": "00022-cccddf36-88b2-4d41-9b39-1961e7b4a09f",
        "deepnote_cell_type": "markdown",
        "id": "5eEmYIvnMC6S"
      }
    },
    {
      "cell_type": "code",
      "metadata": {
        "tags": [],
        "cell_id": "00023-dbf4be3f-d784-40ec-971b-827066413686",
        "deepnote_to_be_reexecuted": false,
        "source_hash": "aedb578f",
        "execution_millis": 69,
        "output_cleared": true,
        "execution_start": 1614031554823,
        "deepnote_cell_type": "code",
        "id": "ABuCGDsGMC6S"
      },
      "source": [
        "cat_vars=['job','marital','education','default','housing','loan','contact','month','poutcome']\n",
        "for var in cat_vars:\n",
        "    cat_list='var'+'_'+var\n",
        "    cat_list = pd.get_dummies(data[var], prefix=var)\n",
        "    data1=data.join(cat_list)\n",
        "    data=data1\n",
        "cat_vars=['job','marital','education','default','housing','loan','contact','month','poutcome']\n",
        "data_vars=data.columns.values.tolist()\n",
        "to_keep=[i for i in data_vars if i not in cat_vars]"
      ],
      "execution_count": null,
      "outputs": []
    },
    {
      "cell_type": "markdown",
      "source": [
        "\n",
        "Confirm that this is the same value we would get when using the built-in .predict() method of the LinearRegression object."
      ],
      "metadata": {
        "tags": [],
        "cell_id": "00024-53c50707-dd3a-4806-b76d-68971b4f247f",
        "deepnote_cell_type": "markdown",
        "id": "3udPXUTfMC6S"
      }
    },
    {
      "cell_type": "code",
      "metadata": {
        "tags": [],
        "cell_id": "00024-15f8dc98-dfdc-4b00-9f54-d2c7654a8731",
        "deepnote_to_be_reexecuted": false,
        "source_hash": "2023711d",
        "execution_millis": 26,
        "output_cleared": false,
        "execution_start": 1614031558178,
        "deepnote_cell_type": "code",
        "id": "d5Qb1xCfMC6S"
      },
      "source": [
        "data_final=data[to_keep]\n",
        "data_final.columns.values"
      ],
      "execution_count": null,
      "outputs": []
    },
    {
      "cell_type": "code",
      "metadata": {
        "tags": [],
        "cell_id": "00052-24522d1b-02cd-4714-8c5c-d18f069cec7d",
        "deepnote_to_be_reexecuted": false,
        "source_hash": "4422c39f",
        "execution_millis": 212,
        "output_cleared": true,
        "execution_start": 1614004177703,
        "deepnote_cell_type": "code",
        "id": "TF0C6J0XMC6S"
      },
      "source": [
        "data_final.head()"
      ],
      "execution_count": null,
      "outputs": []
    },
    {
      "cell_type": "markdown",
      "source": [
        "Over-sampling using SMOTE\n",
        "With our training data created, we will up-sample the no-subscription using the SMOTE algorithm(Synthetic Minority Oversampling Technique). \n",
        "At a high level, SMOTE:\n",
        "1. Works by creating synthetic samples from the minor class (no-subscription) instead of creating copies.\n",
        "2. Randomly choosing one of the k-nearest-neighbors and using it to create a similar, but randomly tweaked, new observations.\n",
        "We are going to implement SMOTE in Python."
      ],
      "metadata": {
        "tags": [],
        "cell_id": "00026-74ec72a7-6019-4c97-aea6-2e2800061aac",
        "deepnote_cell_type": "markdown",
        "id": "I08gcuD7MC6S"
      }
    },
    {
      "cell_type": "code",
      "metadata": {
        "tags": [],
        "cell_id": "00056-402c48b5-a175-46a9-b895-ea20c2f9cfe6",
        "deepnote_to_be_reexecuted": false,
        "source_hash": "ed3ad823",
        "execution_millis": 1,
        "output_cleared": true,
        "execution_start": 1614033558815,
        "deepnote_cell_type": "code",
        "id": "BNqSdiKSMC6T"
      },
      "source": [
        "from imblearn.over_sampling import SMOTE"
      ],
      "execution_count": null,
      "outputs": []
    },
    {
      "cell_type": "code",
      "metadata": {
        "tags": [],
        "cell_id": "00057-68ccfc8a-6901-4066-b8d8-de75e0c048bf",
        "deepnote_to_be_reexecuted": false,
        "source_hash": "32ced6a8",
        "execution_millis": 11,
        "output_cleared": false,
        "execution_start": 1614033562997,
        "deepnote_cell_type": "code",
        "id": "cUfCHRgYMC6T"
      },
      "source": [
        "import platform; print(platform.platform())\n",
        "import sys; print(\"Python\", sys.version)\n",
        "import numpy; print(\"NumPy\", numpy.__version__)\n",
        "import scipy; print(\"SciPy\", scipy.__version__)\n",
        "import sklearn; print(\"Scikit-Learn\", sklearn.__version__)\n",
        "import imblearn; print(\"ImbLearn\", imblearn.__version__)"
      ],
      "execution_count": null,
      "outputs": []
    },
    {
      "cell_type": "code",
      "metadata": {
        "tags": [],
        "cell_id": "00030-eca52453-e712-4e94-af4c-58a848e5f050",
        "deepnote_to_be_reexecuted": false,
        "source_hash": "43006392",
        "execution_millis": 402,
        "output_cleared": false,
        "execution_start": 1614034336167,
        "deepnote_cell_type": "code",
        "id": "oa-1Vj2PMC6T"
      },
      "source": [
        "X = data_final.loc[:, data_final.columns != 'y']\n",
        "y = data_final.loc[:, data_final.columns == 'y']\n",
        "from imblearn.over_sampling import SMOTE\n",
        "os = SMOTE()\n",
        "X_train, X_test, y_train, y_test = train_test_split(X, y, test_size=0.3, random_state=0)\n",
        "columns = X_train.columns\n",
        "os_data_X,os_data_y=os.fit_resample(X_train, y_train)\n",
        "os_data_X = pd.DataFrame(data=os_data_X,columns=columns )  \n",
        "os_data_y= pd.DataFrame(data=os_data_y,columns=['y'])\n",
        "# we can Check the numbers of our data\n",
        "print(\"length of oversampled data is \",len(os_data_X))\n",
        "print(\"Number of no subscription in oversampled data\",len(os_data_y[os_data_y['y']==0]))\n",
        "print(\"Number of subscription\",len(os_data_y[os_data_y['y']==1]))\n",
        "print(\"Proportion of no subscription data in oversampled data is \",len(os_data_y[os_data_y['y']==0])/len(os_data_X))\n",
        "print(\"Proportion of subscription data in oversampled data is \",len(os_data_y[os_data_y['y']==1])/len(os_data_X))"
      ],
      "execution_count": null,
      "outputs": []
    },
    {
      "cell_type": "code",
      "source": [
        "os.fit_resample"
      ],
      "metadata": {
        "tags": [],
        "cell_id": "00057-7db3def1-caf2-4d67-a14c-db0fe1f5574c",
        "deepnote_to_be_reexecuted": false,
        "source_hash": "c5a2ba1f",
        "execution_millis": 9,
        "execution_start": 1614034356425,
        "deepnote_cell_type": "code",
        "id": "NAMJPNLDMC6T"
      },
      "outputs": [],
      "execution_count": null
    },
    {
      "cell_type": "code",
      "source": [
        "# you had \n",
        "os_data_X = pd.DataFrame(data=X_train,columns=columns )  ## have you changed these lines from the original? data=X_train  \n",
        "os_data_y= pd.DataFrame(data=y_train,columns=['y'])\n",
        "# but it should be \n",
        "os_data_X = pd.DataFrame(data=os_data_X,columns=columns )  \n",
        "os_data_y= pd.DataFrame(data=os_data_y,columns=['y'])"
      ],
      "metadata": {
        "tags": [],
        "cell_id": "00058-e3a11478-a699-44ec-afc0-12dc65a23fb0",
        "deepnote_to_be_reexecuted": false,
        "source_hash": "99215177",
        "execution_millis": 0,
        "execution_start": 1614034229723,
        "deepnote_cell_type": "code",
        "id": "543N0VGRMC6T"
      },
      "outputs": [],
      "execution_count": null
    },
    {
      "cell_type": "markdown",
      "source": [
        "Can you see what we have done here? Using SMOTE we have actually synthetically created a perfectly balanced set if data. We oversampled on the training data so that no information in the test data is used to create synthetic observations. \n"
      ],
      "metadata": {
        "tags": [],
        "cell_id": "00028-3008463d-880b-4b14-bb27-7bdccbb36056",
        "deepnote_cell_type": "markdown",
        "id": "sXFQv135MC6U"
      }
    },
    {
      "cell_type": "markdown",
      "source": [
        "Next we will look at recursive feature elimination - this is based on the idea to repeatedly construct a model and choose either the best or worst performing feature, setting the feature aside and then repeating the process with the rest of the features. This process is applied until all features in the dataset are exhausted. The goal of RFE is to select features by recursively considering smaller and smaller sets of features."
      ],
      "metadata": {
        "tags": [],
        "cell_id": "00029-d739439d-b113-49d0-a63e-1cb008bfa9a6",
        "deepnote_cell_type": "markdown",
        "id": "C-zZqQEKMC6U"
      }
    },
    {
      "cell_type": "code",
      "metadata": {
        "tags": [],
        "cell_id": "00059-5bfad658-3d45-4fa4-8c9e-58a39123e9b6",
        "deepnote_to_be_reexecuted": true,
        "source_hash": "4bc937ac",
        "execution_millis": 4281,
        "output_cleared": true,
        "deepnote_cell_type": "code",
        "id": "FSlKOByyMC6U"
      },
      "source": [
        "pip install --upgrade pip"
      ],
      "execution_count": null,
      "outputs": []
    },
    {
      "cell_type": "code",
      "metadata": {
        "tags": [],
        "cell_id": "00030-98687750-c54e-4361-a50a-feb3755907a5",
        "deepnote_to_be_reexecuted": false,
        "source_hash": "5a8e7bba",
        "execution_millis": 81961,
        "output_cleared": false,
        "execution_start": 1614034479916,
        "deepnote_cell_type": "code",
        "id": "VBUWsqhkMC6U"
      },
      "source": [
        "data_final_vars=data_final.columns.values.tolist()\n",
        "y=['y']\n",
        "X=[i for i in data_final_vars if i not in y]\n",
        "from sklearn.feature_selection import RFE\n",
        "from sklearn.linear_model import LogisticRegression\n",
        "\n",
        "logreg = LogisticRegression()\n",
        "\n",
        "rfe = RFE(logreg, 20)\n",
        "rfe = rfe.fit(os_data_X, os_data_y.values.ravel())\n",
        "print(rfe.support_)\n",
        "print(rfe.ranking_)"
      ],
      "execution_count": null,
      "outputs": []
    },
    {
      "cell_type": "code",
      "metadata": {
        "tags": [],
        "cell_id": "00036-70ede16d-4156-4461-9e2c-46a1e8c2109f",
        "deepnote_to_be_reexecuted": false,
        "source_hash": "5da79852",
        "execution_millis": 21,
        "output_cleared": false,
        "execution_start": 1614034938857,
        "deepnote_cell_type": "code",
        "id": "MLRYdC6rMC6U"
      },
      "source": [
        "print(X)"
      ],
      "execution_count": null,
      "outputs": []
    },
    {
      "cell_type": "code",
      "source": [
        "np.array(X)[rfe.support_]"
      ],
      "metadata": {
        "tags": [],
        "cell_id": "00064-90657058-7712-4f9d-b324-925c2e1dc4e2",
        "deepnote_to_be_reexecuted": false,
        "source_hash": "afc3fb",
        "execution_millis": 14,
        "execution_start": 1614034928940,
        "deepnote_cell_type": "code",
        "id": "POMMqqS8MC6U"
      },
      "outputs": [],
      "execution_count": null
    },
    {
      "cell_type": "markdown",
      "source": [
        "Certain features have been selected as part of the RFE"
      ],
      "metadata": {
        "tags": [],
        "cell_id": "00031-6f10459e-65a9-4d6c-8f90-73278e1eeff8",
        "deepnote_cell_type": "markdown",
        "id": "XNgcgUHVMC6U"
      }
    },
    {
      "cell_type": "code",
      "metadata": {
        "tags": [],
        "cell_id": "00036-2ceb897d-8007-4584-8670-f4fec55f29f0",
        "deepnote_to_be_reexecuted": false,
        "source_hash": "a04d1257",
        "execution_millis": 0,
        "output_cleared": true,
        "execution_start": 1614035122155,
        "deepnote_cell_type": "code",
        "id": "MLom9lzxMC6V"
      },
      "source": [
        "cols=['job_admin.', 'job_blue-collar', 'job_entrepreneur',\n",
        "       'job_housemaid', 'job_management', 'job_self-employed',\n",
        "       'job_services', 'job_student', 'job_technician', 'job_unemployed',\n",
        "       'job_unknown', 'marital_divorced', 'marital_married',\n",
        "       'marital_single', 'education_primary', 'education_secondary',\n",
        "       'education_tertiary', 'education_unknown', 'housing_no',\n",
        "       'housing_yes']\n",
        "\n",
        "X=os_data_X[cols]\n",
        "y=os_data_y['y']"
      ],
      "execution_count": null,
      "outputs": []
    },
    {
      "cell_type": "code",
      "metadata": {
        "tags": [],
        "cell_id": "00039-e56cc7e9-edbc-4818-9d98-bd9d962be348",
        "deepnote_to_be_reexecuted": false,
        "source_hash": "c9db2240",
        "execution_millis": 1204,
        "output_cleared": false,
        "execution_start": 1614035136329,
        "deepnote_cell_type": "code",
        "id": "0aSr8F6qMC6V"
      },
      "source": [
        "import statsmodels.api as sm\n",
        "logit_model=sm.Logit(y,X)\n",
        "result=logit_model.fit()\n",
        "print(result.summary2())"
      ],
      "execution_count": null,
      "outputs": []
    },
    {
      "cell_type": "markdown",
      "source": [
        "<b>\n",
        "Logistic Regression Model Fitting"
      ],
      "metadata": {
        "tags": [],
        "cell_id": "00047-944e9740-2fbe-4dce-9061-c203d5d17d41",
        "deepnote_cell_type": "markdown",
        "id": "AW62pDR7MC6V"
      }
    },
    {
      "cell_type": "markdown",
      "source": [
        "The values from a linear regression cannot be interpreted as probabilites of class membership since their values can be greater than 1 or less than 0. Logistic regression ensures that the outputs are predicted as the likelihood it will be classed in that category"
      ],
      "metadata": {
        "tags": [],
        "cell_id": "00048-ba6dddae-284c-414e-b5a3-cddfa0a2eb82",
        "deepnote_cell_type": "markdown",
        "id": "Cdz0zos3MC6V"
      }
    },
    {
      "cell_type": "markdown",
      "source": [
        "We start by importing a logistic regression class from the sklearn package and fit the same regression model with what we did above"
      ],
      "metadata": {
        "tags": [],
        "cell_id": "00049-cae8391b-09d1-40f5-b9b8-1ac55a800c20",
        "deepnote_cell_type": "markdown",
        "id": "2fLZ4Da5MC6V"
      }
    },
    {
      "cell_type": "code",
      "metadata": {
        "tags": [],
        "cell_id": "00050-26b42fb0-12e7-4353-bd75-d9feea1f30be",
        "deepnote_to_be_reexecuted": false,
        "source_hash": "dcb20db7",
        "execution_millis": 1218,
        "output_cleared": false,
        "execution_start": 1614035144718,
        "deepnote_cell_type": "code",
        "id": "woDdKQvXMC6V"
      },
      "source": [
        "# Fit a logistic regression model and store the class predictions.\n",
        "from sklearn.linear_model import LogisticRegression\n",
        "from sklearn import metrics\n",
        "X_train, X_test, y_train, y_test = train_test_split(X, y, test_size=0.3, random_state=0)\n",
        "logreg = LogisticRegression()\n",
        "logreg.fit(X_train, y_train)"
      ],
      "execution_count": null,
      "outputs": []
    },
    {
      "cell_type": "markdown",
      "source": [
        "Predicting the test set results and calculating the accuracy"
      ],
      "metadata": {
        "tags": [],
        "cell_id": "00045-f1b1f2af-fe23-4478-8876-b4be9a637ab8",
        "deepnote_cell_type": "markdown",
        "id": "GP6YKd-LMC6W"
      }
    },
    {
      "cell_type": "code",
      "metadata": {
        "tags": [],
        "cell_id": "00051-0c54c4f8-9db0-43a9-a7ce-3ffcbbf0578b",
        "deepnote_to_be_reexecuted": false,
        "source_hash": "d39130d8",
        "execution_millis": 21,
        "output_cleared": false,
        "execution_start": 1614035148582,
        "deepnote_cell_type": "code",
        "id": "WisXEN_-MC6W"
      },
      "source": [
        "y_pred = logreg.predict(X_test)\n",
        "print('Accuracy of logistic regression classifier on test set: {:.2f}'.format(logreg.score(X_test, y_test)))"
      ],
      "execution_count": null,
      "outputs": []
    },
    {
      "cell_type": "markdown",
      "source": [
        "When we evaluate the performance of a logistic regression (or any classifier model), the standard metric to use is accuracy: How many class labels did we guess correctly? However, accuracy is only one of several metrics we could use when evaluating a classification model.\n",
        "\n",
        "$$Accuracy = \\frac{total~predicted~correct}{total~predicted}$$\n",
        "\n",
        "Accuracy alone doesn’t always give us a full picture.\n",
        "\n",
        "If we know a model is 75% accurate, it doesn’t provide any insight into why the 25% were wrong."
      ],
      "metadata": {
        "tags": [],
        "cell_id": "00061-84cc6842-7521-488c-82a3-9b5672969183",
        "deepnote_cell_type": "markdown",
        "id": "Nd9aGYzXMC6W"
      }
    },
    {
      "cell_type": "markdown",
      "source": [
        "Confusion Matrix"
      ],
      "metadata": {
        "tags": [],
        "cell_id": "00047-0655e385-0532-4d45-b68e-e955af80b6a8",
        "deepnote_cell_type": "markdown",
        "id": "e3KVfqEDMC6W"
      }
    },
    {
      "cell_type": "code",
      "metadata": {
        "tags": [],
        "cell_id": "00052-a6237f7c-22a1-47aa-8041-93b86822cfb8",
        "deepnote_to_be_reexecuted": false,
        "source_hash": "f96b4bd0",
        "execution_millis": 19,
        "output_cleared": false,
        "execution_start": 1614035153211,
        "deepnote_cell_type": "code",
        "id": "YbWxtISPMC6W"
      },
      "source": [
        "from sklearn.metrics import confusion_matrix\n",
        "confusion_matrix = confusion_matrix(y_test, y_pred)\n",
        "print(confusion_matrix)"
      ],
      "execution_count": null,
      "outputs": []
    },
    {
      "cell_type": "markdown",
      "source": [
        "The result is telling us that we have 8053+315 correct predictions and 1230+7174 incorrect predictions."
      ],
      "metadata": {
        "tags": [],
        "cell_id": "00049-3050e7fc-5a19-4753-b1e4-c8efcb4fa762",
        "deepnote_cell_type": "markdown",
        "id": "JGI4_ccjMC6W"
      }
    },
    {
      "cell_type": "markdown",
      "source": [
        "Compute precision, recall, F-measure and support\n",
        "\n",
        "\n",
        "To quote from Scikit Learn:\n",
        "\n",
        "\n",
        "The precision is the ratio tp / (tp + fp) where tp is the number of true positives and fp the number of false positives. The precision is intuitively the ability of the \n",
        "\n",
        "classifier to not label a sample as positive if it is negative.\n",
        "\n",
        "\n",
        "The recall is the ratio tp / (tp + fn) where tp is the number of true positives and fn the number of false negatives. The recall is intuitively the ability of the \n",
        "\n",
        "classifier to find all the positive samples.\n",
        "\n",
        "The F-beta score can be interpreted as a weighted harmonic mean of the precision and recall, where an F-beta score reaches its best value at 1 and worst score at 0.\n",
        "\n",
        "The F-beta score weights the recall more than the precision by a factor of beta. beta = 1.0 means recall and precision are equally important.\n",
        "\n",
        "\n",
        "The support is the number of occurrences of each class in y_test."
      ],
      "metadata": {
        "tags": [],
        "cell_id": "00050-e2f7bc47-b336-4b53-9fe9-e427e788f07f",
        "deepnote_cell_type": "markdown",
        "id": "Wfgb0mTfMC6X"
      }
    },
    {
      "cell_type": "markdown",
      "source": [
        "more info on confusion matrix https://en.wikipedia.org/wiki/Confusion_matrix"
      ],
      "metadata": {
        "tags": [],
        "cell_id": "00066-fefd3d2f-c388-4f7d-9788-eeffdfcdebc9",
        "deepnote_cell_type": "markdown",
        "id": "HcCBvXwpMC6X"
      }
    },
    {
      "cell_type": "code",
      "metadata": {
        "tags": [],
        "cell_id": "00054-228ddf77-eee7-475a-8450-f85ef30b3ddd",
        "deepnote_to_be_reexecuted": false,
        "source_hash": "aae199db",
        "execution_millis": 28,
        "output_cleared": false,
        "execution_start": 1614035178053,
        "deepnote_cell_type": "code",
        "id": "xlzAeqPsMC6X"
      },
      "source": [
        "from sklearn.metrics import classification_report\n",
        "print(classification_report(y_test, y_pred))"
      ],
      "execution_count": null,
      "outputs": []
    },
    {
      "cell_type": "markdown",
      "source": [
        "Interpretation: Of the entire test set, 91% of the promoted term deposit were the term deposit that the customers liked. Of the entire test set, 91% of the customer’s preferred term deposits that were promoted."
      ],
      "metadata": {
        "tags": [],
        "cell_id": "00055-5872a24d-1ebd-41e6-a627-6215fd17f697",
        "deepnote_cell_type": "markdown",
        "id": "Pa5F6YwBMC6X"
      }
    },
    {
      "cell_type": "markdown",
      "source": [
        "ROC Curve"
      ],
      "metadata": {
        "tags": [],
        "cell_id": "00053-f70b65ce-faff-4c5a-a2d8-6438ba6fd3e8",
        "deepnote_cell_type": "markdown",
        "id": "G8L47YmcMC6X"
      }
    },
    {
      "cell_type": "code",
      "metadata": {
        "tags": [],
        "cell_id": "00056-f03bad2c-5119-4aa4-a244-4a6b49bae248",
        "deepnote_to_be_reexecuted": false,
        "source_hash": "a2954424",
        "execution_millis": 344,
        "output_cleared": false,
        "execution_start": 1614035182547,
        "deepnote_cell_type": "code",
        "id": "rs51xUrNMC6X"
      },
      "source": [
        "from sklearn.metrics import roc_auc_score\n",
        "from sklearn.metrics import roc_curve\n",
        "logit_roc_auc = roc_auc_score(y_test, logreg.predict(X_test))\n",
        "fpr, tpr, thresholds = roc_curve(y_test, logreg.predict_proba(X_test)[:,1])\n",
        "plt.figure()\n",
        "plt.plot(fpr, tpr, label='Logistic Regression (area = %0.2f)' % logit_roc_auc)\n",
        "plt.plot([0, 1], [0, 1],'r--')\n",
        "plt.xlim([0.0, 1.0])\n",
        "plt.ylim([0.0, 1.05])\n",
        "plt.xlabel('False Positive Rate')\n",
        "plt.ylabel('True Positive Rate')\n",
        "plt.title('Receiver operating characteristic')\n",
        "plt.legend(loc=\"lower right\")\n",
        "plt.show()"
      ],
      "execution_count": null,
      "outputs": []
    },
    {
      "cell_type": "markdown",
      "source": [
        "The receiver operating characteristic (ROC) curve is another common tool used with binary classifiers. The dotted line represents the ROC curve of a purely random classifier; a good classifier stays as far away from that line as possible (toward the top-left corner)."
      ],
      "metadata": {
        "tags": [],
        "cell_id": "00057-4ad96b23-3e02-40a8-8a7d-4fade5d7f88f",
        "deepnote_cell_type": "markdown",
        "id": "sK81HyAtMC6X"
      }
    },
    {
      "cell_type": "markdown",
      "source": [
        "Comparing Logistic Regression to Other Models\n",
        "Advantages of logistic regression:\n",
        "\n",
        "Highly interpretable (if you remember how).\n",
        "Model training and prediction are fast.\n",
        "No tuning is required (excluding regularisation).\n",
        "Features don't need scaling.\n",
        "Can perform well with a small number of observations.\n",
        "Outputs well-calibrated predicted probabilities.\n",
        "Disadvantages of logistic regression:\n",
        "\n",
        "Presumes a linear relationship between the features and the log odds of the response.\n",
        "Performance is (generally) not competitive with the best supervised learning methods."
      ],
      "metadata": {
        "tags": [],
        "cell_id": "00074-03fb9da9-95cf-4dcb-b953-16f28a1734b7",
        "deepnote_cell_type": "markdown",
        "id": "rOmD-5zGMC6Y"
      }
    },
    {
      "cell_type": "markdown",
      "source": [
        "<b> \n",
        "Understanding size of samples"
      ],
      "metadata": {
        "tags": [],
        "cell_id": "00074-ede6bfb7-c47b-4e0e-9ff9-acd7fb81e3fd",
        "deepnote_cell_type": "markdown",
        "id": "yxFxFsfVMC6Y"
      }
    },
    {
      "cell_type": "markdown",
      "source": [
        "rule of thumb - logistic regression typically requires a large sample size.  \n",
        "\n",
        "A general guideline is that you need at minimum of 10 cases with the least frequent outcome for each independent variable in your model. \n",
        "\n",
        "For example, if you have 5 independent variables and the expected probability of your least frequent outcome is .10, then you would need a minimum sample size of 500 (10*5 / .10)"
      ],
      "metadata": {
        "tags": [],
        "cell_id": "00075-b908ab26-8294-4b2f-9f91-ee03de7b3fd9",
        "deepnote_cell_type": "markdown",
        "id": "JFzqRcxwMC6Y"
      }
    },
    {
      "cell_type": "markdown",
      "source": [
        "<b>\n",
        "statistical testing"
      ],
      "metadata": {
        "tags": [],
        "cell_id": "00076-e6ad939c-2542-47c0-b2cf-732f8d3ea88f",
        "deepnote_cell_type": "markdown",
        "id": "12Zpv_uVMC6Y"
      }
    },
    {
      "cell_type": "markdown",
      "source": [
        "Logistic regression is one of the few machine learning models where we can obtain comprehensive statistics. By performing hypothesis testing, we can understand whether we have sufficient data to make strong conclusions about individual coefficients and the model as a whole. A very popular Python library which gives you these statistics with just a few lines of code is statsmodels."
      ],
      "metadata": {
        "tags": [],
        "cell_id": "00077-a8b9ae2a-468b-4149-ac39-8c8acd6a1af2",
        "deepnote_cell_type": "markdown",
        "id": "3BmhBN8cMC6Y"
      }
    },
    {
      "cell_type": "markdown",
      "source": [
        "<a style='text-decoration:none;line-height:16px;display:flex;color:#5B5B62;padding:10px;justify-content:end;' href='https://deepnote.com?utm_source=created-in-deepnote-cell&projectId=8a08b6fc-4059-46d3-b140-324ad35bca75' target=\"_blank\">\n",
        "<img style='display:inline;max-height:16px;margin:0px;margin-right:7.5px;' src='data:image/svg+xml;base64,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' > </img>\n",
        "Created in <span style='font-weight:600;margin-left:4px;'>Deepnote</span></a>"
      ],
      "metadata": {
        "tags": [],
        "created_in_deepnote_cell": true,
        "deepnote_cell_type": "markdown",
        "id": "CHDBecRZMC6Y"
      }
    }
  ],
  "nbformat": 4,
  "nbformat_minor": 0,
  "metadata": {
    "orig_nbformat": 2,
    "deepnote_notebook_id": "999813b3-036a-480b-b0ed-a83cf0208092",
    "deepnote": {
      "is_reactive": false
    },
    "deepnote_execution_queue": [],
    "colab": {
      "name": "Logistic Regression (3).ipynb",
      "provenance": [],
      "include_colab_link": true
    },
    "language_info": {
      "name": "python"
    },
    "kernelspec": {
      "name": "python3",
      "display_name": "Python 3"
    }
  }
}